{
  "nbformat": 4,
  "nbformat_minor": 0,
  "metadata": {
    "colab": {
      "name": "[EX06]TRANSFORMER.ipynb의 사본",
      "provenance": [],
      "collapsed_sections": [],
      "machine_shape": "hm",
      "background_execution": "on",
      "mount_file_id": "1sYcLjOEkrFPdInUk1zD6WXkZIyru_s54",
      "authorship_tag": "ABX9TyOGf5qaoVyi7u+1CTXWatVX",
      "include_colab_link": true
    },
    "kernelspec": {
      "name": "python3",
      "display_name": "Python 3"
    },
    "language_info": {
      "name": "python"
    },
    "accelerator": "GPU"
  },
  "cells": [
    {
      "cell_type": "markdown",
      "metadata": {
        "id": "view-in-github",
        "colab_type": "text"
      },
      "source": [
        "<a href=\"https://colab.research.google.com/github/samuel0922/my_ex/blob/main/%5BEX06%5DTRANSFORMER.ipynb\" target=\"_parent\"><img src=\"https://colab.research.google.com/assets/colab-badge.svg\" alt=\"Open In Colab\"/></a>"
      ]
    },
    {
      "cell_type": "markdown",
      "source": [
        "# [EX06]TRANSFORMER\n"
      ],
      "metadata": {
        "id": "v5ATEpVT2ome"
      }
    },
    {
      "cell_type": "markdown",
      "source": [
        "## 개요 : 멋진 작사가 만들기\n",
        "데이터를 받아서 노래 가사를 생성해 주는 모델을 만들어 봄.\n",
        "\n",
        "## 진행 순서\n",
        "1. 환경 준비\n",
        "2. 데이터 준비\n",
        "3. 데이터 정제\n",
        "4. 토크나이징\n",
        "5. 모델 설계\n",
        "6. 모델 학습\n",
        "7. 모델 평가\n",
        "\n",
        "[ 루브릭 ]<br><br>\n",
        "[ 회고 ]"
      ],
      "metadata": {
        "id": "fo4e5_HE34eE"
      }
    },
    {
      "cell_type": "markdown",
      "source": [
        "### STEP 0. 환경 준비하기"
      ],
      "metadata": {
        "id": "_r_F02sR9OT9"
      }
    },
    {
      "cell_type": "code",
      "source": [
        "# 모듈 임포트\n",
        "\n",
        "import os, re  # re 정규표현식\n",
        "import numpy as np\n",
        "import tensorflow as tf\n",
        "from sklearn.model_selection import train_test_split\n",
        "\n",
        "import matplotlib.pyplot as plt"
      ],
      "metadata": {
        "id": "ONr-bjIT34nP"
      },
      "execution_count": null,
      "outputs": []
    },
    {
      "cell_type": "markdown",
      "source": [
        "### STEP 1. 데이터 준비하기"
      ],
      "metadata": {
        "id": "kETUk7XM37_X"
      }
    },
    {
      "cell_type": "code",
      "source": [
        "# 구글 드라이브에서 파일 불러오기 위해 마운트해 줌\n",
        "\n",
        "import sys\n",
        "from google.colab import drive\n",
        "drive.mount('/content/drive')"
      ],
      "metadata": {
        "colab": {
          "base_uri": "https://localhost:8080/"
        },
        "id": "olJgWRl834wh",
        "outputId": "30c03047-9c8b-4b9b-dd1c-72afe7e290a7"
      },
      "execution_count": null,
      "outputs": [
        {
          "output_type": "stream",
          "name": "stdout",
          "text": [
            "Drive already mounted at /content/drive; to attempt to forcibly remount, call drive.mount(\"/content/drive\", force_remount=True).\n"
          ]
        }
      ]
    },
    {
      "cell_type": "markdown",
      "source": [
        "### STEP 1. 1 데이터 문장 단위로 읽어오기"
      ],
      "metadata": {
        "id": "9ZAhYQNo9Yxe"
      }
    },
    {
      "cell_type": "code",
      "source": [
        "# 구글 드라이브에서 파일 불러오기\n",
        "# 파일을 읽기모드로 열고\n",
        "# 라인 단위로 끊어서 list 형태로 읽어옵니다.\n",
        "\n",
        "import glob\n",
        "\n",
        "txt_file_path = '/content/drive/MyDrive'+'/aiffel/lyricist/data/lyrics/*'\n",
        "txt_list = glob.glob(txt_file_path)\n",
        "\n",
        "raw_corpus = []\n",
        "\n",
        "# 여러개의 txt 파일을 모두 읽어서 raw_corpus 에 담습니다.\n",
        "for txt_file in txt_list:\n",
        "    with open(txt_file, \"r\") as f:\n",
        "        raw = f.read().splitlines()\n",
        "        raw_corpus.extend(raw)\n",
        "\n",
        "\n",
        "print(\"데이터 크기:\", len(raw_corpus))\n",
        "print(\"Examples:\\n\", raw_corpus[:3])\n"
      ],
      "metadata": {
        "colab": {
          "base_uri": "https://localhost:8080/"
        },
        "id": "DOYtuDg_345Z",
        "outputId": "2d9d7ded-6df9-4806-a00f-88cd947eb9ca"
      },
      "execution_count": null,
      "outputs": [
        {
          "output_type": "stream",
          "name": "stdout",
          "text": [
            "데이터 크기: 187088\n",
            "Examples:\n",
            " [\"Let's stay together I, I'm I'm so in love with you\", 'Whatever you want to do', 'Is all right with me']\n"
          ]
        }
      ]
    },
    {
      "cell_type": "markdown",
      "source": [
        "##### =>\n",
        "* 해당 데이터에는 불필요한 데이터(이 데이터는 대본이므로 화자, 공백)가 포함됨 -> 제거\n",
        "* 해당 데이를 제거할 기준을 찾아봄\n",
        "\n",
        "> * 화자 : 문장 뒤에 :로 끝남\n",
        "> * 공백 : 길이가 0"
      ],
      "metadata": {
        "id": "DfJ84n_PWHBP"
      }
    },
    {
      "cell_type": "markdown",
      "source": [
        "### STEP 1.2 데이터 정제하기\n",
        "\n",
        "1) 문장을 일정한 기준으로 쪼갬\n",
        "\n",
        "통상 많이 쓰는 기준. 띄어쓰기를 기준\n",
        "단, 문장부호, 대소문자, 특수문자 등 처리가 필요함\n",
        "\n",
        "1. 대소문자 : First와 first를 다른 단어로 인식\n",
        "2. \" \" : 문장이 각 단어에 \" \"를 기준으로 분리됨. \"Hi,\"\"my\",..\"John\"\n",
        "3. 특수문자 : ten-year-old boy에서 ten-year-old를 한 단어로 인식\n",
        "##### => 처리 => 정규표현식 이용해 필터링\n",
        "\n",
        "3. 모든 문자들을 소문자로 변환\n",
        "2. 문장 부호 양쪽에 공백 추가\n",
        "3. 특수문자들 모두 제거\n",
        "\n",
        "2) 정제된 문장을 모음"
      ],
      "metadata": {
        "id": "6G3IixEX9maQ"
      }
    },
    {
      "cell_type": "code",
      "source": [
        "# 공백 문장 길이 검사 => 길이 0이면 제외\n",
        "\n",
        "for idx, sentence in enumerate(raw_corpus):\n",
        "    if len(sentence) == 0: continue   # 길이가 0인 문장은 건너뜁니다.\n",
        "    if sentence[-1] == \":\": continue  # 문장의 끝이 : 인 문장은 건너뜁니다.\n",
        "\n",
        "    if idx > 9: break   # 일단 문장 10개만 확인해 볼 겁니다.\n",
        "        \n",
        "    print(sentence)"
      ],
      "metadata": {
        "colab": {
          "base_uri": "https://localhost:8080/"
        },
        "id": "3l7koc2A9tVz",
        "outputId": "e8e29c17-13da-461a-aaea-8cd3159bbc29"
      },
      "execution_count": null,
      "outputs": [
        {
          "output_type": "stream",
          "name": "stdout",
          "text": [
            "Let's stay together I, I'm I'm so in love with you\n",
            "Whatever you want to do\n",
            "Is all right with me\n",
            "Cause you make me feel so brand new\n",
            "And I want to spend my life with you Let me say that since, baby, since we've been together\n",
            "Loving you forever\n",
            "Is what I need\n",
            "Let me, be the one you come running to\n",
            "I'll never be untrue Oh baby\n",
            "Let's, let's stay together (gether)\n"
          ]
        }
      ]
    },
    {
      "cell_type": "code",
      "source": [
        "# 입력된 문장을 정제하는 함수 정의 using 정규표현식\n",
        "\n",
        "#     1. 소문자로 바꾸고 lower(), 양쪽 공백을 지웁니다 strip()\n",
        "#     2. 특수문자 양쪽에 공백을 넣고\n",
        "#     3. 여러개의 공백은 하나의 공백으로 바꿉니다\n",
        "#     4. a-zA-Z?.!,¿가 아닌(대,소문자, 마침표, 컴마, 물음표, 느낌표, 역물음표 제외) 모든 문자를 하나의 공백으로 바꿉니다\n",
        "#     5. 다시 양쪽 공백을 지웁니다\n",
        "#     6. 문장 시작에는 <start>, 끝에는 <end>를 추가합니다\n",
        "\n",
        "# 정규표현식\n",
        "# 문자열 앞에 r(raq string)이 붙으면 해당 문자열이 구성(포함)된 그대로 문자열을 반환\n",
        "# sub : 주어진 문자열에서 일치하는 모든 패턴을 replace\n",
        "\n",
        "def preprocess_sentence(sentence):\n",
        "    sentence = sentence.lower().strip() # 1 공백을 제거\n",
        "    sentence = re.sub(r\"([?.!,¿])\", r\" \\1 \", sentence) # 2 첫번째 하부식을 기준으로 좌우에 공백으로 대체\n",
        "    sentence = re.sub(r'[\" \"]+', \" \", sentence) # 3 공백이 반복(+)되는 것, 즉 여러개 이어진 공백을 (하나의) 공백\" \"으로 대체 \n",
        "    sentence = re.sub(r\"[^a-zA-Z?.!,¿]+\", \" \", sentence) # 4 소문자 대문자 구두점 \n",
        "    sentence = sentence.strip() # 5 다시 양쪽 공백 제거\n",
        "    sentence = '<start> ' + sentence + ' <end>' # 6\n",
        "    return sentence\n",
        "\n",
        "# 이 문장이 어떻게 필터링되는지 확인해 보세요.\n",
        "print(preprocess_sentence(\"This @_is ;;;sample        sentence.\"))"
      ],
      "metadata": {
        "colab": {
          "base_uri": "https://localhost:8080/"
        },
        "id": "cYwywNY89tSu",
        "outputId": "49a86a7d-1ecb-48d2-e1f1-fad77a3c26b1"
      },
      "execution_count": null,
      "outputs": [
        {
          "output_type": "stream",
          "name": "stdout",
          "text": [
            "<start> this is sample sentence . <end>\n"
          ]
        }
      ]
    },
    {
      "cell_type": "code",
      "source": [
        "# 말뭉치 corpus를 선언해 주고, 여기에 정제된 문장을 모음\n",
        "\n",
        "corpus = []\n",
        "\n",
        "for sentence in raw_corpus:\n",
        "    # 우리가 원하지 않는 문장은 건너뜁니다 => '공백'이거나, '화자'가 표시된 문장.\n",
        "    if len(sentence) == 0: continue  # => '공백'인 문장\n",
        "    if sentence[-1] == \":\": continue  # => '화자'가 표시된 문장\n",
        "    \n",
        "    # 정제를 하고 객체에 담아주세요\n",
        "    preprocessed_sentence = preprocess_sentence(sentence)\n",
        "    \n",
        "    #길이 15안되는 문장만 가려서 넣어보기\n",
        "    if len(preprocessed_sentence.split()) > 15: continue\n",
        "\n",
        "    corpus.append(preprocessed_sentence) # 정제된 문장을 corpus객체에 추가해 줌.\n",
        "        \n",
        "# 정제된 결과를 10개만 확인해보죠\n",
        "corpus[:10]"
      ],
      "metadata": {
        "colab": {
          "base_uri": "https://localhost:8080/"
        },
        "id": "DF6yZee_9tPD",
        "outputId": "ddd7edac-f0da-40b2-ad0a-8c0e19ae3a5f"
      },
      "execution_count": null,
      "outputs": [
        {
          "output_type": "execute_result",
          "data": {
            "text/plain": [
              "['<start> whatever you want to do <end>',\n",
              " '<start> is all right with me <end>',\n",
              " '<start> cause you make me feel so brand new <end>',\n",
              " '<start> loving you forever <end>',\n",
              " '<start> is what i need <end>',\n",
              " '<start> let me , be the one you come running to <end>',\n",
              " '<start> i ll never be untrue oh baby <end>',\n",
              " '<start> let s , let s stay together gether <end>',\n",
              " '<start> lovin you whether , whether <end>',\n",
              " '<start> times are good or bad , happy or sad <end>']"
            ]
          },
          "metadata": {},
          "execution_count": 6
        }
      ]
    },
    {
      "cell_type": "markdown",
      "source": [
        "---\n",
        "지금부터 하는 작업은 => 기계가 소화시킬 수 있게 데이터를 만들어 주는 것. 잘게 쪼개서 단어사전을 만들되 기계가 알아듣게 숫자로 변환하는 과정 => 텐서플로우에서 제공하는 모듈을 활용함\n",
        "tf.keras.preprocessing.text.Tokenizer가 다 해 줌 ^^  할 게 없네? \n",
        "\n",
        "---\n",
        "## STEP 2. Tokenizing\n",
        "텍스트 생성 모델에도 단어 사전을 만들어야 함.\n",
        "Tokenizie( )가 기본적인 Filter 옵션을 제공하지만 별도의 전처리를\n",
        "통해 더 많은 정제작업을 수행하는 게 좋음.\n",
        "\n",
        "## STEP 3. Vetorizing : tensor(숫자로 변환된 단어사전, 2차원 행렬)\n",
        "단, 사전을 숫자로 변환해서 만듦\n"
      ],
      "metadata": {
        "id": "4EjmLdidpQTJ"
      }
    },
    {
      "cell_type": "code",
      "source": [
        "# 토큰화 할 때 텐서플로우의 Tokenizer와 pad_sequences를 사용합니다\n",
        "# 더 잘 알기 위해 아래 문서들을 참고하면 좋습니다\n",
        "# https://www.tensorflow.org/api_docs/python/tf/keras/preprocessing/text/Tokenizer\n",
        "# https://www.tensorflow.org/api_docs/python/tf/keras/preprocessing/sequence/pad_sequences\n",
        "\n",
        "def tokenize(corpus):\n",
        "\n",
        "    # 12000단어를 기억할 수 있는 tokenizer(단어장)를 만들겁니다\n",
        "    # 우리는 이미 문장을 정제했으니 filters가 필요없어요\n",
        "    # 12000단어에 포함되지 못한 단어는 '<unk>'로 바꿀거에요\n",
        "\n",
        "    tokenizer = tf.keras.preprocessing.text.Tokenizer(\n",
        "        num_words=12000, \n",
        "        filters=' ',\n",
        "        oov_token=\"<unk>\" # unknow 토큰 처리하는 토큰. 12000단어만 기억되므로 \n",
        "    )\n",
        "\n",
        "    # corpus를 이용해 tokenizer 내부의 단어장을 완성합니다\n",
        "    # texts_to_sequences를 사용하기 전에 해줘야 함\n",
        "    tokenizer.fit_on_texts(corpus)  # 텍스트 목록을 기반으로 내부 어휘를 업데이트함\n",
        "    \n",
        "    # 준비한 tokenizer를 이용해 corpus를 Tensor(정수로 변환된 말뭉치)로 변환합니다\n",
        "    tensor = tokenizer.texts_to_sequences(corpus)   # 텍스트의 각 텍스트를 일련의 정수로 변환함\n",
        "    \n",
        "    # 입력 데이터의 시퀀스 길이를 일정하게 맞춰줍니다\n",
        "    # 만약 시퀀스가 짧다면 문장 뒤(디폴트)에 패딩(디폴트는 0)을 붙여 길이를 맞춰줍니다.\n",
        "    # 문장 앞에 패딩을 붙여 길이를 맞추고 싶다면 padding='pre'를 사용합니다\n",
        "    # max_len 가장 긴 문장을 기준으로 시퀀스 길이(토큰의 개수)를 맞춰줌. \n",
        "    # 디폴트는 None이지만 이번에는 15\n",
        "    tensor = tf.keras.preprocessing.sequence.pad_sequences(tensor, padding='post', maxlen=20)  \n",
        "    \n",
        "    print(tensor, tokenizer)\n",
        "    return tensor, tokenizer\n",
        "\n",
        "tensor, tokenizer = tokenize(corpus)"
      ],
      "metadata": {
        "colab": {
          "base_uri": "https://localhost:8080/"
        },
        "id": "zgEdb8R84S2v",
        "outputId": "352c9d1c-c8d1-4f43-b3b5-9cf68c00d444"
      },
      "execution_count": null,
      "outputs": [
        {
          "output_type": "stream",
          "name": "stdout",
          "text": [
            "[[  2 570   7 ...   0   0   0]\n",
            " [  2  26  25 ...   0   0   0]\n",
            " [  2  66   7 ...   0   0   0]\n",
            " ...\n",
            " [  2  30  19 ...   0   0   0]\n",
            " [  2 344  19 ...   0   0   0]\n",
            " [  2  41 129 ...   0   0   0]] <keras_preprocessing.text.Tokenizer object at 0x7f06320984d0>\n"
          ]
        }
      ]
    },
    {
      "cell_type": "code",
      "source": [
        "# 생성된 데이터 확인 => tensor는 tokenizer에 구축된 단어 사전의 인덱스임.\n",
        "# 모든 행이 2로 시작??? 모두 같은 값인 2번 인덱스 => <start>\n",
        "\n",
        "print(tensor[:3, :10])"
      ],
      "metadata": {
        "colab": {
          "base_uri": "https://localhost:8080/"
        },
        "id": "MUb5GdrJ4S6h",
        "outputId": "82803f2c-f14a-425f-b76e-0d6738f6b956"
      },
      "execution_count": null,
      "outputs": [
        {
          "output_type": "stream",
          "name": "stdout",
          "text": [
            "[[  2 570   7  64  10  48   3   0   0   0]\n",
            " [  2  26  25  87  30  12   3   0   0   0]\n",
            " [  2  66   7  72  12 106  31 809 153   3]]\n"
          ]
        }
      ]
    },
    {
      "cell_type": "code",
      "source": [
        "# 토크나이저에 구축된 단어 사전 확인\n",
        "\n",
        "for idx in tokenizer.index_word:\n",
        "    print(idx, \":\", tokenizer.index_word[idx])\n",
        "\n",
        "    if idx >= 10: break"
      ],
      "metadata": {
        "colab": {
          "base_uri": "https://localhost:8080/"
        },
        "id": "vGP2JBbs4igP",
        "outputId": "9da55142-4783-45e1-d80c-3a27fe91b3ce"
      },
      "execution_count": null,
      "outputs": [
        {
          "output_type": "stream",
          "name": "stdout",
          "text": [
            "1 : <unk>\n",
            "2 : <start>\n",
            "3 : <end>\n",
            "4 : i\n",
            "5 : ,\n",
            "6 : the\n",
            "7 : you\n",
            "8 : and\n",
            "9 : a\n",
            "10 : to\n"
          ]
        }
      ]
    },
    {
      "cell_type": "markdown",
      "source": [
        "## STEP 4. 데이터 분리\n",
        "#### tensor에서 처음과 끝 토큰을 잘라내서 소스 문장과 타켓 문장 생성\n",
        "\n"
      ],
      "metadata": {
        "id": "o-x9u-12YeZn"
      }
    },
    {
      "cell_type": "code",
      "source": [
        "# tensor에서 마지막 토큰을 잘라내서 소스 문장을 생성합니다\n",
        "# 마지막 토큰은 <end>가 아니라 <pad>(길이를 맞추기 위해 채웠던 즉, 0)일 가능성이 높습니다.\n",
        "src_input = tensor[:, :-1]\n",
        "\n",
        "# tensor에서 <start>를 잘라내서 타겟 문장을 생성합니다.\n",
        "tgt_input = tensor[:, 1:]    \n",
        "\n",
        "print(src_input[0])\n",
        "print(tgt_input[0])"
      ],
      "metadata": {
        "colab": {
          "base_uri": "https://localhost:8080/"
        },
        "id": "Dzdi6x8h4jIv",
        "outputId": "60a7cef5-e9c3-4fc2-9367-4d7675428ea2"
      },
      "execution_count": null,
      "outputs": [
        {
          "output_type": "stream",
          "name": "stdout",
          "text": [
            "[  2 570   7  64  10  48   3   0   0   0   0   0   0   0   0   0   0   0\n",
            "   0]\n",
            "[570   7  64  10  48   3   0   0   0   0   0   0   0   0   0   0   0   0\n",
            "   0]\n"
          ]
        }
      ]
    },
    {
      "cell_type": "code",
      "source": [
        "# 평가 데이터셋 분리\n",
        "# 훈련 데이터와 평가 데이터를 분리해 줌 => 20%를 평가 데이터로 분리\n",
        "\n",
        "X_train, X_val, y_train, y_val = train_test_split(src_input, tgt_input, test_size=0.2, random_state=2020)"
      ],
      "metadata": {
        "id": "yDxIRSh2L9uX"
      },
      "execution_count": null,
      "outputs": []
    },
    {
      "cell_type": "markdown",
      "source": [
        "### =>\n",
        "##### src 데이터 \n",
        "##### tgt 데이터 : 왼쪽으로 한 칸 시프트 한 형태 <= Start만 잘라낸 거니까\n",
        "---\n",
        "#### 데이터 객체 생성\n",
        "* 지금까지 데이터셋은 model.fit(x_train, y_train) 형태로 Numpy Array 데이터셋을 생성해 model에 제공하는 형태의 학습을 많이 진행해옴\n",
        "\n",
        "* 여기서는 텐서플로우를 활용할 경우 텐서로 생성된 데이터를 이용해 tf.data.Dataset객체를 생성하는 방법을 흔히 사용\n",
        "=> 데이터 입력 파이프라인을 통한 속도 개선 및 각종 편의 기능 제공함.\n",
        "* 앞에서 데이터셋을 tensor 형태로 생성해 뒀으므로 from_tensor_slices() 메소드를 이용해 tf.data.Dataset 객체를 생성함."
      ],
      "metadata": {
        "id": "yJ4xvcHGZyUZ"
      }
    },
    {
      "cell_type": "code",
      "source": [
        "# 데이터 객체 생성\n",
        "\n",
        "BUFFER_SIZE = len(src_input) # 앞에서 압력소스를 만든 것의 길이로 버퍼사이즈를 정함\n",
        "BATCH_SIZE = 256\n",
        "steps_per_epoch = len(src_input) // BATCH_SIZE  # epoch당 스텝수는 버퍼 사이즈를 배치사이즈로 나눠준 값. // 은 int로.\n",
        "\n",
        " # tokenizer가 구축한 단어사전 내 12000개와, 여기 포함되지 않은 0:<pad>를 포함하여 12001개\n",
        "VOCAB_SIZE = tokenizer.num_words + 1   \n",
        "\n",
        "# 준비한 데이터 소스로부터 데이터셋을 만듭니다\n",
        "# 데이터셋에 대해서는 아래 문서를 참고하세요\n",
        "# 자세히 알아둘수록 도움이 많이 되는 중요한 문서입니다\n",
        "# https://www.tensorflow.org/api_docs/python/tf/data/Dataset\n",
        "# 소스데이터와 타깃데이터를 받아서 잘라주고 -> 섞어주고 -> batch를 구성해 줌\n",
        "train_dataset = tf.data.Dataset.from_tensor_slices((X_train, y_train))\n",
        "train_dataset = train_dataset.shuffle(BUFFER_SIZE)\n",
        "train_dataset = train_dataset.batch(BATCH_SIZE, drop_remainder=True)\n",
        "\n",
        "print(X_train.shape)\n",
        "print(y_train.shape)\n",
        "train_dataset"
      ],
      "metadata": {
        "colab": {
          "base_uri": "https://localhost:8080/"
        },
        "id": "xeREJU8m4jUy",
        "outputId": "21ba59cf-f1df-45d0-a063-d5579e66c8d3"
      },
      "execution_count": null,
      "outputs": [
        {
          "output_type": "stream",
          "name": "stdout",
          "text": [
            "(124810, 19)\n",
            "(124810, 19)\n"
          ]
        },
        {
          "output_type": "execute_result",
          "data": {
            "text/plain": [
              "<BatchDataset element_spec=(TensorSpec(shape=(256, 19), dtype=tf.int32, name=None), TensorSpec(shape=(256, 19), dtype=tf.int32, name=None))>"
            ]
          },
          "metadata": {},
          "execution_count": 12
        }
      ]
    },
    {
      "cell_type": "code",
      "source": [
        "val_dataset = tf.data.Dataset.from_tensor_slices((X_val, y_val)).shuffle(BUFFER_SIZE)\n",
        "val_dataset = val_dataset.batch(BATCH_SIZE, drop_remainder=True)\n",
        "\n",
        "print(X_val.shape)\n",
        "print(y_val.shape)\n",
        "val_dataset"
      ],
      "metadata": {
        "colab": {
          "base_uri": "https://localhost:8080/"
        },
        "id": "bJMZZMCJQX5k",
        "outputId": "8f715844-deb2-4b75-9e9c-5592925186e9"
      },
      "execution_count": null,
      "outputs": [
        {
          "output_type": "stream",
          "name": "stdout",
          "text": [
            "(31203, 19)\n",
            "(31203, 19)\n"
          ]
        },
        {
          "output_type": "execute_result",
          "data": {
            "text/plain": [
              "<BatchDataset element_spec=(TensorSpec(shape=(256, 19), dtype=tf.int32, name=None), TensorSpec(shape=(256, 19), dtype=tf.int32, name=None))>"
            ]
          },
          "metadata": {},
          "execution_count": 13
        }
      ]
    },
    {
      "cell_type": "markdown",
      "source": [
        "### * 데이터 전처리, 생성 과정\n",
        "1. corpus 생성 <-- 정규표현식 이용\n",
        "2. corpus를 텐서로 변환 <-- tf.keras.preprocessing.text.Tokenizer 이용해\n",
        "3. corpus 텐서를 tf.data.Dataset객체로 변환 <-- tf.data.Dataset.from_tensor_slices()를 이용"
      ],
      "metadata": {
        "id": "Fcfw6mdF5pcT"
      }
    },
    {
      "cell_type": "markdown",
      "source": [
        "## STEP 5. 모델 만들기\n",
        "tf.keras.Model을 Subclassing하는 방식\n",
        "##### 모델 구성 : \n",
        "* Embedding Layer 1개  입력층\n",
        "* LSTM Layer      2개  은닉층\n",
        "* Dense Layer     1개  출력층\n",
        "\n",
        "##### Embedding layer 2개 \n",
        "- 단어 사전의 인덱스 값을 해당 인덱스 번째의 워드 벡터로 바꿔줌 \n",
        "=> 이 워드 벡터는 의미 벡터 공간에서 단어의 추상적 표현(representation)으로 사용됨.\n",
        "- embedding_size는 워드 벡터의 차원수, 즉 단어가 추상적으로 표현되는 크기\n",
        "- 만일 크기가 2(차원)이면 =>\n",
        "* 차갑다 : [0.0, 1.0]\n",
        "* 뜨겁다 : [1.0, 0.0]\n",
        "* 미지근하다 : [0.5, 0.5] 로 구분 가능\n",
        "=> 이번 경우엔 256이 적당함\n",
        "##### LSTM layer 2개\n",
        "- hidden_size : hidden state의 차원 수. 모델에 얼마나 많은 일꾼을 둘 것인가? \n",
        "- 일꾼들은 모두 같은 데이터를 보고 각자의 생각을 가지는데, 충분한 데이터가 주어지지 않으면 배가 산으로 갈 뿐\n",
        "=> 이번 경우엔 1024가 적당함 \n",
        "##### Dense layer 1개"
      ],
      "metadata": {
        "id": "gc0QHB6tsEQb"
      }
    },
    {
      "cell_type": "code",
      "source": [
        "class TextGenerator(tf.keras.Model):\n",
        "    def __init__(self, vocab_size, embedding_size, hidden_size):\n",
        "        super().__init__()\n",
        "\n",
        "        # Embedding Layer : 입력텐서에 들어있는 단어사전의 인덱스 값을 해당 인덱스 번째의 워드 벡터로 변환\n",
        "        # => 의미 벡터 공간에서 단어의 추상적 표현으로 사용됨    \n",
        "        self.embedding = tf.keras.layers.Embedding(vocab_size, embedding_size)\n",
        "        \n",
        "        self.rnn_1 = tf.keras.layers.LSTM(hidden_size, return_sequences=True)\n",
        "        self.rnn_2 = tf.keras.layers.LSTM(hidden_size, return_sequences=True)\n",
        "        \n",
        "        self.linear = tf.keras.layers.Dense(vocab_size)\n",
        "        \n",
        "    def call(self, x):\n",
        "        out = self.embedding(x)\n",
        "        out = self.rnn_1(out)\n",
        "        out = self.rnn_2(out)\n",
        "        out = self.linear(out)\n",
        "        \n",
        "        return out\n",
        "\n",
        "# 모델을 생성하는데 필요한 세 가지 인자를 설정해 줌.\n",
        "    \n",
        "# vocab_size  <= 앞에서 만들어놓은 토크나이저에서 단어수에 1을 더해줌\n",
        "embedding_size = 1024  # 워드 벡터의 차원수. 즉, 단어가 추상적으로 푷련되는 크기\n",
        "hidden_size = 2048  # LSTM 레이어의 hidden state의 차원수. 얼마나 많은 일꾼을 둘 것인가?\n",
        "model = TextGenerator(tokenizer.num_words + 1, embedding_size , hidden_size)"
      ],
      "metadata": {
        "id": "Kf91Ck53l5tH"
      },
      "execution_count": null,
      "outputs": []
    },
    {
      "cell_type": "code",
      "source": [
        "# 모델을 동작을 확인해 보기 위해 데어터 한 배치만 넣어서 테스트 해 봄\n",
        "\n",
        "# 데이터셋에서 데이터 한 배치만 불러오는 방법입니다. dataset.take(배치 개수)\n",
        "# 한 배치(256개 문장) 불러와서 인풋샘플과 타킷샘플에 할당해 줌\n",
        "for src_sample, tgt_sample in train_dataset.take(1): break\n",
        "\n",
        "# 한 배치만 불러온 데이터를 모델에 넣어봅니다\n",
        "model(src_sample)"
      ],
      "metadata": {
        "colab": {
          "base_uri": "https://localhost:8080/"
        },
        "id": "S_DCvM1Ql5oI",
        "outputId": "9125f367-94bc-414e-9b8f-4c997eb0c5d9"
      },
      "execution_count": null,
      "outputs": [
        {
          "output_type": "execute_result",
          "data": {
            "text/plain": [
              "<tf.Tensor: shape=(256, 19, 12001), dtype=float32, numpy=\n",
              "array([[[-1.05303545e-04,  1.72075903e-04, -2.09672157e-06, ...,\n",
              "         -3.28311522e-04,  2.83458969e-04, -4.43515397e-04],\n",
              "        [ 3.49168724e-04, -2.34414649e-04,  1.42330100e-04, ...,\n",
              "         -5.17770008e-04,  1.42110193e-05, -1.06304954e-03],\n",
              "        [ 4.27029474e-04, -3.73493502e-04,  1.31976805e-04, ...,\n",
              "         -3.07864044e-04, -1.19801836e-04, -1.05743518e-03],\n",
              "        ...,\n",
              "        [ 2.02151597e-03, -5.60002029e-03,  1.55768695e-03, ...,\n",
              "         -1.97599735e-03,  2.11173226e-03, -4.07065032e-03],\n",
              "        [ 2.32134014e-03, -5.74400602e-03,  1.52115314e-03, ...,\n",
              "         -2.07251823e-03,  2.19784002e-03, -4.03749384e-03],\n",
              "        [ 2.58086063e-03, -5.81248850e-03,  1.47181679e-03, ...,\n",
              "         -2.11967342e-03,  2.26741703e-03, -3.96564417e-03]],\n",
              "\n",
              "       [[-1.05303545e-04,  1.72075903e-04, -2.09672157e-06, ...,\n",
              "         -3.28311522e-04,  2.83458969e-04, -4.43515397e-04],\n",
              "        [-2.60730129e-04, -3.11958371e-04, -1.05305793e-04, ...,\n",
              "         -5.81966364e-04,  5.54281694e-04, -9.14623786e-04],\n",
              "        [-6.16622739e-04, -8.62643821e-04,  2.93245976e-04, ...,\n",
              "         -1.17255759e-03,  9.86225903e-04, -9.04750603e-04],\n",
              "        ...,\n",
              "        [ 1.06221088e-03, -4.40780027e-03,  2.47722608e-03, ...,\n",
              "         -1.55873736e-03,  2.03061895e-03, -1.53481017e-03],\n",
              "        [ 1.52574386e-03, -4.74082213e-03,  2.39982340e-03, ...,\n",
              "         -1.61460822e-03,  2.23834091e-03, -1.91010837e-03],\n",
              "        [ 1.92915415e-03, -4.98486776e-03,  2.28774408e-03, ...,\n",
              "         -1.64910022e-03,  2.39402265e-03, -2.19683419e-03]],\n",
              "\n",
              "       [[-1.05303545e-04,  1.72075903e-04, -2.09672157e-06, ...,\n",
              "         -3.28311522e-04,  2.83458969e-04, -4.43515397e-04],\n",
              "        [-3.08434282e-05,  2.88330892e-04, -5.73770900e-04, ...,\n",
              "         -4.39073978e-04,  3.19873245e-04, -1.06201984e-03],\n",
              "        [-7.11237954e-05,  7.06661318e-04, -9.81577439e-04, ...,\n",
              "         -2.17828463e-04, -1.79888029e-05, -7.36133021e-04],\n",
              "        ...,\n",
              "        [ 3.42273596e-03, -4.54645790e-03,  1.56635814e-03, ...,\n",
              "         -2.01980630e-03,  1.97788747e-03, -2.72098579e-03],\n",
              "        [ 3.47925466e-03, -4.72733937e-03,  1.58224849e-03, ...,\n",
              "         -1.95478299e-03,  2.06712284e-03, -2.79333000e-03],\n",
              "        [ 3.51844751e-03, -4.86392900e-03,  1.59236067e-03, ...,\n",
              "         -1.87597331e-03,  2.13989289e-03, -2.86046322e-03]],\n",
              "\n",
              "       ...,\n",
              "\n",
              "       [[-1.05303545e-04,  1.72075903e-04, -2.09672157e-06, ...,\n",
              "         -3.28311522e-04,  2.83458969e-04, -4.43515397e-04],\n",
              "        [-3.46805318e-04,  5.84462075e-04,  5.09034027e-04, ...,\n",
              "         -6.01474429e-04,  3.19936720e-04, -4.23358171e-04],\n",
              "        [-5.25785028e-04,  7.66748446e-04,  1.24181400e-03, ...,\n",
              "         -7.26889411e-04, -1.93180051e-04, -6.00325060e-04],\n",
              "        ...,\n",
              "        [ 2.98997504e-03, -4.45734104e-03,  1.98654039e-03, ...,\n",
              "         -3.49235866e-04,  2.57153204e-03, -2.09857686e-03],\n",
              "        [ 3.14276107e-03, -4.67400951e-03,  1.87903096e-03, ...,\n",
              "         -5.21216774e-04,  2.67100427e-03, -2.25047022e-03],\n",
              "        [ 3.26327048e-03, -4.83160792e-03,  1.79004017e-03, ...,\n",
              "         -6.56718563e-04,  2.73774820e-03, -2.38377624e-03]],\n",
              "\n",
              "       [[-1.05303545e-04,  1.72075903e-04, -2.09672157e-06, ...,\n",
              "         -3.28311522e-04,  2.83458969e-04, -4.43515397e-04],\n",
              "        [ 3.49168724e-04, -2.34414649e-04,  1.42330100e-04, ...,\n",
              "         -5.17770008e-04,  1.42110193e-05, -1.06304954e-03],\n",
              "        [ 6.99631521e-04, -4.73039283e-04,  1.86738951e-04, ...,\n",
              "         -9.70500347e-04,  7.42633129e-05, -1.46419159e-03],\n",
              "        ...,\n",
              "        [ 4.10456065e-04, -4.71223891e-03,  1.78672897e-03, ...,\n",
              "         -5.71853830e-04,  1.93285185e-03, -1.67056813e-03],\n",
              "        [ 8.52187630e-04, -4.96118888e-03,  1.65538106e-03, ...,\n",
              "         -7.19293370e-04,  2.07495480e-03, -1.84602127e-03],\n",
              "        [ 1.25719979e-03, -5.12842648e-03,  1.53984968e-03, ...,\n",
              "         -8.35044484e-04,  2.19800137e-03, -2.00066646e-03]],\n",
              "\n",
              "       [[-1.05303545e-04,  1.72075903e-04, -2.09672157e-06, ...,\n",
              "         -3.28311522e-04,  2.83458969e-04, -4.43515397e-04],\n",
              "        [ 1.60058727e-04,  2.06485915e-04,  2.79594551e-05, ...,\n",
              "         -4.86075267e-04,  3.64156615e-04, -3.51262453e-04],\n",
              "        [-7.59294373e-04,  3.67173052e-05,  3.67369212e-04, ...,\n",
              "         -5.68836695e-04,  4.28820844e-04, -4.85895463e-04],\n",
              "        ...,\n",
              "        [ 2.77565373e-03, -5.09803509e-03,  1.63414259e-03, ...,\n",
              "         -1.56008988e-03,  2.40477966e-03, -2.24053930e-03],\n",
              "        [ 2.95454240e-03, -5.15027065e-03,  1.58570404e-03, ...,\n",
              "         -1.51549547e-03,  2.46190233e-03, -2.33986787e-03],\n",
              "        [ 3.09777749e-03, -5.18424669e-03,  1.54851680e-03, ...,\n",
              "         -1.46594329e-03,  2.50214990e-03, -2.44291942e-03]]],\n",
              "      dtype=float32)>"
            ]
          },
          "metadata": {},
          "execution_count": 15
        }
      ]
    },
    {
      "cell_type": "markdown",
      "source": [
        "##### => 모델을 실행시키면 출력에서 tensor의 형태를 보면 3차원 행렬(256, 346, 12001)임\n",
        "\n",
        "> 256 : 이전 스텝에서 지정한 배치 사이즈 즉, 한 배치에 해당하는 문장 개수\n",
        "> 346 : LSTM은 자신에게 입력된 시퀀스의 길이(입력 데이터의 개수)만큼 동일한 길이의 시퀀스를 출력함. \n",
        "<= tf.keras.layers.LSTM(hidden_size, return_sequences=True)로 호출한 LSTM레이어에서 \n",
        "return_sequences=True라고 지정했으므로. \n",
        "만일 False로 설정하면 LSTM레이어는 1개의 벡터만 출력<br>\n",
        "346은 데이터를 입력받을 때 알게 됨 => 데아터셋의 max_len이 20으로 맞춰져 있었던 것.\n",
        "2. model.build()가 자동으로 호출됨.\n",
        "\n",
        "\n",
        "* 파라미터 사이즈 : 22million\n",
        "\n",
        "* Output Shape은 알려주지 않음 <== 그런데 문제는, 우리의 모델은 입력 데이터의 시퀀스 길이가 얼마인지 모른다는 점입니다. 모델을 만들면서 알려준 적도 없습니다. 그럼 20은 언제 알게된 것일까요? 네, 그렇습니다. 데이터를 입력받으면서 비로소 알게 된 것입니다. 우리 데이터셋의 max_len이 20으로 맞춰져 있었던 것입니다.\n",
        "\n",
        "우리가 궁금했던 Output Shape를 정확하게 알려주지 않습니다. 바로 위에서 설명한 이유 때문입니다. 우리의 모델은 입력 시퀀스의 길이를 모르기 때문에 Output Shape를 특정할 수 없는 것입니다.\n",
        "\n"
      ],
      "metadata": {
        "id": "G3wL-Cz0l5jF"
      }
    },
    {
      "cell_type": "code",
      "source": [
        "model.summary()"
      ],
      "metadata": {
        "colab": {
          "base_uri": "https://localhost:8080/"
        },
        "id": "Z5YzSd8zl5di",
        "outputId": "64a08c52-d584-4717-8ae5-2dc0c7d57663"
      },
      "execution_count": null,
      "outputs": [
        {
          "output_type": "stream",
          "name": "stdout",
          "text": [
            "Model: \"text_generator\"\n",
            "_________________________________________________________________\n",
            " Layer (type)                Output Shape              Param #   \n",
            "=================================================================\n",
            " embedding (Embedding)       multiple                  12289024  \n",
            "                                                                 \n",
            " lstm (LSTM)                 multiple                  25174016  \n",
            "                                                                 \n",
            " lstm_1 (LSTM)               multiple                  33562624  \n",
            "                                                                 \n",
            " dense (Dense)               multiple                  24590049  \n",
            "                                                                 \n",
            "=================================================================\n",
            "Total params: 95,615,713\n",
            "Trainable params: 95,615,713\n",
            "Non-trainable params: 0\n",
            "_________________________________________________________________\n"
          ]
        }
      ]
    },
    {
      "cell_type": "markdown",
      "source": [
        "##### => Output의 형태를 알려주지 않음 <= 모델이 시퀀스가 입력되기 전까지는 입력 시퀀스의 길이를 모르기 때문에 출력 형태를 특정할 수 없기 때문. 단, 파라미터 사이즈는 측정됨.\n",
        "---"
      ],
      "metadata": {
        "id": "WIz-L2E4l5YO"
      }
    },
    {
      "cell_type": "markdown",
      "source": [
        "## STEP 6. 모델 학습\n",
        "* optimizer와 loss등은 차차 배웁니다<br>\n",
        "* 혹시 미리 알고 싶다면 아래 문서를 참고하세요<br>\n",
        "* https://www.tensorflow.org/api_docs/python/tf/keras/optimizers<br>\n",
        "* https://www.tensorflow.org/api_docs/python/tf/keras/losses\n",
        "* 양이 상당히 많은 편이니 지금 보는 것은 추천하지 않습니다<br>\n"
      ],
      "metadata": {
        "id": "WTGzuw0ml5Sf"
      }
    },
    {
      "cell_type": "code",
      "source": [
        "# 옵티마이저는 Adam()으로 설정\n",
        "# 코스트함수를 SparseCategoricalCrossentropy로 해서 loss에 할당해 줌\n",
        "\n",
        "optimizer = tf.keras.optimizers.Adam(learning_rate=0.001)\n",
        "loss = tf.keras.losses.SparseCategoricalCrossentropy(\n",
        "    from_logits=True,\n",
        "    reduction='none'\n",
        ")\n",
        "\n",
        "# 모델을 옵티마이저와 로스를 인자로 해 컴파일 해 줌\n",
        "model.compile(loss=loss, optimizer=optimizer, metrics=['accuracy'])\n",
        "\n",
        "# 모델을 데이터셋을 넣고 EPOCH을 7으로 지정해 학습시킴\n",
        "history = model.fit(train_dataset, epochs=7, batch_size=256, validation_data=val_dataset, verbose=1)"
      ],
      "metadata": {
        "colab": {
          "base_uri": "https://localhost:8080/"
        },
        "id": "YfKluokul5KY",
        "outputId": "6aa705b0-739d-44a0-d6fd-6ced5a5310c5"
      },
      "execution_count": null,
      "outputs": [
        {
          "output_type": "stream",
          "name": "stdout",
          "text": [
            "Epoch 1/7\n",
            "487/487 [==============================] - 190s 386ms/step - loss: 2.3897 - accuracy: 0.6372 - val_loss: 2.1215 - val_accuracy: 0.6558\n",
            "Epoch 2/7\n",
            "487/487 [==============================] - 188s 386ms/step - loss: 1.9908 - accuracy: 0.6651 - val_loss: 1.9372 - val_accuracy: 0.6727\n",
            "Epoch 3/7\n",
            "487/487 [==============================] - 188s 386ms/step - loss: 1.7546 - accuracy: 0.6865 - val_loss: 1.7995 - val_accuracy: 0.6900\n",
            "Epoch 4/7\n",
            "487/487 [==============================] - 188s 386ms/step - loss: 1.5226 - accuracy: 0.7143 - val_loss: 1.6986 - val_accuracy: 0.7079\n",
            "Epoch 5/7\n",
            "487/487 [==============================] - 188s 386ms/step - loss: 1.3023 - accuracy: 0.7472 - val_loss: 1.6249 - val_accuracy: 0.7245\n",
            "Epoch 6/7\n",
            "487/487 [==============================] - 188s 386ms/step - loss: 1.1087 - accuracy: 0.7817 - val_loss: 1.5799 - val_accuracy: 0.7382\n",
            "Epoch 7/7\n",
            "487/487 [==============================] - 188s 386ms/step - loss: 0.9546 - accuracy: 0.8123 - val_loss: 1.5609 - val_accuracy: 0.7493\n"
          ]
        }
      ]
    },
    {
      "cell_type": "markdown",
      "source": [
        "### 1st Try : 중간 컷\n",
        "\n",
        "Epoch 1/30\n",
        "686/686 [==============================] - 406s 588ms/step - loss: 3.2615 - accuracy: 0.4839 - val_loss: 2.7832 - val_accuracy: 0.5204\n",
        "Epoch 2/30\n",
        "686/686 [==============================] - 415s 605ms/step - loss: 2.6567 - accuracy: 0.5358 - val_loss: 2.3049 - val_accuracy: 0.5697\n",
        "Epoch 3/30\n",
        "686/686 [==============================] - 416s 606ms/step - loss: 2.2501 - accuracy: 0.5826 - val_loss: 1.8881 - val_accuracy: 0.6306\n",
        "Epoch 4/30\n",
        "686/686 [==============================] - 416s 607ms/step - loss: 1.8736 - accuracy: 0.6375 - val_loss: 1.5362 - val_accuracy: 0.6970\n",
        "Epoch 5/30\n",
        "686/686 [==============================] - 416s 607ms/step - loss: 1.5474 - accuracy: 0.6945 - val_loss: 1.2647 - val_accuracy: 0.7518\n",
        "Epoch 6/30\n",
        "334/686 [=============>................] - ETA: 3:18 - loss: 1.2749 - accuracy: 0.7482\n",
        "\n",
        "### 2nd Try \n",
        "\n",
        "Epoch 1/7\n",
        "686/686 [==============================] - 383s 554ms/step - loss: 85.8792 - accuracy: 0.3962 - val_loss: 74.9644 - val_accuracy: 0.3999\n",
        "Epoch 2/7\n",
        "686/686 [==============================] - 380s 554ms/step - loss: 68.7130 - accuracy: 0.4035 - val_loss: 63.4150 - val_accuracy: 0.4103\n",
        "Epoch 3/7\n",
        "686/686 [==============================] - 381s 555ms/step - loss: 60.1378 - accuracy: 0.4104 - val_loss: 56.9455 - val_accuracy: 0.4136\n",
        "Epoch 4/7\n",
        "686/686 [==============================] - 380s 554ms/step - loss: 54.5875 - accuracy: 0.4130 - val_loss: 52.0625 - val_accuracy: 0.4165\n",
        "Epoch 5/7\n",
        "686/686 [==============================] - 380s 554ms/step - loss: 50.3365 - accuracy: 0.4151 - val_loss: 48.4747 - val_accuracy: 0.4162\n",
        "Epoch 6/7\n",
        "686/686 [==============================] - 381s 555ms/step - loss: 47.2305 - accuracy: 0.4161 - val_loss: 45.7969 - val_accuracy: 0.4191\n",
        "Epoch 7/7\n",
        "686/686 [==============================] - 380s 554ms/step - loss: 44.6661 - accuracy: 0.4183 - val_loss: 43.2982 - val_accuracy: 0.4213\n",
        "\n",
        "### 3rd Try\n",
        "Epoch 1/20\n",
        "686/686 [==============================] - 223s 319ms/step - loss: 3.2769 - accuracy: 0.4828 - val_loss: 2.7997 - val_accuracy: 0.5191\n",
        "Epoch 2/20\n",
        "686/686 [==============================] - 218s 318ms/step - loss: 2.6759 - accuracy: 0.5336 - val_loss: 2.3431 - val_accuracy: 0.5659\n",
        "Epoch 3/20\n",
        "686/686 [==============================] - 218s 318ms/step - loss: 2.2861 - accuracy: 0.5779 - val_loss: 1.9360 - val_accuracy: 0.6242\n",
        "Epoch 4/20\n",
        "686/686 [==============================] - 218s 318ms/step - loss: 1.9220 - accuracy: 0.6297 - val_loss: 1.5849 - val_accuracy: 0.6879\n",
        "Epoch 5/20\n",
        "686/686 [==============================] - 218s 318ms/step - loss: 1.6050 - accuracy: 0.6837 - val_loss: 1.3078 - val_accuracy: 0.7440\n",
        "Epoch 6/20\n",
        "686/686 [==============================] - 218s 318ms/step - loss: 1.3405 - accuracy: 0.7343 - val_loss: 1.1168 - val_accuracy: 0.7830\n",
        "Epoch 7/20\n",
        "686/686 [==============================] - 218s 318ms/step - loss: 1.1519 - accuracy: 0.7734 - val_loss: 0.9939 - val_accuracy: 0.8084\n",
        "Epoch 8/20\n",
        "686/686 [==============================] - 218s 318ms/step - loss: 1.0336 - accuracy: 0.7995 - val_loss: 0.9246 - val_accuracy: 0.8215\n",
        "Epoch 9/20\n",
        "686/686 [==============================] - 218s 318ms/step - loss: 0.9690 - accuracy: 0.8130 - val_loss: 0.8912 - val_accuracy: 0.8272\n",
        "Epoch 10/20\n",
        "686/686 [==============================] - 218s 317ms/step - loss: 0.9375 - accuracy: 0.8189 - val_loss: 0.8746 - val_accuracy: 0.8292\n",
        "Epoch 11/20\n",
        "686/686 [==============================] - 218s 317ms/step - loss: 0.9220 - accuracy: 0.8212 - val_loss: 0.8658 - val_accuracy: 0.8302\n",
        "Epoch 12/20\n",
        "686/686 [==============================] - 218s 317ms/step - loss: 0.9130 - accuracy: 0.8221 - val_loss: 0.8609 - val_accuracy: 0.8308\n",
        "Epoch 13/20\n",
        "686/686 [==============================] - 218s 317ms/step - loss: 0.9074 - accuracy: 0.8223 - val_loss: 0.8561 - val_accuracy: 0.8303\n",
        "Epoch 14/20\n",
        "686/686 [==============================] - 218s 317ms/step - loss: 0.9017 - accuracy: 0.8228 - val_loss: 0.8515 - val_accuracy: 0.8312\n",
        "Epoch 15/20\n",
        "686/686 [==============================] - 218s 318ms/step - loss: 0.8958 - accuracy: 0.8232 - val_loss: 0.8459 - val_accuracy: 0.8311\n",
        "Epoch 16/20\n",
        "686/686 [==============================] - 218s 317ms/step - loss: 0.8903 - accuracy: 0.8237 - val_loss: 0.8447 - val_accuracy: 0.8308\n",
        "Epoch 17/20\n",
        "686/686 [==============================] - 218s 317ms/step - loss: 0.8864 - accuracy: 0.8238 - val_loss: 0.8415 - val_accuracy: 0.8311\n",
        "Epoch 18/20\n",
        "686/686 [==============================] - 218s 317ms/step - loss: 0.8840 - accuracy: 0.8238 - val_loss: 0.8396 - val_accuracy: 0.8314\n",
        "Epoch 19/20\n",
        "686/686 [==============================] - 218s 317ms/step - loss: 0.8807 - accuracy: 0.8239 - val_loss: 0.8368 - val_accuracy: 0.8314\n",
        "Epoch 20/20\n",
        "686/686 [==============================] - 218s 317ms/step - loss: 0.8770 - accuracy: 0.8243 - val_loss: 0.8340 - val_accuracy: 0.8315\n",
        "\n",
        "### 4th Try\n",
        "Epoch 1/10\n",
        "686/686 [==============================] - 223s 319ms/step - loss: 3.2625 - accuracy: 0.4851 - val_loss: 2.7689 - val_accuracy: 0.5209\n",
        "Epoch 2/10\n",
        "686/686 [==============================] - 218s 318ms/step - loss: 2.6432 - accuracy: 0.5376 - val_loss: 2.2896 - val_accuracy: 0.5716\n",
        "Epoch 3/10\n",
        "686/686 [==============================] - 218s 318ms/step - loss: 2.2406 - accuracy: 0.5840 - val_loss: 1.8798 - val_accuracy: 0.6325\n",
        "Epoch 4/10\n",
        "686/686 [==============================] - 218s 318ms/step - loss: 1.8701 - accuracy: 0.6378 - val_loss: 1.5303 - val_accuracy: 0.6976\n",
        "Epoch 5/10\n",
        "686/686 [==============================] - 218s 318ms/step - loss: 1.5486 - accuracy: 0.6938 - val_loss: 1.2665 - val_accuracy: 0.7521\n",
        "Epoch 6/10\n",
        "686/686 [==============================] - 218s 318ms/step - loss: 1.2995 - accuracy: 0.7421 - val_loss: 1.0882 - val_accuracy: 0.7894\n",
        "Epoch 7/10\n",
        "686/686 [==============================] - 218s 318ms/step - loss: 1.1213 - accuracy: 0.7797 - val_loss: 0.9715 - val_accuracy: 0.8129\n",
        "Epoch 8/10\n",
        "686/686 [==============================] - 218s 318ms/step - loss: 1.0120 - accuracy: 0.8040 - val_loss: 0.9134 - val_accuracy: 0.8238\n",
        "Epoch 9/10\n",
        "686/686 [==============================] - 218s 318ms/step - loss: 0.9568 - accuracy: 0.8155 - val_loss: 0.8845 - val_accuracy: 0.8279\n",
        "Epoch 10/10\n",
        "686/686 [==============================] - 218s 318ms/step - loss: 0.9321 - accuracy: 0.8198 - val_loss: 0.8719 - val_accuracy: 0.8295"
      ],
      "metadata": {
        "id": "YRnOIWL3Zd3p"
      }
    },
    {
      "cell_type": "code",
      "source": [
        "def plot_curve(epochs, hist, list_of_metrics):\n",
        "    \n",
        "    fig, ax = plt.subplots(1,2,figsize = (12, 8))\n",
        "    \n",
        "    for i in range(len(ax)):\n",
        "        ax[i].set_xlabel('Epochs')\n",
        "        ax[i].set_ylabel('Value')\n",
        "        \n",
        "        for n in range(len(list_of_metrics)):\n",
        "            if i == 0:\n",
        "                y = hist[list_of_metrics[n]]\n",
        "                if n == 0:\n",
        "                    ax[i].plot(epochs, y, label=\"train\")\n",
        "                else:\n",
        "                    ax[i].plot(epochs, y, label=\"val\")\n",
        "                ax[i].set_title('Loss')\n",
        "                ax[i].legend(loc='upper right')\n",
        "                if n == 1:\n",
        "                    break\n",
        "            else:\n",
        "                if n >= 2:\n",
        "                    y = hist[list_of_metrics[n]]\n",
        "                    if n == 2:\n",
        "                        ax[i].plot(epochs, y, label=\"train\")\n",
        "                    else:\n",
        "                        ax[i].plot(epochs, y, label=\"val\")\n",
        "                    ax[i].set_title('Accuracy')\n",
        "                    ax[i].legend(loc='lower right')\n",
        "                    \n",
        "    plt.show()\n",
        "\n",
        "plot_curve(history.epoch, history.history, ['loss', 'val_loss', 'accuracy', 'val_accuracy'])"
      ],
      "metadata": {
        "colab": {
          "base_uri": "https://localhost:8080/",
          "height": 513
        },
        "id": "Jf9eZ5hmPhXO",
        "outputId": "7060f73d-a4d7-4fe9-c035-b0f3e8f13ef8"
      },
      "execution_count": null,
      "outputs": [
        {
          "output_type": "display_data",
          "data": {
            "text/plain": [
              "<Figure size 864x576 with 2 Axes>"
            ],
            "image/png": "[encoded data removed]"
          },
          "metadata": {
            "needs_background": "light"
          }
        }
      ]
    },
    {
      "cell_type": "markdown",
      "source": [
        "## STEP 7. 모델 평가"
      ],
      "metadata": {
        "id": "x53Cq6ug8b1D"
      }
    },
    {
      "cell_type": "code",
      "source": [
        "# 모델에게 시작 문장을 전달하면 모델이 시작 문장을 바탕으로 작문을 진행하게 함\n",
        "# 초기에 입력문에는 <start> 단어 하나만 넘김.\n",
        "\n",
        "def generate_text(model, tokenizer, init_sentence=\"<start>\", max_len=20):\n",
        "\n",
        "    # 테스트를 위해서 입력받은 init_sentence도 텐서로 변환하고 엔드토큰 만듬\n",
        "    test_input = tokenizer.texts_to_sequences([init_sentence])\n",
        "    test_tensor = tf.convert_to_tensor(test_input, dtype=tf.int64)\n",
        "    end_token = tokenizer.word_index[\"<end>\"]\n",
        "\n",
        "    # 단어 하나씩 예측해 문장을 만듭니다\n",
        "    #    1. 입력받은 문장의 텐서를 입력합니다\n",
        "    #    2. 예측된 값 중 가장 높은 확률인 word index를 뽑아냅니다\n",
        "    #    3. 2에서 예측된 word index를 문장 뒤에 붙입니다\n",
        "    #    4. 모델이 <end>를 예측했거나, max_len에 도달했다면 문장 생성을 마칩니다\n",
        "    while True:\n",
        "        # 1\n",
        "        predict = model(test_tensor) \n",
        "        # 2\n",
        "        predict_word = tf.argmax(tf.nn.softmax(predict, axis=-1), axis=-1)[:, -1] \n",
        "        # 3 \n",
        "        test_tensor = tf.concat([test_tensor, tf.expand_dims(predict_word, axis=0)], axis=-1)\n",
        "        # 첫번째 루프에서 test_tensor에 <start> 하나가 들어감\n",
        "        # 모델이 7001개 중 A를 고른다고 하면 \n",
        "        # 두번째 루프에는 test_tensor에 <start> A 가 들어감\n",
        "        # 모델이 B를 고름\n",
        "        # 세번째 루프에는 <start> A B 가 들어감....\n",
        "        \n",
        "        # 4\n",
        "        if predict_word.numpy()[0] == end_token: break\n",
        "        if test_tensor.shape[1] >= max_len: break\n",
        "\n",
        "    generated = \"\"\n",
        "    # tokenizer를 이용해 word index를 단어로 하나씩 변환합니다 \n",
        "    for word_index in test_tensor[0].numpy():\n",
        "        generated += tokenizer.index_word[word_index] + \" \"\n",
        "\n",
        "    return generated"
      ],
      "metadata": {
        "id": "sqZcXkmk8a66"
      },
      "execution_count": null,
      "outputs": []
    },
    {
      "cell_type": "code",
      "source": [
        "# 문장 생성 함수 실행해 봄\n",
        "# 초기에 <start> he 로 시작하게 넘겨줌\n",
        "generate_text(model, tokenizer, init_sentence=\"<start> i love\", max_len=20)"
      ],
      "metadata": {
        "id": "EWgonNma8a-c",
        "colab": {
          "base_uri": "https://localhost:8080/",
          "height": 35
        },
        "outputId": "180b66c7-5f2f-413b-b4f2-16dd87dea632"
      },
      "execution_count": null,
      "outputs": [
        {
          "output_type": "execute_result",
          "data": {
            "text/plain": [
              "'<start> i love you , i m not gonna crack <end> '"
            ],
            "application/vnd.google.colaboratory.intrinsic+json": {
              "type": "string"
            }
          },
          "metadata": {},
          "execution_count": 29
        }
      ]
    },
    {
      "cell_type": "code",
      "source": [
        "generate_text(model, tokenizer, init_sentence=\"<start> My name\", max_len=20)"
      ],
      "metadata": {
        "colab": {
          "base_uri": "https://localhost:8080/",
          "height": 35
        },
        "id": "z42Iscfe7lgD",
        "outputId": "6e253210-9b32-4b10-81d5-f17abe513e71"
      },
      "execution_count": null,
      "outputs": [
        {
          "output_type": "execute_result",
          "data": {
            "text/plain": [
              "'<start> my name is prince <end> '"
            ],
            "application/vnd.google.colaboratory.intrinsic+json": {
              "type": "string"
            }
          },
          "metadata": {},
          "execution_count": 30
        }
      ]
    },
    {
      "cell_type": "code",
      "source": [
        "generate_text(model, tokenizer, init_sentence=\"<start> My soul\", max_len=20)"
      ],
      "metadata": {
        "colab": {
          "base_uri": "https://localhost:8080/",
          "height": 35
        },
        "id": "-xCequmU7lmb",
        "outputId": "cc4e2e6f-240e-4e78-9fc8-5950be4b29d1"
      },
      "execution_count": null,
      "outputs": [
        {
          "output_type": "execute_result",
          "data": {
            "text/plain": [
              "'<start> my soul is there <end> '"
            ],
            "application/vnd.google.colaboratory.intrinsic+json": {
              "type": "string"
            }
          },
          "metadata": {},
          "execution_count": 31
        }
      ]
    },
    {
      "cell_type": "markdown",
      "source": [
        "초기 2번의 시도에서는 오류가 나지는 않았으나 validation loss값이 너무 커서<br>\n",
        "평가를 하지 않았고,\n",
        "\n",
        "3, 4번째 시도에서는 val_loss가 어느 정도 낮아져서 테스트 생성을 했는데 <br>\n",
        "긴 문장이 만들어지지 않았다. 15 단어 이하로만 corpus를 구성하는 코드에서<br>\n",
        "문제가 있었음을 발견했다.\n",
        "\n",
        "5번째 시도에서 val_loss가 2.2 이하로 떨어졌고 문장 생성 테스트를 한 결과<br>\n",
        "이번에는 장문의 문장이 생성되었으나 문맥상 의미가 통하는 문장은 아니었다.\n",
        "\n",
        "max_len : 15, embedding_size : 128, hidden_size : 512, epoch : 10, \n",
        "Epoch 10/10<br>\n",
        "487/487 [==============================] - 144s 296ms/step - <br>\n",
        "loss: 0.9885 - accuracy: 0.8096 - <br>\n",
        "val_loss: 2.1481 - val_accuracy: 0.6740\n",
        "\n",
        "##### 문장 생성 함수 실행해 봄\n",
        "init_sentence=\"<start> i love\", max_len=15\n",
        "=> <start>i love reeboks nebraska nebraska dreamless lasi sposed clue depot lined lined flow flow <end> <br>\n",
        "\n"
      ],
      "metadata": {
        "id": "byFPqUd27lsG"
      }
    },
    {
      "cell_type": "markdown",
      "source": [
        "## [ 루브릭 ]\n",
        "### 1. 가사 텍스트 생성 모델이 정상적으로 동작하는가?\n",
        "##### * 텍스트 제너레이션 결과가 그럴듯한 문장으로 생성되는가?\n",
        "\n",
        "### 2. 데이터의 전처리와 데이터셋 구성 과정이 체계적으로 진행되었는가?\n",
        "##### * 특수문자 제거, 토크나이저 생성, 패딩처리 등의 과정이 빠짐없이 진행되었는가?\n",
        "\n",
        "### 3. 텍스트 생성모델이 안정적으로 학습되었는가? \n",
        "##### * 텍스트 생성모델의 validation loss가 2.2 이하로 낮아졌는가?\n",
        "---"
      ],
      "metadata": {
        "id": "FErK6yH3tEmv"
      }
    },
    {
      "cell_type": "markdown",
      "source": [
        "## [ 회고 ]\n",
        "\n",
        "* 초기 2번의 시도에서는 오류가 나지는 않았으나 validation loss값이 너무 커서\n",
        "평가를 하지 않았고,\n",
        "\n",
        "* 3, 4번째 시도에서는 val_loss가 어느 정도 낮아져서 테스트 생성을 했는데\n",
        "긴 문장이 만들어지지 않았다. 15 단어 이하로만 corpus를 구성하는 코드에서\n",
        "문제가 있었음을 발견했다.\n",
        "\n",
        "* 5번째 시도에서 val_loss가 2.2 이하로 떨어졌고 문장 생성 테스트를 한 결과\n",
        "이번에는 장문의 문장이 생성되었으나 문맥상 의미가 통하는 문장은 아니었다.\n",
        "\n",
        "  * max_len : 15, embedding_size : 128, hidden_size : 512, epoch : 10, Epoch 10/10\n",
        "487/487 [==============================] - 144s 296ms/step -<br>\n",
        "loss: 0.9885 - accuracy: 0.8096 -\n",
        "val_loss: 2.1481 - val_accuracy: 0.6740\n",
        "\n",
        "  * 문장 생성 함수 실행해 봄\n",
        "init_sentence=\" i love\", max_len=15 => i love reeboks nebraska nebraska dreamless lasi sposed clue depot lined lined flow flow\n",
        "\n",
        "* Final : max_len을 20으로 조정, epoch는 앞선 학습률 보고 7로 줄임\n",
        "  * val_loss: 1.5609 - val_accuracy: 0.7493\n",
        "  * 문장 생성은 충분히 길진 않으나 의미는 통하는 문장이 생성됨.\n",
        "\n",
        "=> 적절한 하이퍼 파라미터의 설정 기준은 무엇일까? <br>\n",
        "공식적으로 설정할 수 있는 어떤 기준은 있을 것인데 아직 그런 기준에 대한 이해가 부족한 점이 많다고 느낌. \n",
        "\n",
        "\n",
        "---\n"
      ],
      "metadata": {
        "id": "VVkH9xR_s0Xh"
      }
    }
  ]
}