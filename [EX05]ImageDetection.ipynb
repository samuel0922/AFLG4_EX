{
  "cells": [
    {
      "cell_type": "markdown",
      "metadata": {
        "id": "view-in-github",
        "colab_type": "text"
      },
      "source": [
        "<a href=\"https://colab.research.google.com/github/samuel0922/my_ex/blob/main/%5BEX05%5DImageDetection.ipynb\" target=\"_parent\"><img src=\"https://colab.research.google.com/assets/colab-badge.svg\" alt=\"Open In Colab\"/></a>"
      ]
    },
    {
      "cell_type": "markdown",
      "metadata": {
        "id": "jlePHV1NpM9N"
      },
      "source": [
        "---\n",
        "**[ EX05 ] Image Detection - 가위 바위 보**\n",
        "---\n",
        "### 순서 :\n",
        "* STEP 1. 환경설정<br>\n",
        "* STEP 2. 데이터 준비<br>\n",
        "* STEP 3. 데이터 전처리<br>\n",
        "* STEP 4. 딥러닝 네트워크 설계<br>\n",
        "* SETP 5. 딥러닝 네트워크 학습<br>\n",
        "* STEP 6. 테스트 및 성능 평가<br>\n",
        "* STEP 7. 성능 개선<br>\n",
        "  * Try1. 채널수 변경 \n",
        "  * Try2. Dense레이어 노드수 변경\n",
        "  * Try3. Epoch 변경\n",
        "  * Try4. 학습 데이터 증가 \n",
        "* STEP 8. 제출 및 루브릭<br>\n",
        "* SETP 9. 회고<br>\n",
        "\n",
        "---"
      ]
    },
    {
      "cell_type": "code",
      "source": [
        "from google.colab import drive\n",
        "drive.mount('/content/drive')"
      ],
      "metadata": {
        "colab": {
          "base_uri": "https://localhost:8080/"
        },
        "id": "PdfNPcxrbla8",
        "outputId": "f348e672-cc81-422a-8c03-b688c551fdcb"
      },
      "execution_count": 1,
      "outputs": [
        {
          "output_type": "stream",
          "name": "stdout",
          "text": [
            "Drive already mounted at /content/drive; to attempt to forcibly remount, call drive.mount(\"/content/drive\", force_remount=True).\n"
          ]
        }
      ]
    },
    {
      "cell_type": "markdown",
      "metadata": {
        "id": "OgkFgSNYrMje"
      },
      "source": [
        "**STEP 1. 환경 설정**"
      ]
    },
    {
      "cell_type": "code",
      "execution_count": 2,
      "metadata": {
        "colab": {
          "base_uri": "https://localhost:8080/"
        },
        "id": "vo4NWn2dxfzl",
        "outputId": "7175c7a0-0464-4093-e733-cfad872e8f24"
      },
      "outputs": [
        {
          "output_type": "stream",
          "name": "stdout",
          "text": [
            "2.8.0\n",
            "1.21.6\n",
            "PIL 라이브러리 import 완료!\n"
          ]
        }
      ],
      "source": [
        "#\n",
        "# 필요한 모듈 불러오기\n",
        "#\n",
        "\n",
        "import tensorflow as tf\n",
        "from tensorflow import keras\n",
        "\n",
        "import numpy as np\n",
        "import matplotlib.pyplot as plt\n",
        "import os\n",
        "\n",
        "print(tf.__version__)   # Tensorflow의 버전 확인\n",
        "print(np.__version__)   # Numpy의 버전 확인\n",
        "\n",
        "from PIL import Image\n",
        "import glob\n",
        "\n",
        "print(\"PIL 라이브러리 import 완료!\")\n"
      ]
    },
    {
      "cell_type": "markdown",
      "source": [
        "---\n",
        "**STEP 2. Train set 데이터 준비"
      ],
      "metadata": {
        "id": "CtNKa3LX0VDz"
      }
    },
    {
      "cell_type": "code",
      "source": [
        "\n",
        "# 이미지 사이즈 변경 함수 정의\n",
        "\n",
        "def resize_images(img_path):  # 각 img저장된 디렉토리 경로를 받아서\n",
        "\timages=glob.glob(img_path + \"/*.jpg\")  # list 형식으로 반환\n",
        "\n",
        "\tprint(len(images), \" images to be resized.\")\n",
        "\n",
        "    # 파일마다 모두 28x28 사이즈로 바꾸어 저장합니다.\n",
        "\ttarget_size=(28,28)\n",
        "\tfor img in images:\n",
        "\t\told_img=Image.open(img)\n",
        "\t\tnew_img=old_img.resize(target_size,Image.ANTIALIAS)\n",
        "\t\tnew_img.save(img, \"JPEG\")\n",
        "    \n",
        "\tprint(len(images), \" images resized.\")\n"
      ],
      "metadata": {
        "id": "7koxi4mJb2BF"
      },
      "execution_count": 3,
      "outputs": []
    },
    {
      "cell_type": "code",
      "source": [
        "#\n",
        "# train 데이터 준비 : train_rsp110\n",
        "#\n",
        "\n",
        "#\n",
        "# 각 이미지들을 폴더에서 불러서 resize 해 줌\n",
        "#\n",
        "# 가위 이미지가 저장된 디렉토리 아래의 모든 jpg 파일을 읽어들여서\n",
        "#mount_path = '/content/drive/MyDrive'\n",
        "#image_dir_path = mount_path + \"/aiffel/rock_scissor_paper/train_rsp100/scissor\"\n",
        "\n",
        "mount_path = '/content/drive/MyDrive'\n",
        "\n",
        "image_dir_path = mount_path + '/aiffel/rock_scissor_paper/train_rsp110/scissor'\n",
        "resize_images(image_dir_path)\n",
        "\n",
        "print(\"가위 이미지 resize 완료!\")\n",
        "\n",
        "\n",
        "# 바위 이미지가 저장된 디렉토리 아래의 모든 jpg 파일을 읽어들여서\n",
        "\n",
        "image_dir_path = mount_path + \"/aiffel/rock_scissor_paper/train_rsp110/rock\"\n",
        "resize_images(image_dir_path)\n",
        "\n",
        "print(\"바위 이미지 resize 완료!\")\n",
        "\n",
        "\n",
        "# 보 이미지가 저장된 디렉토리 아래의 모든 jpg 파일을 읽어들여서\n",
        "\n",
        "image_dir_path = mount_path + \"/aiffel/rock_scissor_paper/train_rsp110/paper\"\n",
        "resize_images(image_dir_path)\n",
        "\n",
        "print(\"보 이미지 resize 완료!\")\n",
        "\n"
      ],
      "metadata": {
        "colab": {
          "base_uri": "https://localhost:8080/"
        },
        "id": "GgbYRPUucxDd",
        "outputId": "247b7971-b5b4-4658-af20-3780399320c5"
      },
      "execution_count": 4,
      "outputs": [
        {
          "output_type": "stream",
          "name": "stdout",
          "text": [
            "110  images to be resized.\n",
            "110  images resized.\n",
            "가위 이미지 resize 완료!\n",
            "110  images to be resized.\n",
            "110  images resized.\n",
            "바위 이미지 resize 완료!\n",
            "110  images to be resized.\n",
            "110  images resized.\n",
            "보 이미지 resize 완료!\n"
          ]
        }
      ]
    },
    {
      "cell_type": "code",
      "source": [
        "# 이미지가 있는 폴더 위치를 받아서 데이터를 읽어줌\n",
        "\n",
        "def load_data(img_path, number_of_data=330):  # 가위바위보 이미지 개수 총합에 주의하세요.\n",
        "    # 가위 : 0, 바위 : 1, 보 : 2\n",
        "    img_size=28\n",
        "    color=3\n",
        "\n",
        "    #이미지 데이터와 라벨(가위 : 0, 바위 : 1, 보 : 2) 데이터를 담을 행렬(matrix) 영역을 생성합니다.\n",
        "    imgs=np.zeros(number_of_data*img_size*img_size*color,dtype=np.int32).reshape(number_of_data,img_size,img_size,color)\n",
        "    labels=np.zeros(number_of_data,dtype=np.int32)\n",
        "\n",
        "    idx=0\n",
        "    for file in glob.iglob(img_path+'/scissor/*.jpg'):\n",
        "        #print(img_path+'/scissor/*.jpg')\n",
        "        img = np.array(Image.open(file),dtype=np.int32)\n",
        "        imgs[idx,:,:,:]=img    # 데이터 영역에 이미지 행렬을 복사\n",
        "        labels[idx]=0   # 가위 : 0\n",
        "        idx=idx+1\n",
        "\n",
        "\n",
        "    for file in glob.iglob(img_path+'/rock/*.jpg'):\n",
        "        #print(img_path+'/rock/*.jpg')\n",
        "        img = np.array(Image.open(file),dtype=np.int32)\n",
        "        imgs[idx,:,:,:]=img    # 데이터 영역에 이미지 행렬을 복사\n",
        "        labels[idx]=1   # 바위 : 1\n",
        "        idx=idx+1  \n",
        "    \n",
        "    for file in glob.iglob(img_path+'/paper/*.jpg'):\n",
        "        #print(img_path+'/paper/*.jpg')\n",
        "        img = np.array(Image.open(file),dtype=np.int32)\n",
        "        imgs[idx,:,:,:]=img    # 데이터 영역에 이미지 행렬을 복사\n",
        "        labels[idx]=2   # 보 : 2\n",
        "        idx=idx+1\n",
        "     \n",
        "    print(\"학습데이터(x_train)의 이미지 개수는\", idx,\"입니다.\")\n",
        "    return imgs, labels\n",
        "\n",
        "image_dir_path = \"/content/drive/MyDrive/aiffel/rock_scissor_paper/train_rsp110\"\n",
        "\n",
        "(x_train, y_train)=load_data(image_dir_path)\n",
        "x_train_norm = x_train/255.0   # 입력은 0~1 사이의 값으로 정규화\n",
        "\n",
        "print(\"x_train shape: {}\".format(x_train.shape))\n",
        "print(\"y_train shape: {}\".format(y_train.shape))"
      ],
      "metadata": {
        "colab": {
          "base_uri": "https://localhost:8080/"
        },
        "id": "TpyX18Zqi943",
        "outputId": "2c12f727-cac7-4f18-f52d-cce8ec53088c"
      },
      "execution_count": 5,
      "outputs": [
        {
          "output_type": "stream",
          "name": "stdout",
          "text": [
            "학습데이터(x_train)의 이미지 개수는 330 입니다.\n",
            "x_train shape: (330, 28, 28, 3)\n",
            "y_train shape: (330,)\n"
          ]
        }
      ]
    },
    {
      "cell_type": "code",
      "source": [
        "#\n",
        "# test 데이터 준비 : test_rsp100\n",
        "#\n",
        "\n",
        "#\n",
        "# 각 이미지들을 폴더에서 불러서 resize 해 줌\n",
        "#\n",
        "# 가위 이미지가 저장된 디렉토리 아래의 모든 jpg 파일을 읽어들여서\n",
        "#mount_path = '/content/drive/MyDrive'\n",
        "#image_dir_path = mount_path + \"/aiffel/rock_scissor_paper/test_rsp100/scissor\"\n",
        "\n",
        "mount_path = '/content/drive/MyDrive'\n",
        "\n",
        "image_dir_path2 = mount_path + '/aiffel/rock_scissor_paper/test_rsp100/scissor'\n",
        "resize_images(image_dir_path2)\n",
        "\n",
        "print(\"가위 이미지 resize 완료!\")\n",
        "\n",
        "\n",
        "# 바위 이미지가 저장된 디렉토리 아래의 모든 jpg 파일을 읽어들여서\n",
        "\n",
        "image_dir_path2 = mount_path + \"/aiffel/rock_scissor_paper/test_rsp100/rock\"\n",
        "resize_images(image_dir_path2)\n",
        "\n",
        "print(\"바위 이미지 resize 완료!\")\n",
        "\n",
        "\n",
        "# 보 이미지가 저장된 디렉토리 아래의 모든 jpg 파일을 읽어들여서\n",
        "\n",
        "image_dir_path2 = mount_path + \"/aiffel/rock_scissor_paper/test_rsp100/paper\"\n",
        "resize_images(image_dir_path2)\n",
        "\n",
        "print(\"보 이미지 resize 완료!\")"
      ],
      "metadata": {
        "colab": {
          "base_uri": "https://localhost:8080/"
        },
        "id": "e2pfJIaB8aDt",
        "outputId": "e5932468-7ba5-4949-c83c-ef0fd71a961a"
      },
      "execution_count": 6,
      "outputs": [
        {
          "output_type": "stream",
          "name": "stdout",
          "text": [
            "100  images to be resized.\n",
            "100  images resized.\n",
            "가위 이미지 resize 완료!\n",
            "100  images to be resized.\n",
            "100  images resized.\n",
            "바위 이미지 resize 완료!\n",
            "100  images to be resized.\n",
            "100  images resized.\n",
            "보 이미지 resize 완료!\n"
          ]
        }
      ]
    },
    {
      "cell_type": "code",
      "source": [
        "# 이미지가 있는 폴더 위치를 받아서 데이터를 읽어서 정규화 해 줌 => 각 필셀의 값들을 255/로 나눠줌\n",
        "\n",
        "def load_data(img_path, number_of_data=330):  # 가위바위보 이미지 개수 총합에 주의하세요.\n",
        "    # 가위 : 0, 바위 : 1, 보 : 2\n",
        "    img_size=28\n",
        "    color=3\n",
        "\n",
        "    #이미지 데이터와 라벨(가위 : 0, 바위 : 1, 보 : 2) 데이터를 담을 행렬(matrix) 영역을 생성합니다.\n",
        "    imgs=np.zeros(number_of_data*img_size*img_size*color,dtype=np.int32).reshape(number_of_data,img_size,img_size,color)\n",
        "    labels=np.zeros(number_of_data,dtype=np.int32)\n",
        "\n",
        "    idx=0\n",
        "    for file in glob.iglob(img_path+'/scissor/*.jpg'):\n",
        "        #print(img_path+'/scissor/*.jpg')\n",
        "        img = np.array(Image.open(file),dtype=np.int32)\n",
        "        imgs[idx,:,:,:]=img    # 데이터 영역에 이미지 행렬을 복사\n",
        "        labels[idx]=0   # 가위 : 0\n",
        "        idx=idx+1\n",
        "\n",
        "\n",
        "    for file in glob.iglob(img_path+'/rock/*.jpg'):\n",
        "        #print(img_path+'/rock/*.jpg')\n",
        "        img = np.array(Image.open(file),dtype=np.int32)\n",
        "        imgs[idx,:,:,:]=img    # 데이터 영역에 이미지 행렬을 복사\n",
        "        labels[idx]=1   # 바위 : 1\n",
        "        idx=idx+1  \n",
        "    \n",
        "    for file in glob.iglob(img_path+'/paper/*.jpg'):\n",
        "        #print(img_path+'/paper/*.jpg')\n",
        "        img = np.array(Image.open(file),dtype=np.int32)\n",
        "        imgs[idx,:,:,:]=img    # 데이터 영역에 이미지 행렬을 복사\n",
        "        labels[idx]=2   # 보 : 2\n",
        "        idx=idx+1\n",
        "     \n",
        "    print(\"학습데이터(x_test)의 이미지 개수는\", idx,\"입니다.\")\n",
        "    return imgs, labels\n",
        "\n",
        "image_dir_path = \"/content/drive/MyDrive/aiffel/rock_scissor_paper/test_rsp100\"\n",
        "\n",
        "(x_test, y_test)=load_data(image_dir_path)\n",
        "x_test_norm = x_test/255.0   # 입력은 0~1 사이의 값으로 정규화\n",
        "\n",
        "print(\"x_test shape: {}\".format(x_test.shape))\n",
        "print(\"y_test shape: {}\".format(y_test.shape))"
      ],
      "metadata": {
        "colab": {
          "base_uri": "https://localhost:8080/"
        },
        "id": "yaVvgcVe8aQs",
        "outputId": "70be98d2-d9b3-4602-898a-dc588a3f3060"
      },
      "execution_count": 7,
      "outputs": [
        {
          "output_type": "stream",
          "name": "stdout",
          "text": [
            "학습데이터(x_test)의 이미지 개수는 300 입니다.\n",
            "x_test shape: (330, 28, 28, 3)\n",
            "y_test shape: (330,)\n"
          ]
        }
      ]
    },
    {
      "cell_type": "markdown",
      "metadata": {
        "id": "FN4Q-NdI7M6J"
      },
      "source": [
        "---\n",
        "** STEP 3. 네트워크 설계**"
      ]
    },
    {
      "cell_type": "code",
      "execution_count": 8,
      "metadata": {
        "colab": {
          "base_uri": "https://localhost:8080/"
        },
        "id": "WXTvNN6Q0RjO",
        "outputId": "00d74cfe-6012-40dc-e070-dad2aa35ebb1"
      },
      "outputs": [
        {
          "output_type": "stream",
          "name": "stdout",
          "text": [
            "Model: \"sequential\"\n",
            "_________________________________________________________________\n",
            " Layer (type)                Output Shape              Param #   \n",
            "=================================================================\n",
            " conv2d (Conv2D)             (None, 26, 26, 16)        448       \n",
            "                                                                 \n",
            " max_pooling2d (MaxPooling2D  (None, 13, 13, 16)       0         \n",
            " )                                                               \n",
            "                                                                 \n",
            " conv2d_1 (Conv2D)           (None, 11, 11, 32)        4640      \n",
            "                                                                 \n",
            " max_pooling2d_1 (MaxPooling  (None, 5, 5, 32)         0         \n",
            " 2D)                                                             \n",
            "                                                                 \n",
            " flatten (Flatten)           (None, 800)               0         \n",
            "                                                                 \n",
            " dense (Dense)               (None, 32)                25632     \n",
            "                                                                 \n",
            " dense_1 (Dense)             (None, 3)                 99        \n",
            "                                                                 \n",
            "=================================================================\n",
            "Total params: 30,819\n",
            "Trainable params: 30,819\n",
            "Non-trainable params: 0\n",
            "_________________________________________________________________\n"
          ]
        }
      ],
      "source": [
        "# 네트워크 설계해 보기 : BaseLIne Model\n",
        "\n",
        "# 바꿔 볼 수 있는 하이퍼파라미터들\n",
        "n_channel_1=16\n",
        "n_channel_2=32\n",
        "n_dense=32\n",
        "n_train_epoch=20\n",
        "\n",
        "model=keras.models.Sequential()\n",
        "model.add(keras.layers.Conv2D(n_channel_1, (3,3), activation='relu', input_shape=(28,28,3)))\n",
        "model.add(keras.layers.MaxPool2D(2,2))\n",
        "model.add(keras.layers.Conv2D(n_channel_2, (3,3), activation='relu'))\n",
        "model.add(keras.layers.MaxPooling2D((2,2)))\n",
        "model.add(keras.layers.Flatten())\n",
        "model.add(keras.layers.Dense(n_dense, activation='relu'))\n",
        "model.add(keras.layers.Dense(3, activation='softmax'))\n",
        "\n",
        "# 딥러닝 네트워크 확인해 보기\n",
        "model.summary()"
      ]
    },
    {
      "cell_type": "code",
      "source": [
        "# 네트워크에 대해 Layer의 구성과, 각 Layer에 대한 입출력 shape을 시각화 해 봄\n",
        "\n",
        "keras.utils.plot_model(model, show_shapes=True, dpi=70)"
      ],
      "metadata": {
        "colab": {
          "base_uri": "https://localhost:8080/",
          "height": 635
        },
        "id": "NHmr8I3K0m28",
        "outputId": "d7150e81-6584-40a6-9535-a630bdbc31a8"
      },
      "execution_count": 9,
      "outputs": [
        {
          "output_type": "execute_result",
          "data": {
            "text/plain": [
              "<IPython.core.display.Image object>"
            ],
            "image/png": "[encoded data removed]"
          },
          "metadata": {},
          "execution_count": 9
        }
      ]
    },
    {
      "cell_type": "markdown",
      "metadata": {
        "id": "fNIh00uo5fqK"
      },
      "source": [
        "---\n",
        "** STEP 4. 딥러닝 네트워크 학습시키기**"
      ]
    },
    {
      "cell_type": "code",
      "execution_count": 10,
      "metadata": {
        "colab": {
          "base_uri": "https://localhost:8080/"
        },
        "id": "n1uUxoP_80Na",
        "outputId": "d7de5f15-ca9c-49a2-bd62-31ae33177708"
      },
      "outputs": [
        {
          "output_type": "stream",
          "name": "stdout",
          "text": [
            "Epoch 1/20\n",
            "11/11 [==============================] - 2s 6ms/step - loss: 1.0904 - accuracy: 0.3606\n",
            "Epoch 2/20\n",
            "11/11 [==============================] - 0s 4ms/step - loss: 1.0521 - accuracy: 0.5545\n",
            "Epoch 3/20\n",
            "11/11 [==============================] - 0s 4ms/step - loss: 0.9899 - accuracy: 0.6576\n",
            "Epoch 4/20\n",
            "11/11 [==============================] - 0s 4ms/step - loss: 0.9043 - accuracy: 0.7091\n",
            "Epoch 5/20\n",
            "11/11 [==============================] - 0s 4ms/step - loss: 0.7639 - accuracy: 0.8545\n",
            "Epoch 6/20\n",
            "11/11 [==============================] - 0s 4ms/step - loss: 0.6074 - accuracy: 0.8727\n",
            "Epoch 7/20\n",
            "11/11 [==============================] - 0s 4ms/step - loss: 0.4455 - accuracy: 0.9394\n",
            "Epoch 8/20\n",
            "11/11 [==============================] - 0s 4ms/step - loss: 0.3157 - accuracy: 0.9394\n",
            "Epoch 9/20\n",
            "11/11 [==============================] - 0s 4ms/step - loss: 0.2216 - accuracy: 0.9697\n",
            "Epoch 10/20\n",
            "11/11 [==============================] - 0s 4ms/step - loss: 0.1605 - accuracy: 0.9727\n",
            "Epoch 11/20\n",
            "11/11 [==============================] - 0s 4ms/step - loss: 0.1256 - accuracy: 0.9758\n",
            "Epoch 12/20\n",
            "11/11 [==============================] - 0s 4ms/step - loss: 0.1091 - accuracy: 0.9727\n",
            "Epoch 13/20\n",
            "11/11 [==============================] - 0s 4ms/step - loss: 0.1453 - accuracy: 0.9636\n",
            "Epoch 14/20\n",
            "11/11 [==============================] - 0s 4ms/step - loss: 0.0798 - accuracy: 0.9818\n",
            "Epoch 15/20\n",
            "11/11 [==============================] - 0s 4ms/step - loss: 0.0632 - accuracy: 0.9818\n",
            "Epoch 16/20\n",
            "11/11 [==============================] - 0s 4ms/step - loss: 0.0736 - accuracy: 0.9848\n",
            "Epoch 17/20\n",
            "11/11 [==============================] - 0s 4ms/step - loss: 0.0533 - accuracy: 0.9879\n",
            "Epoch 18/20\n",
            "11/11 [==============================] - 0s 4ms/step - loss: 0.0481 - accuracy: 0.9818\n",
            "Epoch 19/20\n",
            "11/11 [==============================] - 0s 4ms/step - loss: 0.0440 - accuracy: 0.9909\n",
            "Epoch 20/20\n",
            "11/11 [==============================] - 0s 4ms/step - loss: 0.0432 - accuracy: 0.9939\n"
          ]
        },
        {
          "output_type": "execute_result",
          "data": {
            "text/plain": [
              "<keras.callbacks.History at 0x7f89701f6a90>"
            ]
          },
          "metadata": {},
          "execution_count": 10
        }
      ],
      "source": [
        "# 딥러닝 네트워크 학습\n",
        "# ephos : 학습 회수 => 20으로 설정\n",
        "\n",
        "model.compile(optimizer='adam',\n",
        "             loss='sparse_categorical_crossentropy',\n",
        "             metrics=['accuracy'])\n",
        "\n",
        "model.fit(x_train_norm, y_train, epochs=20)"
      ]
    },
    {
      "cell_type": "markdown",
      "source": [
        "---\n",
        "**STEP 5. 테스트 및 성능 확인"
      ],
      "metadata": {
        "id": "PRy--Od5-XmZ"
      }
    },
    {
      "cell_type": "code",
      "source": [
        "# 테스트 => evaluate( ) \n",
        "\n",
        "test_loss, test_accuracy = model.evaluate(x_test_norm,y_test, verbose=2)\n",
        "print(\"test_loss: {} \".format(test_loss))\n",
        "print(\"test_accuracy: {}\".format(test_accuracy))"
      ],
      "metadata": {
        "colab": {
          "base_uri": "https://localhost:8080/"
        },
        "id": "-8P0K4-dAkUu",
        "outputId": "cd34a38b-7dbd-4cd1-dcb1-dd6969da3d18"
      },
      "execution_count": 11,
      "outputs": [
        {
          "output_type": "stream",
          "name": "stdout",
          "text": [
            "11/11 - 0s - loss: 3.3390 - accuracy: 0.3030 - 202ms/epoch - 18ms/step\n",
            "test_loss: 3.338954210281372 \n",
            "test_accuracy: 0.3030303120613098\n"
          ]
        }
      ]
    },
    {
      "cell_type": "code",
      "source": [
        "def vis(history,name) :\n",
        "    plt.title(f\"{name.upper()}\")\n",
        "    plt.xlabel('epochs')\n",
        "    plt.ylabel(f\"{name.lower()}\")\n",
        "    value = history.history.get(name)\n",
        "    val_value = history.history.get(f\"val_{name}\",None)\n",
        "    epochs = range(1, len(value)+1)\n",
        "    plt.plot(epochs, value, 'b-', label=f'training {name}')\n",
        "    if val_value is not None :\n",
        "        plt.plot(epochs, val_value, 'r:', label=f'validation {name}')\n",
        "    plt.legend(loc='upper center', bbox_to_anchor=(0.05, 1.2) , fontsize=10 , ncol=1)\n",
        "    \n",
        "def plot_history(history) :\n",
        "    key_value = list(set([i.split(\"val_\")[-1] for i in list(history.history.keys())]))\n",
        "    plt.figure(figsize=(12, 4))\n",
        "    for idx , key in enumerate(key_value) :\n",
        "        plt.subplot(1, len(key_value), idx+1)\n",
        "        vis(history, key)\n",
        "    plt.tight_layout()\n",
        "    plt.show()"
      ],
      "metadata": {
        "id": "ehI5hpAG8tPN"
      },
      "execution_count": 12,
      "outputs": []
    },
    {
      "cell_type": "code",
      "source": [
        "# 모델의 추론에 대한 확률분포 확인 => predict()\n",
        "\n",
        "predicted_result = model.predict(x_test_norm)  # model이 추론한 확률값. 출력층에서 softmax()를 썼기 때문에 확률로 나온 것을 저장함\n",
        "predicted_labels = np.argmax(predicted_result, axis=1) # 라벨값 => 가장 확률값이 높은 것을 예측값으로 할당해 줌\n",
        "\n",
        "idx=0  #1번째 x_test를 살펴보자. \n",
        "print('model.predict() 결과 : ', predicted_result[idx])  # 가위 0, 바위 1, 보 2에 대한 예측확률값\n",
        "print('model이 추론한 가장 가능성이 높은 결과 : ', predicted_labels[idx])\n",
        "print('실제 데이터의 라벨 : ', y_test[idx])"
      ],
      "metadata": {
        "colab": {
          "base_uri": "https://localhost:8080/"
        },
        "id": "ITesJMmzAqg4",
        "outputId": "a9030d1f-7036-4eea-8ea7-9b3399b1fe2f"
      },
      "execution_count": 14,
      "outputs": [
        {
          "output_type": "stream",
          "name": "stdout",
          "text": [
            "model.predict() 결과 :  [1.5802577e-01 6.6622026e-04 8.4130800e-01]\n",
            "model이 추론한 가장 가능성이 높은 결과 :  2\n",
            "실제 데이터의 라벨 :  0\n"
          ]
        }
      ]
    },
    {
      "cell_type": "code",
      "source": [
        "# 모델이 추론한 결과와 실제 라벨 값이 다른 경우 확인\n",
        "\n",
        "import random\n",
        "\n",
        "wrong_predict_list=[]  # 예측값과 라벨값이 다른 경우를 담아둘 리스트를 할당해 둠\n",
        "\n",
        "for i, _ in enumerate(predicted_labels):  # enumerate(배열,start= ) 인수로 넘어온 인자에 대해 인덱스와 요소를 차례로 접근하게 해 줌.  \n",
        "    # 예측값을 인덱스에 따라 하나씩 뽑아내면서 \n",
        "\n",
        "    # i번째 test_labels과 y_test이 다른 경우만 모아 봅시다. \n",
        "    if predicted_labels[i] != y_test[i]:\n",
        "        wrong_predict_list.append(i)  # 다른 경우, 즉 예측이 틀린 경우만 추가해 줌\n",
        "\n",
        "print(\"잘못된 예측 건수: \" + str(len(wrong_predict_list)))\n",
        "\n",
        "# wrong_predict_list 에서 랜덤하게 5개만 뽑아봅시다.\n",
        "samples = random.choices(population=wrong_predict_list, k=5)\n",
        "\n",
        "for n in samples:  # 랜덤으로 뽑은 5개의 샘플에 대해서 요약해서 보여줌\n",
        "    print(\"예측확률분포: \" + str(predicted_result[n]))\n",
        "    print(\"라벨: \" + str(y_test[n]) + \", 예측결과: \" + str(predicted_labels[n]))\n",
        "    plt.imshow(x_test[n])  # cmap= 컬러맵\n",
        "    plt.show()"
      ],
      "metadata": {
        "colab": {
          "base_uri": "https://localhost:8080/",
          "height": 1000
        },
        "id": "VtDO-pZeBEbD",
        "outputId": "75a6e776-1e3b-48b8-f803-a4bfbf958a61"
      },
      "execution_count": 15,
      "outputs": [
        {
          "output_type": "stream",
          "name": "stdout",
          "text": [
            "잘못된 예측 건수: 230\n",
            "예측확률분포: [0.57943827 0.00856808 0.41199368]\n",
            "라벨: 2, 예측결과: 0\n"
          ]
        },
        {
          "output_type": "display_data",
          "data": {
            "text/plain": [
              "<Figure size 432x288 with 1 Axes>"
            ],
            "image/png": "[encoded data removed]"
          },
          "metadata": {
            "needs_background": "light"
          }
        },
        {
          "output_type": "stream",
          "name": "stdout",
          "text": [
            "예측확률분포: [0.03262685 0.00567433 0.9616988 ]\n",
            "라벨: 0, 예측결과: 2\n"
          ]
        },
        {
          "output_type": "display_data",
          "data": {
            "text/plain": [
              "<Figure size 432x288 with 1 Axes>"
            ],
            "image/png": "[encoded data removed]"
          },
          "metadata": {
            "needs_background": "light"
          }
        },
        {
          "output_type": "stream",
          "name": "stdout",
          "text": [
            "예측확률분포: [0.03022837 0.00705864 0.96271294]\n",
            "라벨: 0, 예측결과: 2\n"
          ]
        },
        {
          "output_type": "display_data",
          "data": {
            "text/plain": [
              "<Figure size 432x288 with 1 Axes>"
            ],
            "image/png": "[encoded data removed]"
          },
          "metadata": {
            "needs_background": "light"
          }
        },
        {
          "output_type": "stream",
          "name": "stdout",
          "text": [
            "예측확률분포: [0.04872133 0.07698181 0.87429684]\n",
            "라벨: 0, 예측결과: 2\n"
          ]
        },
        {
          "output_type": "display_data",
          "data": {
            "text/plain": [
              "<Figure size 432x288 with 1 Axes>"
            ],
            "image/png": "[encoded data removed]"
          },
          "metadata": {
            "needs_background": "light"
          }
        },
        {
          "output_type": "stream",
          "name": "stdout",
          "text": [
            "예측확률분포: [0.6954254  0.01030592 0.29426864]\n",
            "라벨: 1, 예측결과: 0\n"
          ]
        },
        {
          "output_type": "display_data",
          "data": {
            "text/plain": [
              "<Figure size 432x288 with 1 Axes>"
            ],
            "image/png": "[encoded data removed]"
          },
          "metadata": {
            "needs_background": "light"
          }
        }
      ]
    },
    {
      "cell_type": "markdown",
      "source": [
        "---\n",
        "## STEP 6. 성능 향상\n",
        "* 하이퍼 파라미터 변경\n",
        "> * 이미지특징 수 변경<br> \n",
        "> * Dense레이어 뉴런 수 변경<br>\n",
        "> * 학습 반복 횟수(epoch) 변경<br>\n",
        "> * 학습 데이터 수 증가<br>\n",
        "* 네트워크 설계 변경"
      ],
      "metadata": {
        "id": "oy79kmCcB8Hk"
      }
    },
    {
      "cell_type": "markdown",
      "source": [
        "### Try 1. channel 수 변경 => "
      ],
      "metadata": {
        "id": "-4QY1mfyArMw"
      }
    },
    {
      "cell_type": "code",
      "source": [
        "# 바꿔 볼 수 있는 하이퍼파라미터들\n",
        "n_channel_1=32\n",
        "n_channel_2=32\n",
        "n_dense=32\n",
        "n_train_epoch=10\n",
        "\n",
        "model=keras.models.Sequential()\n",
        "model.add(keras.layers.Conv2D(n_channel_1, (3,3), activation='relu', input_shape=(28,28,3)))\n",
        "model.add(keras.layers.MaxPool2D(2,2))\n",
        "model.add(keras.layers.Conv2D(n_channel_2, (3,3), activation='relu'))\n",
        "model.add(keras.layers.MaxPooling2D((2,2)))\n",
        "model.add(keras.layers.Flatten())\n",
        "model.add(keras.layers.Dense(n_dense, activation='relu'))\n",
        "model.add(keras.layers.Dense(3, activation='softmax'))\n",
        "\n",
        "model.summary()\n",
        "model.compile(optimizer='adam',\n",
        "             loss='sparse_categorical_crossentropy',\n",
        "             metrics=['accuracy'])\n",
        "\n",
        "\n",
        "# 모델 훈련\n",
        "model.fit(x_train_norm, y_train, epochs=n_train_epoch)\n",
        "\n",
        "# 테스트 => evaluate( ) \n",
        "\n",
        "test_loss, test_accuracy = model.evaluate(x_test_norm,y_test, verbose=2)\n",
        "print(\"test_loss: {} \".format(test_loss))\n",
        "print(\"test_accuracy: {}\".format(test_accuracy))"
      ],
      "metadata": {
        "colab": {
          "base_uri": "https://localhost:8080/"
        },
        "id": "QDaekmp8LNmW",
        "outputId": "c9c44bf5-d660-4650-909d-71ba662cfa72"
      },
      "execution_count": 17,
      "outputs": [
        {
          "output_type": "stream",
          "name": "stdout",
          "text": [
            "Model: \"sequential_1\"\n",
            "_________________________________________________________________\n",
            " Layer (type)                Output Shape              Param #   \n",
            "=================================================================\n",
            " conv2d_2 (Conv2D)           (None, 26, 26, 32)        896       \n",
            "                                                                 \n",
            " max_pooling2d_2 (MaxPooling  (None, 13, 13, 32)       0         \n",
            " 2D)                                                             \n",
            "                                                                 \n",
            " conv2d_3 (Conv2D)           (None, 11, 11, 32)        9248      \n",
            "                                                                 \n",
            " max_pooling2d_3 (MaxPooling  (None, 5, 5, 32)         0         \n",
            " 2D)                                                             \n",
            "                                                                 \n",
            " flatten_1 (Flatten)         (None, 800)               0         \n",
            "                                                                 \n",
            " dense_2 (Dense)             (None, 32)                25632     \n",
            "                                                                 \n",
            " dense_3 (Dense)             (None, 3)                 99        \n",
            "                                                                 \n",
            "=================================================================\n",
            "Total params: 35,875\n",
            "Trainable params: 35,875\n",
            "Non-trainable params: 0\n",
            "_________________________________________________________________\n",
            "Epoch 1/10\n",
            "11/11 [==============================] - 1s 6ms/step - loss: 1.0893 - accuracy: 0.3788\n",
            "Epoch 2/10\n",
            "11/11 [==============================] - 0s 4ms/step - loss: 1.0542 - accuracy: 0.4273\n",
            "Epoch 3/10\n",
            "11/11 [==============================] - 0s 4ms/step - loss: 0.9999 - accuracy: 0.7939\n",
            "Epoch 4/10\n",
            "11/11 [==============================] - 0s 4ms/step - loss: 0.8990 - accuracy: 0.7697\n",
            "Epoch 5/10\n",
            "11/11 [==============================] - 0s 4ms/step - loss: 0.7423 - accuracy: 0.9242\n",
            "Epoch 6/10\n",
            "11/11 [==============================] - 0s 4ms/step - loss: 0.5258 - accuracy: 0.9121\n",
            "Epoch 7/10\n",
            "11/11 [==============================] - 0s 4ms/step - loss: 0.3779 - accuracy: 0.9152\n",
            "Epoch 8/10\n",
            "11/11 [==============================] - 0s 4ms/step - loss: 0.2459 - accuracy: 0.9697\n",
            "Epoch 9/10\n",
            "11/11 [==============================] - 0s 4ms/step - loss: 0.1611 - accuracy: 0.9788\n",
            "Epoch 10/10\n",
            "11/11 [==============================] - 0s 4ms/step - loss: 0.1472 - accuracy: 0.9667\n",
            "11/11 - 0s - loss: 2.2778 - accuracy: 0.3212 - 168ms/epoch - 15ms/step\n",
            "test_loss: 2.277831554412842 \n",
            "test_accuracy: 0.32121211290359497\n"
          ]
        }
      ]
    },
    {
      "cell_type": "markdown",
      "source": [
        "### Try 2. Dense layer 뉴런 변경 => "
      ],
      "metadata": {
        "id": "JjFLkjxzDMKx"
      }
    },
    {
      "cell_type": "code",
      "source": [
        "# 바꿔 볼 수 있는 하이퍼파라미터들\n",
        "n_channel_1=32\n",
        "n_channel_2=32\n",
        "n_dense=64\n",
        "n_train_epoch=10\n",
        "\n",
        "model=keras.models.Sequential()\n",
        "model.add(keras.layers.Conv2D(n_channel_1, (3,3), activation='relu', input_shape=(28,28,3)))\n",
        "model.add(keras.layers.MaxPool2D(2,2))\n",
        "model.add(keras.layers.Conv2D(n_channel_2, (3,3), activation='relu'))\n",
        "model.add(keras.layers.MaxPooling2D((2,2)))\n",
        "model.add(keras.layers.Flatten())\n",
        "model.add(keras.layers.Dense(n_dense, activation='relu'))\n",
        "model.add(keras.layers.Dense(3, activation='softmax'))\n",
        "\n",
        "model.summary()\n",
        "model.compile(optimizer='adam',\n",
        "             loss='sparse_categorical_crossentropy',\n",
        "             metrics=['accuracy'])\n",
        "\n",
        "\n",
        "# 모델 훈련\n",
        "model.fit(x_train_norm, y_train, epochs=n_train_epoch)\n",
        "\n",
        "# 테스트 => evaluate( ) \n",
        "\n",
        "test_loss, test_accuracy = model.evaluate(x_test_norm,y_test, verbose=2)\n",
        "print(\"test_loss: {} \".format(test_loss))\n",
        "print(\"test_accuracy: {}\".format(test_accuracy))"
      ],
      "metadata": {
        "colab": {
          "base_uri": "https://localhost:8080/"
        },
        "id": "ywYs-EhC4MHC",
        "outputId": "38a5fe7b-9ca8-46ff-ffc7-62ee8d38d4d4"
      },
      "execution_count": 18,
      "outputs": [
        {
          "output_type": "stream",
          "name": "stdout",
          "text": [
            "Model: \"sequential_2\"\n",
            "_________________________________________________________________\n",
            " Layer (type)                Output Shape              Param #   \n",
            "=================================================================\n",
            " conv2d_4 (Conv2D)           (None, 26, 26, 32)        896       \n",
            "                                                                 \n",
            " max_pooling2d_4 (MaxPooling  (None, 13, 13, 32)       0         \n",
            " 2D)                                                             \n",
            "                                                                 \n",
            " conv2d_5 (Conv2D)           (None, 11, 11, 32)        9248      \n",
            "                                                                 \n",
            " max_pooling2d_5 (MaxPooling  (None, 5, 5, 32)         0         \n",
            " 2D)                                                             \n",
            "                                                                 \n",
            " flatten_2 (Flatten)         (None, 800)               0         \n",
            "                                                                 \n",
            " dense_4 (Dense)             (None, 64)                51264     \n",
            "                                                                 \n",
            " dense_5 (Dense)             (None, 3)                 195       \n",
            "                                                                 \n",
            "=================================================================\n",
            "Total params: 61,603\n",
            "Trainable params: 61,603\n",
            "Non-trainable params: 0\n",
            "_________________________________________________________________\n",
            "Epoch 1/10\n",
            "11/11 [==============================] - 1s 4ms/step - loss: 1.0903 - accuracy: 0.3667\n",
            "Epoch 2/10\n",
            "11/11 [==============================] - 0s 4ms/step - loss: 1.0410 - accuracy: 0.7061\n",
            "Epoch 3/10\n",
            "11/11 [==============================] - 0s 4ms/step - loss: 0.9705 - accuracy: 0.6333\n",
            "Epoch 4/10\n",
            "11/11 [==============================] - 0s 4ms/step - loss: 0.9076 - accuracy: 0.5364\n",
            "Epoch 5/10\n",
            "11/11 [==============================] - 0s 4ms/step - loss: 0.7543 - accuracy: 0.6970\n",
            "Epoch 6/10\n",
            "11/11 [==============================] - 0s 4ms/step - loss: 0.5629 - accuracy: 0.8667\n",
            "Epoch 7/10\n",
            "11/11 [==============================] - 0s 4ms/step - loss: 0.3789 - accuracy: 0.9576\n",
            "Epoch 8/10\n",
            "11/11 [==============================] - 0s 4ms/step - loss: 0.2620 - accuracy: 0.9697\n",
            "Epoch 9/10\n",
            "11/11 [==============================] - 0s 4ms/step - loss: 0.1964 - accuracy: 0.9727\n",
            "Epoch 10/10\n",
            "11/11 [==============================] - 0s 4ms/step - loss: 0.1374 - accuracy: 0.9758\n",
            "11/11 - 0s - loss: 2.4141 - accuracy: 0.2939 - 176ms/epoch - 16ms/step\n",
            "test_loss: 2.414090633392334 \n",
            "test_accuracy: 0.29393938183784485\n"
          ]
        }
      ]
    },
    {
      "cell_type": "markdown",
      "source": [
        "### Try 3. Epoch 변경 => "
      ],
      "metadata": {
        "id": "9rVELl8r4MRK"
      }
    },
    {
      "cell_type": "code",
      "source": [
        "# 바꿔 볼 수 있는 하이퍼파라미터들\n",
        "n_channel_1=32\n",
        "n_channel_2=32\n",
        "n_dense=64\n",
        "n_train_epoch=20\n",
        "\n",
        "model=keras.models.Sequential()\n",
        "model.add(keras.layers.Conv2D(n_channel_1, (3,3), activation='relu', input_shape=(28,28,3)))\n",
        "model.add(keras.layers.MaxPool2D(2,2))\n",
        "model.add(keras.layers.Conv2D(n_channel_2, (3,3), activation='relu'))\n",
        "model.add(keras.layers.MaxPooling2D((2,2)))\n",
        "model.add(keras.layers.Flatten())\n",
        "model.add(keras.layers.Dense(n_dense, activation='relu'))\n",
        "model.add(keras.layers.Dense(3, activation='softmax'))\n",
        "\n",
        "model.summary()\n",
        "model.compile(optimizer='adam',\n",
        "             loss='sparse_categorical_crossentropy',\n",
        "             metrics=['accuracy'])\n",
        "\n",
        "\n",
        "# 모델 훈련\n",
        "model.fit(x_train_norm, y_train, epochs=n_train_epoch)\n",
        "\n",
        "# 테스트 => evaluate( ) \n",
        "\n",
        "test_loss, test_accuracy = model.evaluate(x_test_norm,y_test, verbose=2)\n",
        "print(\"test_loss: {} \".format(test_loss))\n",
        "print(\"test_accuracy: {}\".format(test_accuracy))"
      ],
      "metadata": {
        "id": "upOV-Yyf4McH",
        "colab": {
          "base_uri": "https://localhost:8080/"
        },
        "outputId": "00004eee-3540-490e-be32-2f878a62fc2e"
      },
      "execution_count": 19,
      "outputs": [
        {
          "output_type": "stream",
          "name": "stdout",
          "text": [
            "Model: \"sequential_3\"\n",
            "_________________________________________________________________\n",
            " Layer (type)                Output Shape              Param #   \n",
            "=================================================================\n",
            " conv2d_6 (Conv2D)           (None, 26, 26, 32)        896       \n",
            "                                                                 \n",
            " max_pooling2d_6 (MaxPooling  (None, 13, 13, 32)       0         \n",
            " 2D)                                                             \n",
            "                                                                 \n",
            " conv2d_7 (Conv2D)           (None, 11, 11, 32)        9248      \n",
            "                                                                 \n",
            " max_pooling2d_7 (MaxPooling  (None, 5, 5, 32)         0         \n",
            " 2D)                                                             \n",
            "                                                                 \n",
            " flatten_3 (Flatten)         (None, 800)               0         \n",
            "                                                                 \n",
            " dense_6 (Dense)             (None, 64)                51264     \n",
            "                                                                 \n",
            " dense_7 (Dense)             (None, 3)                 195       \n",
            "                                                                 \n",
            "=================================================================\n",
            "Total params: 61,603\n",
            "Trainable params: 61,603\n",
            "Non-trainable params: 0\n",
            "_________________________________________________________________\n",
            "Epoch 1/20\n",
            "11/11 [==============================] - 1s 4ms/step - loss: 1.1001 - accuracy: 0.3727\n",
            "Epoch 2/20\n",
            "11/11 [==============================] - 0s 4ms/step - loss: 1.0143 - accuracy: 0.5697\n",
            "Epoch 3/20\n",
            "11/11 [==============================] - 0s 4ms/step - loss: 0.8708 - accuracy: 0.9485\n",
            "Epoch 4/20\n",
            "11/11 [==============================] - 0s 4ms/step - loss: 0.6808 - accuracy: 0.8485\n",
            "Epoch 5/20\n",
            "11/11 [==============================] - 0s 4ms/step - loss: 0.4881 - accuracy: 0.9182\n",
            "Epoch 6/20\n",
            "11/11 [==============================] - 0s 4ms/step - loss: 0.3397 - accuracy: 0.9606\n",
            "Epoch 7/20\n",
            "11/11 [==============================] - 0s 4ms/step - loss: 0.2021 - accuracy: 0.9636\n",
            "Epoch 8/20\n",
            "11/11 [==============================] - 0s 4ms/step - loss: 0.1450 - accuracy: 0.9727\n",
            "Epoch 9/20\n",
            "11/11 [==============================] - 0s 4ms/step - loss: 0.1312 - accuracy: 0.9667\n",
            "Epoch 10/20\n",
            "11/11 [==============================] - 0s 4ms/step - loss: 0.1196 - accuracy: 0.9667\n",
            "Epoch 11/20\n",
            "11/11 [==============================] - 0s 4ms/step - loss: 0.0785 - accuracy: 0.9788\n",
            "Epoch 12/20\n",
            "11/11 [==============================] - 0s 4ms/step - loss: 0.0785 - accuracy: 0.9758\n",
            "Epoch 13/20\n",
            "11/11 [==============================] - 0s 4ms/step - loss: 0.0590 - accuracy: 0.9818\n",
            "Epoch 14/20\n",
            "11/11 [==============================] - 0s 4ms/step - loss: 0.0467 - accuracy: 0.9818\n",
            "Epoch 15/20\n",
            "11/11 [==============================] - 0s 4ms/step - loss: 0.0522 - accuracy: 0.9818\n",
            "Epoch 16/20\n",
            "11/11 [==============================] - 0s 4ms/step - loss: 0.0554 - accuracy: 0.9818\n",
            "Epoch 17/20\n",
            "11/11 [==============================] - 0s 4ms/step - loss: 0.0585 - accuracy: 0.9909\n",
            "Epoch 18/20\n",
            "11/11 [==============================] - 0s 4ms/step - loss: 0.0301 - accuracy: 1.0000\n",
            "Epoch 19/20\n",
            "11/11 [==============================] - 0s 4ms/step - loss: 0.0185 - accuracy: 1.0000\n",
            "Epoch 20/20\n",
            "11/11 [==============================] - 0s 4ms/step - loss: 0.0190 - accuracy: 1.0000\n",
            "11/11 - 0s - loss: 3.7319 - accuracy: 0.3061 - 170ms/epoch - 15ms/step\n",
            "test_loss: 3.7319297790527344 \n",
            "test_accuracy: 0.3060606122016907\n"
          ]
        }
      ]
    },
    {
      "cell_type": "markdown",
      "source": [
        "## Try 4. 훈련 데이터 수 증가"
      ],
      "metadata": {
        "id": "Hmsjm5WE4Mlx"
      }
    },
    {
      "cell_type": "code",
      "source": [
        "#\n",
        "# 각 이미지들을 폴더에서 불러서 resize 해 줌\n",
        "#\n",
        "# 가위 이미지가 저장된 디렉토리 아래의 모든 jpg 파일을 읽어들여서\n",
        "#mount_path = '/content/drive/MyDrive'\n",
        "#image_dir_path = mount_path + \"/aiffel/rock_scissor_paper/train_rsp100/scissor\"\n",
        "\n",
        "mount_path = '/content/drive/MyDrive'\n",
        "\n",
        "image_dir_path3 = mount_path + '/aiffel/rock_scissor_paper/train_rsp1371/scissor'\n",
        "resize_images(image_dir_path3)\n",
        "\n",
        "print(\"가위 이미지 resize 완료!\")\n",
        "\n",
        "\n",
        "# 바위 이미지가 저장된 디렉토리 아래의 모든 jpg 파일을 읽어들여서\n",
        "\n",
        "image_dir_path3 = mount_path + \"/aiffel/rock_scissor_paper/train_rsp1371/rock\"\n",
        "resize_images(image_dir_path3)\n",
        "\n",
        "print(\"바위 이미지 resize 완료!\")\n",
        "\n",
        "\n",
        "# 보 이미지가 저장된 디렉토리 아래의 모든 jpg 파일을 읽어들여서\n",
        "\n",
        "image_dir_path3 = mount_path + \"/aiffel/rock_scissor_paper/train_rsp1371/paper\"\n",
        "resize_images(image_dir_path3)\n",
        "\n",
        "print(\"보 이미지 resize 완료!\")\n"
      ],
      "metadata": {
        "colab": {
          "base_uri": "https://localhost:8080/"
        },
        "id": "xh6yhglGEbsl",
        "outputId": "fa27de45-95e2-4a80-be0d-fcc992d4f81c"
      },
      "execution_count": 20,
      "outputs": [
        {
          "output_type": "stream",
          "name": "stdout",
          "text": [
            "1371  images to be resized.\n",
            "1371  images resized.\n",
            "가위 이미지 resize 완료!\n",
            "1371  images to be resized.\n",
            "1371  images resized.\n",
            "바위 이미지 resize 완료!\n",
            "1371  images to be resized.\n",
            "1371  images resized.\n",
            "보 이미지 resize 완료!\n"
          ]
        }
      ]
    },
    {
      "cell_type": "code",
      "source": [
        "# 이미지가 있는 폴더 위치를 받아서 데이터를 읽어서 정규화 해 줌 => 각 필셀의 값들을 255/로 나눠줌\n",
        "\n",
        "def load_data(img_path, number_of_data=4113):  # 가위바위보 이미지 개수 총합에 주의하세요.\n",
        "    # 가위 : 0, 바위 : 1, 보 : 2\n",
        "    img_size=28\n",
        "    color=3\n",
        "\n",
        "    #이미지 데이터와 라벨(가위 : 0, 바위 : 1, 보 : 2) 데이터를 담을 행렬(matrix) 영역을 생성합니다.\n",
        "    imgs=np.zeros(number_of_data*img_size*img_size*color,dtype=np.int32).reshape(number_of_data,img_size,img_size,color)\n",
        "    labels=np.zeros(number_of_data,dtype=np.int32)\n",
        "\n",
        "    idx=0\n",
        "    for file in glob.iglob(img_path+'/scissor/*.jpg'):\n",
        "        #print(img_path+'/scissor/*.jpg')\n",
        "        img = np.array(Image.open(file),dtype=np.int32)\n",
        "        imgs[idx,:,:,:]=img    # 데이터 영역에 이미지 행렬을 복사\n",
        "        labels[idx]=0   # 가위 : 0\n",
        "        idx=idx+1\n",
        "\n",
        "\n",
        "    for file in glob.iglob(img_path+'/rock/*.jpg'):\n",
        "        #print(img_path+'/rock/*.jpg')\n",
        "        img = np.array(Image.open(file),dtype=np.int32)\n",
        "        imgs[idx,:,:,:]=img    # 데이터 영역에 이미지 행렬을 복사\n",
        "        labels[idx]=1   # 바위 : 1\n",
        "        idx=idx+1  \n",
        "    \n",
        "    for file in glob.iglob(img_path+'/paper/*.jpg'):\n",
        "        #print(img_path+'/paper/*.jpg')\n",
        "        img = np.array(Image.open(file),dtype=np.int32)\n",
        "        imgs[idx,:,:,:]=img    # 데이터 영역에 이미지 행렬을 복사\n",
        "        labels[idx]=2   # 보 : 2\n",
        "        idx=idx+1\n",
        "     \n",
        "    print(\"학습데이터(x_test)의 이미지 개수는\", idx,\"입니다.\")\n",
        "    return imgs, labels\n",
        "\n",
        "image_dir_path2 = \"/content/drive/MyDrive/aiffel/rock_scissor_paper/train_rsp1371\"\n",
        "\n",
        "(x_train2, y_train2)=load_data(image_dir_path2)\n",
        "x_train2_norm = x_train2/255.0   # 입력은 0~1 사이의 값으로 정규화\n",
        "\n",
        "print(\"x_train2 shape: {}\".format(x_train2.shape))\n",
        "print(\"y_train2 shape: {}\".format(y_train2.shape))"
      ],
      "metadata": {
        "colab": {
          "base_uri": "https://localhost:8080/"
        },
        "id": "TlAC-pt8Eb2N",
        "outputId": "6cc6dbc3-d3ad-44c2-a13a-3a81f79b3828"
      },
      "execution_count": 23,
      "outputs": [
        {
          "output_type": "stream",
          "name": "stdout",
          "text": [
            "학습데이터(x_test)의 이미지 개수는 4113 입니다.\n",
            "x_train2 shape: (4113, 28, 28, 3)\n",
            "y_train2 shape: (4113,)\n"
          ]
        }
      ]
    },
    {
      "cell_type": "code",
      "source": [
        "# 네트워크 설계해 보기 : Try4\n",
        "\n",
        "# 바꿔 볼 수 있는 하이퍼파라미터들\n",
        "n_channel_1=32\n",
        "n_channel_2=32\n",
        "n_dense=64\n",
        "n_train_epoch=20\n",
        "\n",
        "model=keras.models.Sequential()\n",
        "model.add(keras.layers.Conv2D(n_channel_1, (3,3), activation='relu', input_shape=(28,28,3)))\n",
        "model.add(keras.layers.MaxPool2D(2,2))\n",
        "model.add(keras.layers.Conv2D(n_channel_2, (3,3), activation='relu'))\n",
        "model.add(keras.layers.MaxPooling2D((2,2)))\n",
        "model.add(keras.layers.Flatten())\n",
        "model.add(keras.layers.Dropout(0.5))\n",
        "model.add(keras.layers.Dense(n_dense, activation='relu'))\n",
        "model.add(keras.layers.Dropout(0.5))\n",
        "model.add(keras.layers.Dense(3, activation='softmax'))\n",
        "\n",
        "# 딥러닝 네트워크 확인해 보기\n",
        "model.summary()"
      ],
      "metadata": {
        "colab": {
          "base_uri": "https://localhost:8080/"
        },
        "id": "65vRVgQwEb5I",
        "outputId": "9883be63-14e9-4c20-f0ff-0e13dfb4fd9b"
      },
      "execution_count": 26,
      "outputs": [
        {
          "output_type": "stream",
          "name": "stdout",
          "text": [
            "Model: \"sequential_6\"\n",
            "_________________________________________________________________\n",
            " Layer (type)                Output Shape              Param #   \n",
            "=================================================================\n",
            " conv2d_12 (Conv2D)          (None, 26, 26, 32)        896       \n",
            "                                                                 \n",
            " max_pooling2d_12 (MaxPoolin  (None, 13, 13, 32)       0         \n",
            " g2D)                                                            \n",
            "                                                                 \n",
            " conv2d_13 (Conv2D)          (None, 11, 11, 32)        9248      \n",
            "                                                                 \n",
            " max_pooling2d_13 (MaxPoolin  (None, 5, 5, 32)         0         \n",
            " g2D)                                                            \n",
            "                                                                 \n",
            " flatten_6 (Flatten)         (None, 800)               0         \n",
            "                                                                 \n",
            " dropout (Dropout)           (None, 800)               0         \n",
            "                                                                 \n",
            " dense_12 (Dense)            (None, 64)                51264     \n",
            "                                                                 \n",
            " dropout_1 (Dropout)         (None, 64)                0         \n",
            "                                                                 \n",
            " dense_13 (Dense)            (None, 3)                 195       \n",
            "                                                                 \n",
            "=================================================================\n",
            "Total params: 61,603\n",
            "Trainable params: 61,603\n",
            "Non-trainable params: 0\n",
            "_________________________________________________________________\n"
          ]
        }
      ]
    },
    {
      "cell_type": "code",
      "source": [
        "model.compile(optimizer='adam',\n",
        "             loss='sparse_categorical_crossentropy',\n",
        "             metrics=['accuracy'])\n",
        "\n",
        "\n",
        "# 모델 훈련\n",
        "history = model.fit(x_train2_norm, y_train2, epochs=n_train_epoch)\n",
        "\n",
        "# 테스트 => evaluate( ) \n",
        "\n",
        "test2_loss, test2_accuracy = model.evaluate(x_test2_norm,y_test2, verbose=2)\n",
        "print(\"test_loss: {} \".format(test2_loss))\n",
        "print(\"test_accuracy: {}\".format(test2_accuracy))"
      ],
      "metadata": {
        "colab": {
          "base_uri": "https://localhost:8080/"
        },
        "id": "0gZoL15dEb73",
        "outputId": "5eda50d6-6735-4636-ea00-587ed330ccfc"
      },
      "execution_count": 32,
      "outputs": [
        {
          "output_type": "stream",
          "name": "stdout",
          "text": [
            "Epoch 1/20\n",
            "129/129 [==============================] - 1s 4ms/step - loss: 0.1542 - accuracy: 0.9416\n",
            "Epoch 2/20\n",
            "129/129 [==============================] - 0s 4ms/step - loss: 0.1438 - accuracy: 0.9441\n",
            "Epoch 3/20\n",
            "129/129 [==============================] - 0s 4ms/step - loss: 0.1531 - accuracy: 0.9429\n",
            "Epoch 4/20\n",
            "129/129 [==============================] - 0s 4ms/step - loss: 0.1566 - accuracy: 0.9429\n",
            "Epoch 5/20\n",
            "129/129 [==============================] - 0s 4ms/step - loss: 0.1374 - accuracy: 0.9521\n",
            "Epoch 6/20\n",
            "129/129 [==============================] - 0s 4ms/step - loss: 0.1138 - accuracy: 0.9587\n",
            "Epoch 7/20\n",
            "129/129 [==============================] - 0s 4ms/step - loss: 0.1316 - accuracy: 0.9502\n",
            "Epoch 8/20\n",
            "129/129 [==============================] - 0s 4ms/step - loss: 0.1286 - accuracy: 0.9548\n",
            "Epoch 9/20\n",
            "129/129 [==============================] - 0s 4ms/step - loss: 0.1222 - accuracy: 0.9567\n",
            "Epoch 10/20\n",
            "129/129 [==============================] - 0s 4ms/step - loss: 0.1259 - accuracy: 0.9519\n",
            "Epoch 11/20\n",
            "129/129 [==============================] - 0s 4ms/step - loss: 0.1238 - accuracy: 0.9555\n",
            "Epoch 12/20\n",
            "129/129 [==============================] - 0s 4ms/step - loss: 0.1115 - accuracy: 0.9621\n",
            "Epoch 13/20\n",
            "129/129 [==============================] - 0s 4ms/step - loss: 0.1070 - accuracy: 0.9592\n",
            "Epoch 14/20\n",
            "129/129 [==============================] - 0s 4ms/step - loss: 0.1230 - accuracy: 0.9582\n",
            "Epoch 15/20\n",
            "129/129 [==============================] - 0s 4ms/step - loss: 0.1169 - accuracy: 0.9565\n",
            "Epoch 16/20\n",
            "129/129 [==============================] - 0s 4ms/step - loss: 0.1080 - accuracy: 0.9652\n",
            "Epoch 17/20\n",
            "129/129 [==============================] - 0s 4ms/step - loss: 0.1171 - accuracy: 0.9604\n",
            "Epoch 18/20\n",
            "129/129 [==============================] - 0s 4ms/step - loss: 0.1197 - accuracy: 0.9570\n",
            "Epoch 19/20\n",
            "129/129 [==============================] - 0s 4ms/step - loss: 0.1023 - accuracy: 0.9630\n",
            "Epoch 20/20\n",
            "129/129 [==============================] - 0s 4ms/step - loss: 0.1073 - accuracy: 0.9596\n",
            "129/129 - 0s - loss: 0.0245 - accuracy: 0.9990 - 431ms/epoch - 3ms/step\n",
            "test_loss: 0.024511856958270073 \n",
            "test_accuracy: 0.9990274906158447\n"
          ]
        }
      ]
    },
    {
      "cell_type": "markdown",
      "source": [
        "## [ 루브릭 ]\n",
        "##### 1. 이미지 분류기 모델이 성공적으로 만들어졌는가?\n",
        "\n",
        "* 트레이닝이 정상적으로 수행되었음\n",
        "\n",
        "##### 2. 오버피팅을 극복하기 위한 적절한 시도가 있었는가?\n",
        "\n",
        "* 데이터셋의 다양성, 정규화 등의 시도가 적절하였음\n",
        "\n",
        "##### 3. 분류모델의 test accuracy가 기준 이상 높게 나왔는가?\n",
        "\n",
        "* 60% 이상 도"
      ],
      "metadata": {
        "id": "GDX_dZVFEcWX"
      }
    },
    {
      "cell_type": "markdown",
      "source": [
        "## [ 회고 ]\n",
        "\n",
        "1. 이번 과제에서는 이미지를 분류하기 위한 신경망 모델을 설계하고<br>\n",
        " 다양한 하이퍼파라미터를 조정하면서 최적의 설정을 찾아내는<br> \n",
        " 일련의 과정을 수행하였다.\n",
        "\n",
        "2. 데이터에 대한 기본적인 전처리를 거쳐 훈련과 테스트에 필요한<br>\n",
        "데이터셋을 구성하였으며, 세 종류의 데이터셋을 확보해 활용하였다. \n",
        "\n",
        "3. Node에서 제시한 Baseline 모델을 학습시키고 평가한 결과<br> \n",
        "30.3%의 낮은 정확도를 나타냈기에, 이를 향상시키기 위해 네 가지의<br> \n",
        "시도를 적용해 보았다.\n",
        "\n",
        "  * Try 1. 필터 수 증가를 통해 피처를 증가\n",
        "    => 32.1% 로 소폭 증가. 무의미함<br>\n",
        "  * Try 2 Dense 레이어의 노드 수 증가\n",
        "    => 29.7% 로 소폭 감소.<br>\n",
        "  * Try 3. Epoch 증가<br>\n",
        "    => 30.6% 로 Try 2보다 소포 증가했으나,\n",
        "    Try 1보다는 낮음\n",
        "  * Try 4. 훈련 데이터수 증가<br>\n",
        "    => 100% 로 급증하였으나 과적합된 것으로\n",
        "    판단됨\n",
        "  * Try 4-1.DropOut을 추가<br>\n",
        "    => 96.6%로 과적합에서 벗어남\n",
        "\n",
        "일부 조원들이 과제 진행 과정에서 충분한 정확성이 나오지 않아<br>\n",
        "다양한 시도를 진행한 것을 들으면서 본인의 과제를 진행하였는데,<br>\n",
        "본인 과제 처리에 급급하여 세부적인 내용들에 대해 의견을<br>\n",
        "교환할 시간을 갖지 못하였기에 그 점 아쉽고, 본인 과제가<br>\n",
        "제대로 된 방향성을 가지고 진행된 것인지 확인이 필요하다<br><br> \n",
        "그리고 추가적으로 모델을 다양하게 구성해서 그에 따른 <br>\n",
        "모델의 예측 결과를 평가, 비교해 보고자 했으나, 이번엔 <br>\n",
        "시한이 촉박하여 진행하지 못한 점이 아쉽다. <br>\n",
        "시간이 나서 다시 리뷰할 기회가 생긴다면 모델을 다양하게<br>\n",
        "구성하면서 그에 따른 정확성의 변화를 확인해 보고<br>\n",
        "모델 구성에 대한 이해력을 향상시킬 필요가 있겠다.\n",
        " "
      ],
      "metadata": {
        "id": "JoZxa6NMEcZv"
      }
    }
  ],
  "metadata": {
    "colab": {
      "name": "[EX05]ImageDetection.ipynb",
      "provenance": [],
      "collapsed_sections": [],
      "machine_shape": "hm",
      "mount_file_id": "1f5QCCFigjeEQS2qAjb4rzbSVpXzXluqZ",
      "authorship_tag": "ABX9TyMj9PqZ55anvw7nPsHBE1AQ",
      "include_colab_link": true
    },
    "kernelspec": {
      "display_name": "Python 3",
      "name": "python3"
    },
    "language_info": {
      "name": "python"
    },
    "accelerator": "GPU"
  },
  "nbformat": 4,
  "nbformat_minor": 0
}