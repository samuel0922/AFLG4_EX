{
  "cells": [
    {
      "cell_type": "markdown",
      "metadata": {
        "id": "view-in-github",
        "colab_type": "text"
      },
      "source": [
        "<a href=\"https://colab.research.google.com/github/samuel0922/my_ex/blob/main/%5BEX_11%5DTransformer_Chatbot.ipynb\" target=\"_parent\"><img src=\"https://colab.research.google.com/assets/colab-badge.svg\" alt=\"Open In Colab\"/></a>"
      ]
    },
    {
      "cell_type": "markdown",
      "source": [
        "# [ EX_11 ] Transformer_Chatbot\n",
        "### * 개요 : 한국어 데이터로 챗봇 만들기\n",
        "### * 목차\n",
        "* STEP 0. 환경 설정하기 \n",
        "* STEP 1. 데이터 수집하기\n",
        "* STEP 2. 데이터 전처리하기\n",
        "* STEP 3. SubwordTextEncoder 사용하기\n",
        "* STEP 4. 모델 구성하기\n",
        "* STEP 5. 모델 평가하기\n",
        "* 루브릭 및 회고\n"
      ],
      "metadata": {
        "id": "BQJAH_oyRiYM"
      }
    },
    {
      "cell_type": "markdown",
      "source": [
        "---\n",
        "## STEP 0. 환경설정"
      ],
      "metadata": {
        "id": "kYYgmtoORcVe"
      }
    },
    {
      "cell_type": "code",
      "execution_count": 1,
      "metadata": {
        "id": "HAOEw_GKrvZn"
      },
      "outputs": [],
      "source": [
        "import tensorflow as tf\n",
        "import tensorflow_datasets as tfds\n",
        "import os\n",
        "import re\n",
        "import pandas as pd\n",
        "import numpy as np\n",
        "import matplotlib.pyplot as plt"
      ]
    },
    {
      "cell_type": "markdown",
      "source": [
        "---\n",
        "## STEP 1. 데이터 수집하기"
      ],
      "metadata": {
        "id": "erFMc6XkSWt7"
      }
    },
    {
      "cell_type": "code",
      "source": [
        "# 데이터 준비 : 한국어 챗봇 데이터는 송영숙님이 공개한 챗봇 데이터를 사용\n",
        "\n",
        "chatbot_data = pd.read_csv(\"/content/drive/MyDrive/aiffel/transformer_chatbot/data/ChatbotData.csv\", sep=',')\n",
        "chatbot_data"
      ],
      "metadata": {
        "colab": {
          "base_uri": "https://localhost:8080/",
          "height": 423
        },
        "id": "JvQyjzP_Llsv",
        "outputId": "942b3ea7-ff64-41d9-ef81-bd44314a5396"
      },
      "execution_count": 2,
      "outputs": [
        {
          "output_type": "execute_result",
          "data": {
            "text/plain": [
              "                             Q                         A  label\n",
              "0                       12시 땡!                하루가 또 가네요.      0\n",
              "1                  1지망 학교 떨어졌어                 위로해 드립니다.      0\n",
              "2                 3박4일 놀러가고 싶다               여행은 언제나 좋죠.      0\n",
              "3              3박4일 정도 놀러가고 싶다               여행은 언제나 좋죠.      0\n",
              "4                      PPL 심하네                눈살이 찌푸려지죠.      0\n",
              "...                        ...                       ...    ...\n",
              "11818           훔쳐보는 것도 눈치 보임.        티가 나니까 눈치가 보이는 거죠!      2\n",
              "11819           훔쳐보는 것도 눈치 보임.             훔쳐보는 거 티나나봐요.      2\n",
              "11820              흑기사 해주는 짝남.                    설렜겠어요.      2\n",
              "11821  힘든 연애 좋은 연애라는게 무슨 차이일까?  잘 헤어질 수 있는 사이 여부인 거 같아요.      2\n",
              "11822               힘들어서 결혼할까봐        도피성 결혼은 하지 않길 바라요.      2\n",
              "\n",
              "[11823 rows x 3 columns]"
            ],
            "text/html": [
              "\n",
              "  <div id=\"df-0176d43a-8217-4e22-834b-7ce44f54986a\">\n",
              "    <div class=\"colab-df-container\">\n",
              "      <div>\n",
              "<style scoped>\n",
              "    .dataframe tbody tr th:only-of-type {\n",
              "        vertical-align: middle;\n",
              "    }\n",
              "\n",
              "    .dataframe tbody tr th {\n",
              "        vertical-align: top;\n",
              "    }\n",
              "\n",
              "    .dataframe thead th {\n",
              "        text-align: right;\n",
              "    }\n",
              "</style>\n",
              "<table border=\"1\" class=\"dataframe\">\n",
              "  <thead>\n",
              "    <tr style=\"text-align: right;\">\n",
              "      <th></th>\n",
              "      <th>Q</th>\n",
              "      <th>A</th>\n",
              "      <th>label</th>\n",
              "    </tr>\n",
              "  </thead>\n",
              "  <tbody>\n",
              "    <tr>\n",
              "      <th>0</th>\n",
              "      <td>12시 땡!</td>\n",
              "      <td>하루가 또 가네요.</td>\n",
              "      <td>0</td>\n",
              "    </tr>\n",
              "    <tr>\n",
              "      <th>1</th>\n",
              "      <td>1지망 학교 떨어졌어</td>\n",
              "      <td>위로해 드립니다.</td>\n",
              "      <td>0</td>\n",
              "    </tr>\n",
              "    <tr>\n",
              "      <th>2</th>\n",
              "      <td>3박4일 놀러가고 싶다</td>\n",
              "      <td>여행은 언제나 좋죠.</td>\n",
              "      <td>0</td>\n",
              "    </tr>\n",
              "    <tr>\n",
              "      <th>3</th>\n",
              "      <td>3박4일 정도 놀러가고 싶다</td>\n",
              "      <td>여행은 언제나 좋죠.</td>\n",
              "      <td>0</td>\n",
              "    </tr>\n",
              "    <tr>\n",
              "      <th>4</th>\n",
              "      <td>PPL 심하네</td>\n",
              "      <td>눈살이 찌푸려지죠.</td>\n",
              "      <td>0</td>\n",
              "    </tr>\n",
              "    <tr>\n",
              "      <th>...</th>\n",
              "      <td>...</td>\n",
              "      <td>...</td>\n",
              "      <td>...</td>\n",
              "    </tr>\n",
              "    <tr>\n",
              "      <th>11818</th>\n",
              "      <td>훔쳐보는 것도 눈치 보임.</td>\n",
              "      <td>티가 나니까 눈치가 보이는 거죠!</td>\n",
              "      <td>2</td>\n",
              "    </tr>\n",
              "    <tr>\n",
              "      <th>11819</th>\n",
              "      <td>훔쳐보는 것도 눈치 보임.</td>\n",
              "      <td>훔쳐보는 거 티나나봐요.</td>\n",
              "      <td>2</td>\n",
              "    </tr>\n",
              "    <tr>\n",
              "      <th>11820</th>\n",
              "      <td>흑기사 해주는 짝남.</td>\n",
              "      <td>설렜겠어요.</td>\n",
              "      <td>2</td>\n",
              "    </tr>\n",
              "    <tr>\n",
              "      <th>11821</th>\n",
              "      <td>힘든 연애 좋은 연애라는게 무슨 차이일까?</td>\n",
              "      <td>잘 헤어질 수 있는 사이 여부인 거 같아요.</td>\n",
              "      <td>2</td>\n",
              "    </tr>\n",
              "    <tr>\n",
              "      <th>11822</th>\n",
              "      <td>힘들어서 결혼할까봐</td>\n",
              "      <td>도피성 결혼은 하지 않길 바라요.</td>\n",
              "      <td>2</td>\n",
              "    </tr>\n",
              "  </tbody>\n",
              "</table>\n",
              "<p>11823 rows × 3 columns</p>\n",
              "</div>\n",
              "      <button class=\"colab-df-convert\" onclick=\"convertToInteractive('df-0176d43a-8217-4e22-834b-7ce44f54986a')\"\n",
              "              title=\"Convert this dataframe to an interactive table.\"\n",
              "              style=\"display:none;\">\n",
              "        \n",
              "  <svg xmlns=\"http://www.w3.org/2000/svg\" height=\"24px\"viewBox=\"0 0 24 24\"\n",
              "       width=\"24px\">\n",
              "    <path d=\"M0 0h24v24H0V0z\" fill=\"none\"/>\n",
              "    <path d=\"M18.56 5.44l.94 2.06.94-2.06 2.06-.94-2.06-.94-.94-2.06-.94 2.06-2.06.94zm-11 1L8.5 8.5l.94-2.06 2.06-.94-2.06-.94L8.5 2.5l-.94 2.06-2.06.94zm10 10l.94 2.06.94-2.06 2.06-.94-2.06-.94-.94-2.06-.94 2.06-2.06.94z\"/><path d=\"M17.41 7.96l-1.37-1.37c-.4-.4-.92-.59-1.43-.59-.52 0-1.04.2-1.43.59L10.3 9.45l-7.72 7.72c-.78.78-.78 2.05 0 2.83L4 21.41c.39.39.9.59 1.41.59.51 0 1.02-.2 1.41-.59l7.78-7.78 2.81-2.81c.8-.78.8-2.07 0-2.86zM5.41 20L4 18.59l7.72-7.72 1.47 1.35L5.41 20z\"/>\n",
              "  </svg>\n",
              "      </button>\n",
              "      \n",
              "  <style>\n",
              "    .colab-df-container {\n",
              "      display:flex;\n",
              "      flex-wrap:wrap;\n",
              "      gap: 12px;\n",
              "    }\n",
              "\n",
              "    .colab-df-convert {\n",
              "      background-color: #E8F0FE;\n",
              "      border: none;\n",
              "      border-radius: 50%;\n",
              "      cursor: pointer;\n",
              "      display: none;\n",
              "      fill: #1967D2;\n",
              "      height: 32px;\n",
              "      padding: 0 0 0 0;\n",
              "      width: 32px;\n",
              "    }\n",
              "\n",
              "    .colab-df-convert:hover {\n",
              "      background-color: #E2EBFA;\n",
              "      box-shadow: 0px 1px 2px rgba(60, 64, 67, 0.3), 0px 1px 3px 1px rgba(60, 64, 67, 0.15);\n",
              "      fill: #174EA6;\n",
              "    }\n",
              "\n",
              "    [theme=dark] .colab-df-convert {\n",
              "      background-color: #3B4455;\n",
              "      fill: #D2E3FC;\n",
              "    }\n",
              "\n",
              "    [theme=dark] .colab-df-convert:hover {\n",
              "      background-color: #434B5C;\n",
              "      box-shadow: 0px 1px 3px 1px rgba(0, 0, 0, 0.15);\n",
              "      filter: drop-shadow(0px 1px 2px rgba(0, 0, 0, 0.3));\n",
              "      fill: #FFFFFF;\n",
              "    }\n",
              "  </style>\n",
              "\n",
              "      <script>\n",
              "        const buttonEl =\n",
              "          document.querySelector('#df-0176d43a-8217-4e22-834b-7ce44f54986a button.colab-df-convert');\n",
              "        buttonEl.style.display =\n",
              "          google.colab.kernel.accessAllowed ? 'block' : 'none';\n",
              "\n",
              "        async function convertToInteractive(key) {\n",
              "          const element = document.querySelector('#df-0176d43a-8217-4e22-834b-7ce44f54986a');\n",
              "          const dataTable =\n",
              "            await google.colab.kernel.invokeFunction('convertToInteractive',\n",
              "                                                     [key], {});\n",
              "          if (!dataTable) return;\n",
              "\n",
              "          const docLinkHtml = 'Like what you see? Visit the ' +\n",
              "            '<a target=\"_blank\" href=https://colab.research.google.com/notebooks/data_table.ipynb>data table notebook</a>'\n",
              "            + ' to learn more about interactive tables.';\n",
              "          element.innerHTML = '';\n",
              "          dataTable['output_type'] = 'display_data';\n",
              "          await google.colab.output.renderOutput(dataTable, element);\n",
              "          const docLink = document.createElement('div');\n",
              "          docLink.innerHTML = docLinkHtml;\n",
              "          element.appendChild(docLink);\n",
              "        }\n",
              "      </script>\n",
              "    </div>\n",
              "  </div>\n",
              "  "
            ]
          },
          "metadata": {},
          "execution_count": 2
        }
      ]
    },
    {
      "cell_type": "code",
      "source": [
        "#\n",
        "# 전처리\n",
        "#\n",
        "\n",
        "# 사용할 샘플의 최대 개수\n",
        "MAX_SAMPLES = 50000\n",
        "print(MAX_SAMPLES)"
      ],
      "metadata": {
        "colab": {
          "base_uri": "https://localhost:8080/"
        },
        "id": "dbRVPa3CLlyg",
        "outputId": "6f60876c-74eb-4d33-842a-cc9e06f1b438"
      },
      "execution_count": 3,
      "outputs": [
        {
          "output_type": "stream",
          "name": "stdout",
          "text": [
            "50000\n"
          ]
        }
      ]
    },
    {
      "cell_type": "code",
      "source": [
        "# 전처리 함수 : 한국어\n",
        "\n",
        "def preprocess_sentence(sentence):\n",
        "  sentence = sentence.lower().strip()\n",
        "\n",
        "  # 단어와 구두점(punctuation) 사이의 거리를 만듭니다.\n",
        "  # 예를 들어서 \"I am a student.\" => \"I am a student .\"와 같이\n",
        "  # student와 온점 사이에 거리를 만듭니다.\n",
        "  sentence = re.sub(r\"([?.!,])\", r\" \\1 \", sentence)\n",
        "  sentence = re.sub(r'[\" \"]+', \" \", sentence)\n",
        "\n",
        "  sentence = sentence.strip()\n",
        "  return sentence\n"
      ],
      "metadata": {
        "id": "qkoIevL_Ll1u"
      },
      "execution_count": 4,
      "outputs": []
    },
    {
      "cell_type": "code",
      "source": [
        "# 전처리 함수 확인\n",
        "preprocess_sentence(chatbot_data['Q'][1])"
      ],
      "metadata": {
        "colab": {
          "base_uri": "https://localhost:8080/",
          "height": 35
        },
        "id": "2lQsal-BLl4u",
        "outputId": "927df5c0-1cbd-4780-fbf4-ff6d52734d40"
      },
      "execution_count": 5,
      "outputs": [
        {
          "output_type": "execute_result",
          "data": {
            "text/plain": [
              "'1지망 학교 떨어졌어'"
            ],
            "application/vnd.google.colaboratory.intrinsic+json": {
              "type": "string"
            }
          },
          "metadata": {},
          "execution_count": 5
        }
      ]
    },
    {
      "cell_type": "code",
      "source": [
        "# 데이터를 전처리하여 질문을 questions, 답변을 answers에 저장\n",
        "inputs, outputs = [], []\n",
        "for questions, answers in zip(chatbot_data['Q'], chatbot_data['A']):\n",
        "    \n",
        "    inputs.append(preprocess_sentence(questions))\n",
        "    outputs.append(preprocess_sentence(answers))"
      ],
      "metadata": {
        "id": "DnJJpGNRLl7z"
      },
      "execution_count": 6,
      "outputs": []
    },
    {
      "cell_type": "code",
      "source": [
        "# 저장한 질문, 답변을 확인\n",
        "print('전체 샘플 수 :', len(inputs))\n",
        "print('전체 샘플 수 :', len(outputs))"
      ],
      "metadata": {
        "colab": {
          "base_uri": "https://localhost:8080/"
        },
        "id": "Pd1XYhEqLl-0",
        "outputId": "81f58adc-affa-4626-fd98-4eae04d342a6"
      },
      "execution_count": 7,
      "outputs": [
        {
          "output_type": "stream",
          "name": "stdout",
          "text": [
            "전체 샘플 수 : 11823\n",
            "전체 샘플 수 : 11823\n"
          ]
        }
      ]
    },
    {
      "cell_type": "code",
      "source": [
        "print('전처리 후의 7번째 질문 샘플: {}'.format(inputs[7]))\n",
        "print('전처리 후의 7번째 답변 샘플: {}'.format(outputs[7]))"
      ],
      "metadata": {
        "colab": {
          "base_uri": "https://localhost:8080/"
        },
        "id": "XWlKKO7hLmB9",
        "outputId": "dd7f01e0-119e-4986-f04d-a55ced67451a"
      },
      "execution_count": 8,
      "outputs": [
        {
          "output_type": "stream",
          "name": "stdout",
          "text": [
            "전처리 후의 7번째 질문 샘플: sns 맞팔 왜 안하지ㅠㅠ\n",
            "전처리 후의 7번째 답변 샘플: 잘 모르고 있을 수도 있어요 .\n"
          ]
        }
      ]
    },
    {
      "cell_type": "markdown",
      "source": [
        "---\n",
        "## STEP 3. SubwordTextEncoder 사용하기"
      ],
      "metadata": {
        "id": "YPN_lxZMPwAx"
      }
    },
    {
      "cell_type": "code",
      "source": [
        "# 질문과 답변 데이터셋에 대해서 Vocabulary 생성\n",
        "tokenizer = tfds.deprecated.text.SubwordTextEncoder.build_from_corpus(inputs + outputs, target_vocab_size=2**13)\n"
      ],
      "metadata": {
        "id": "HaMyBXXfLmFP"
      },
      "execution_count": 9,
      "outputs": []
    },
    {
      "cell_type": "code",
      "source": [
        "print('START_TOKEN의 번호 :' ,[tokenizer.vocab_size])\n",
        "print('END_TOKEN의 번호 :' ,[tokenizer.vocab_size + 1])"
      ],
      "metadata": {
        "colab": {
          "base_uri": "https://localhost:8080/"
        },
        "id": "1428c1mXLmI1",
        "outputId": "520c8653-74ca-4f23-e8c7-3af86baaa437"
      },
      "execution_count": 10,
      "outputs": [
        {
          "output_type": "stream",
          "name": "stdout",
          "text": [
            "START_TOKEN의 번호 : [8173]\n",
            "END_TOKEN의 번호 : [8174]\n"
          ]
        }
      ]
    },
    {
      "cell_type": "code",
      "source": [
        "# 시작 토큰과 종료 토큰에 고유한 정수를 부여합니다.\n",
        "START_TOKEN, END_TOKEN = [tokenizer.vocab_size], [tokenizer.vocab_size + 1]\n"
      ],
      "metadata": {
        "id": "EYSJh4kuLmL5"
      },
      "execution_count": 11,
      "outputs": []
    },
    {
      "cell_type": "code",
      "source": [
        "# 시작 토큰과 종료 토큰을 고려하여 +2를 하여 단어장의 크기를 산정합니다.\n",
        "VOCAB_SIZE = tokenizer.vocab_size + 2\n",
        "print(VOCAB_SIZE)"
      ],
      "metadata": {
        "colab": {
          "base_uri": "https://localhost:8080/"
        },
        "id": "p3zo08y7LmPA",
        "outputId": "8f6a0fd0-f7af-4453-9e94-34ff6c0b0da8"
      },
      "execution_count": 12,
      "outputs": [
        {
          "output_type": "stream",
          "name": "stdout",
          "text": [
            "8175\n"
          ]
        }
      ]
    },
    {
      "cell_type": "code",
      "source": [
        "# 임의의 7번째 샘플에 대해서 정수 인코딩 작업을 수행.\n",
        "# 각 토큰을 고유한 정수로 변환\n",
        "print('정수 인코딩 후의 7번째 질문 샘플: {}'.format(tokenizer.encode(inputs[7])))\n",
        "print('정수 인코딩 후의 7번째 답변 샘플: {}'.format(tokenizer.encode(outputs[7])))"
      ],
      "metadata": {
        "colab": {
          "base_uri": "https://localhost:8080/"
        },
        "id": "9f_dTcxuLmSi",
        "outputId": "8959ab86-80e0-4cbd-e1a9-84d36ac6c293"
      },
      "execution_count": 13,
      "outputs": [
        {
          "output_type": "stream",
          "name": "stdout",
          "text": [
            "정수 인코딩 후의 7번째 질문 샘플: [1947, 644, 1128, 7949, 66, 5113, 851]\n",
            "정수 인코딩 후의 7번째 답변 샘플: [14, 1890, 29, 71, 25, 1]\n"
          ]
        }
      ]
    },
    {
      "cell_type": "code",
      "source": [
        "# 샘플의 최대 허용 길이 또는 패딩 후의 최종 길이\n",
        "MAX_LENGTH = 40\n",
        "print(MAX_LENGTH)"
      ],
      "metadata": {
        "colab": {
          "base_uri": "https://localhost:8080/"
        },
        "id": "Kc81ODkSLmVz",
        "outputId": "fe703100-e1d3-4e22-ba52-071816908c13"
      },
      "execution_count": 14,
      "outputs": [
        {
          "output_type": "stream",
          "name": "stdout",
          "text": [
            "40\n"
          ]
        }
      ]
    },
    {
      "cell_type": "code",
      "source": [
        "# 정수 인코딩, 최대 길이를 초과하는 샘플 제거, 패딩\n",
        "def tokenize_and_filter(inputs, outputs):\n",
        "  tokenized_inputs, tokenized_outputs = [], []\n",
        "  \n",
        "  for (sentence1, sentence2) in zip(inputs, outputs):\n",
        "    # 정수 인코딩 과정에서 시작 토큰과 종료 토큰을 추가\n",
        "    sentence1 = START_TOKEN + tokenizer.encode(sentence1) + END_TOKEN\n",
        "    sentence2 = START_TOKEN + tokenizer.encode(sentence2) + END_TOKEN\n",
        "\n",
        "    # 최대 길이 40 이하인 경우에만 데이터셋으로 허용\n",
        "    if len(sentence1) <= MAX_LENGTH and len(sentence2) <= MAX_LENGTH:\n",
        "      tokenized_inputs.append(sentence1)\n",
        "      tokenized_outputs.append(sentence2)\n",
        "  \n",
        "  # 최대 길이 40으로 모든 데이터셋을 패딩\n",
        "  tokenized_inputs = tf.keras.preprocessing.sequence.pad_sequences(\n",
        "      tokenized_inputs, maxlen=MAX_LENGTH, padding='post')\n",
        "  tokenized_outputs = tf.keras.preprocessing.sequence.pad_sequences(\n",
        "      tokenized_outputs, maxlen=MAX_LENGTH, padding='post')\n",
        "  \n",
        "  return tokenized_inputs, tokenized_outputs\n"
      ],
      "metadata": {
        "id": "xtHSdlh0LmY8"
      },
      "execution_count": 15,
      "outputs": []
    },
    {
      "cell_type": "code",
      "source": [
        "questions, answers = tokenize_and_filter(inputs, outputs)\n",
        "print('단어장의 크기 :',(VOCAB_SIZE))\n",
        "print('필터링 후의 질문 샘플 개수: {}'.format(len(questions)))\n",
        "print('필터링 후의 답변 샘플 개수: {}'.format(len(answers)))"
      ],
      "metadata": {
        "colab": {
          "base_uri": "https://localhost:8080/"
        },
        "id": "T1syU_P2LmcY",
        "outputId": "c556fb81-6039-4217-aed3-9614c17fb1fa"
      },
      "execution_count": 16,
      "outputs": [
        {
          "output_type": "stream",
          "name": "stdout",
          "text": [
            "단어장의 크기 : 8175\n",
            "필터링 후의 질문 샘플 개수: 11823\n",
            "필터링 후의 답변 샘플 개수: 11823\n"
          ]
        }
      ]
    },
    {
      "cell_type": "markdown",
      "source": [
        "---\n",
        "## STEP 4. 모델 구성하기\n",
        "### STEP 4-1. 모델 구성에 필요한 함수 정의"
      ],
      "metadata": {
        "id": "WD-goaI6Lmf1"
      }
    },
    {
      "cell_type": "code",
      "execution_count": 17,
      "metadata": {
        "id": "U8qPciiTsJYY"
      },
      "outputs": [],
      "source": [
        "# 포지셔널 인코딩 레이어\n",
        "class PositionalEncoding(tf.keras.layers.Layer):\n",
        "\n",
        "  def __init__(self, position, d_model):\n",
        "    super(PositionalEncoding, self).__init__()\n",
        "    self.pos_encoding = self.positional_encoding(position, d_model)\n",
        "\n",
        "  def get_angles(self, position, i, d_model):\n",
        "    angles = 1 / tf.pow(10000, (2 * (i // 2)) / tf.cast(d_model, tf.float32))\n",
        "    return position * angles\n",
        "\n",
        "  def positional_encoding(self, position, d_model):\n",
        "    # 각도 배열 생성\n",
        "    angle_rads = self.get_angles(\n",
        "        position=tf.range(position, dtype=tf.float32)[:, tf.newaxis],\n",
        "        i=tf.range(d_model, dtype=tf.float32)[tf.newaxis, :],\n",
        "        d_model=d_model)\n",
        "\n",
        "    # 배열의 짝수 인덱스에는 sin 함수 적용\n",
        "    sines = tf.math.sin(angle_rads[:, 0::2])\n",
        "    # 배열의 홀수 인덱스에는 cosine 함수 적용\n",
        "    cosines = tf.math.cos(angle_rads[:, 1::2])\n",
        "\n",
        "    # sin과 cosine이 교차되도록 재배열\n",
        "    pos_encoding = tf.stack([sines, cosines], axis=0)\n",
        "    pos_encoding = tf.transpose(pos_encoding,[1, 2, 0]) \n",
        "    pos_encoding = tf.reshape(pos_encoding, [position, d_model])\n",
        "\n",
        "    pos_encoding = pos_encoding[tf.newaxis, ...]\n",
        "    return tf.cast(pos_encoding, tf.float32)\n",
        "\n",
        "  def call(self, inputs):\n",
        "    return inputs + self.pos_encoding[:, :tf.shape(inputs)[1], :]"
      ]
    },
    {
      "cell_type": "code",
      "execution_count": 18,
      "metadata": {
        "id": "tP1PuRGYM98F"
      },
      "outputs": [],
      "source": [
        "# 스케일드 닷 프로덕트 어텐션 함수\n",
        "def scaled_dot_product_attention(query, key, value, mask):\n",
        "  # 어텐션 가중치는 Q와 K의 닷 프로덕트\n",
        "  matmul_qk = tf.matmul(query, key, transpose_b=True)\n",
        "\n",
        "  # 가중치를 정규화\n",
        "  depth = tf.cast(tf.shape(key)[-1], tf.float32)\n",
        "  logits = matmul_qk / tf.math.sqrt(depth)  # depth는 무엇일꼬?\n",
        "\n",
        "  # 패딩에 마스크 추가\n",
        "  if mask is not None:\n",
        "    logits += (mask * -1e9)\n",
        "\n",
        "  # softmax적용\n",
        "  attention_weights = tf.nn.softmax(logits, axis=-1)\n",
        "\n",
        "  # 최종 어텐션은 가중치와 V의 닷 프로덕트\n",
        "  output = tf.matmul(attention_weights, value)\n",
        "  return output\n"
      ]
    },
    {
      "cell_type": "code",
      "execution_count": 19,
      "metadata": {
        "id": "ct3BnEj6nioO"
      },
      "outputs": [],
      "source": [
        "class MultiHeadAttention(tf.keras.layers.Layer):\n",
        "\n",
        "  def __init__(self, d_model, num_heads, name=\"multi_head_attention\"):\n",
        "    super(MultiHeadAttention, self).__init__(name=name)\n",
        "    self.num_heads = num_heads\n",
        "    self.d_model = d_model\n",
        "\n",
        "    assert d_model % self.num_heads == 0\n",
        "\n",
        "    self.depth = d_model // self.num_heads\n",
        "\n",
        "    self.query_dense = tf.keras.layers.Dense(units=d_model)\n",
        "    self.key_dense = tf.keras.layers.Dense(units=d_model)\n",
        "    self.value_dense = tf.keras.layers.Dense(units=d_model)\n",
        "\n",
        "    self.dense = tf.keras.layers.Dense(units=d_model)\n",
        "\n",
        "  def split_heads(self, inputs, batch_size):\n",
        "    inputs = tf.reshape(\n",
        "        inputs, shape=(batch_size, -1, self.num_heads, self.depth))\n",
        "    return tf.transpose(inputs, perm=[0, 2, 1, 3])\n",
        "\n",
        "  def call(self, inputs):\n",
        "    query, key, value, mask = inputs['query'], inputs['key'], inputs[\n",
        "        'value'], inputs['mask']\n",
        "    batch_size = tf.shape(query)[0]\n",
        "\n",
        "    # Q, K, V에 각각 Dense를 적용합니다\n",
        "    query = self.query_dense(query)\n",
        "    key = self.key_dense(key)\n",
        "    value = self.value_dense(value)\n",
        "\n",
        "    # 병렬 연산을 위한 머리를 여러 개 만듭니다\n",
        "    query = self.split_heads(query, batch_size)\n",
        "    key = self.split_heads(key, batch_size)\n",
        "    value = self.split_heads(value, batch_size)\n",
        "\n",
        "    # 스케일드 닷 프로덕트 어텐션 함수\n",
        "    scaled_attention = scaled_dot_product_attention(query, key, value, mask)\n",
        "\n",
        "    scaled_attention = tf.transpose(scaled_attention, perm=[0, 2, 1, 3])\n",
        "\n",
        "    # 어텐션 연산 후에 각 결과를 다시 연결(concatenate)합니다\n",
        "    concat_attention = tf.reshape(scaled_attention,\n",
        "                                  (batch_size, -1, self.d_model))\n",
        "\n",
        "    # 최종 결과에도 Dense를 한 번 더 적용합니다\n",
        "    outputs = self.dense(concat_attention)\n",
        "\n",
        "    return outputs\n"
      ]
    },
    {
      "cell_type": "code",
      "execution_count": 20,
      "metadata": {
        "id": "YvgHTlnBtUer"
      },
      "outputs": [],
      "source": [
        "def create_padding_mask(x):\n",
        "  mask = tf.cast(tf.math.equal(x, 0), tf.float32)\n",
        "  # (batch_size, 1, 1, sequence length)\n",
        "  return mask[:, tf.newaxis, tf.newaxis, :]\n"
      ]
    },
    {
      "cell_type": "code",
      "execution_count": 21,
      "metadata": {
        "id": "-wE5IrkluqrN"
      },
      "outputs": [],
      "source": [
        "def create_look_ahead_mask(x):\n",
        "  seq_len = tf.shape(x)[1]\n",
        "  look_ahead_mask = 1 - tf.linalg.band_part(tf.ones((seq_len, seq_len)), -1, 0)\n",
        "  padding_mask = create_padding_mask(x)\n",
        "  return tf.maximum(look_ahead_mask, padding_mask)\n"
      ]
    },
    {
      "cell_type": "code",
      "execution_count": 22,
      "metadata": {
        "id": "-EdkyrPa2RRu"
      },
      "outputs": [],
      "source": [
        "# 인코더 하나의 레이어를 함수로 구현.\n",
        "# 이 하나의 레이어 안에는 두 개의 서브 레이어가 존재합니다.\n",
        "def encoder_layer(units, d_model, num_heads, dropout, name=\"encoder_layer\"):\n",
        "  inputs = tf.keras.Input(shape=(None, d_model), name=\"inputs\")\n",
        "\n",
        "  # 패딩 마스크 사용\n",
        "  padding_mask = tf.keras.Input(shape=(1, 1, None), name=\"padding_mask\")\n",
        "\n",
        "  # 첫 번째 서브 레이어 : 멀티 헤드 어텐션 수행 (셀프 어텐션)\n",
        "  attention = MultiHeadAttention(\n",
        "      d_model, num_heads, name=\"attention\")({\n",
        "          'query': inputs,\n",
        "          'key': inputs,\n",
        "          'value': inputs,\n",
        "          'mask': padding_mask\n",
        "      })\n",
        "\n",
        "  # 어텐션의 결과는 Dropout과 Layer Normalization이라는 훈련을 돕는 테크닉을 수행\n",
        "  attention = tf.keras.layers.Dropout(rate=dropout)(attention)\n",
        "  attention = tf.keras.layers.LayerNormalization(\n",
        "      epsilon=1e-6)(inputs + attention)\n",
        "\n",
        "  # 두 번째 서브 레이어 : 2개의 완전연결층\n",
        "  outputs = tf.keras.layers.Dense(units=units, activation='relu')(attention)\n",
        "  outputs = tf.keras.layers.Dense(units=d_model)(outputs)\n",
        "\n",
        "  # 완전연결층의 결과는 Dropout과 LayerNormalization이라는 훈련을 돕는 테크닉을 수행\n",
        "  outputs = tf.keras.layers.Dropout(rate=dropout)(outputs)\n",
        "  outputs = tf.keras.layers.LayerNormalization(\n",
        "      epsilon=1e-6)(attention + outputs)\n",
        "\n",
        "  return tf.keras.Model(\n",
        "      inputs=[inputs, padding_mask], outputs=outputs, name=name)\n"
      ]
    },
    {
      "cell_type": "code",
      "execution_count": 23,
      "metadata": {
        "id": "aWP8HTOt5z5t"
      },
      "outputs": [],
      "source": [
        "def encoder(vocab_size,\n",
        "            num_layers,\n",
        "            units,\n",
        "            d_model,\n",
        "            num_heads,\n",
        "            dropout,\n",
        "            name=\"encoder\"):\n",
        "  inputs = tf.keras.Input(shape=(None,), name=\"inputs\")\n",
        "\n",
        "  # 패딩 마스크 사용\n",
        "  padding_mask = tf.keras.Input(shape=(1, 1, None), name=\"padding_mask\")\n",
        "\n",
        "  # 임베딩 레이어\n",
        "  embeddings = tf.keras.layers.Embedding(vocab_size, d_model)(inputs)\n",
        "  embeddings *= tf.math.sqrt(tf.cast(d_model, tf.float32))\n",
        "\n",
        "  # 포지셔널 인코딩\n",
        "  embeddings = PositionalEncoding(vocab_size, d_model)(embeddings)\n",
        "\n",
        "  outputs = tf.keras.layers.Dropout(rate=dropout)(embeddings)\n",
        "\n",
        "  # num_layers만큼 쌓아올린 인코더의 층.\n",
        "  for i in range(num_layers):\n",
        "    outputs = encoder_layer(\n",
        "        units=units,\n",
        "        d_model=d_model,\n",
        "        num_heads=num_heads,\n",
        "        dropout=dropout,\n",
        "        name=\"encoder_layer_{}\".format(i),\n",
        "    )([outputs, padding_mask])\n",
        "\n",
        "  return tf.keras.Model(\n",
        "      inputs=[inputs, padding_mask], outputs=outputs, name=name)\n"
      ]
    },
    {
      "cell_type": "code",
      "execution_count": 24,
      "metadata": {
        "id": "VwM6nGrt4aTE"
      },
      "outputs": [],
      "source": [
        "# 디코더 하나의 레이어를 함수로 구현.\n",
        "# 이 하나의 레이어 안에는 세 개의 서브 레이어가 존재합니다.\n",
        "def decoder_layer(units, d_model, num_heads, dropout, name=\"decoder_layer\"):\n",
        "  inputs = tf.keras.Input(shape=(None, d_model), name=\"inputs\")\n",
        "  enc_outputs = tf.keras.Input(shape=(None, d_model), name=\"encoder_outputs\")\n",
        "  look_ahead_mask = tf.keras.Input(\n",
        "      shape=(1, None, None), name=\"look_ahead_mask\")\n",
        "  padding_mask = tf.keras.Input(shape=(1, 1, None), name='padding_mask')\n",
        "\n",
        "  # 첫 번째 서브 레이어 : 멀티 헤드 어텐션 수행 (셀프 어텐션)\n",
        "  attention1 = MultiHeadAttention(\n",
        "      d_model, num_heads, name=\"attention_1\")(inputs={\n",
        "          'query': inputs,\n",
        "          'key': inputs,\n",
        "          'value': inputs,\n",
        "          'mask': look_ahead_mask\n",
        "      })\n",
        "\n",
        "  # 멀티 헤드 어텐션의 결과는 LayerNormalization이라는 훈련을 돕는 테크닉을 수행\n",
        "  attention1 = tf.keras.layers.LayerNormalization(\n",
        "      epsilon=1e-6)(attention1 + inputs)\n",
        "\n",
        "  # 두 번째 서브 레이어 : 마스크드 멀티 헤드 어텐션 수행 (인코더-디코더 어텐션)\n",
        "  attention2 = MultiHeadAttention(\n",
        "      d_model, num_heads, name=\"attention_2\")(inputs={\n",
        "          'query': attention1,\n",
        "          'key': enc_outputs,\n",
        "          'value': enc_outputs,\n",
        "          'mask': padding_mask\n",
        "      })\n",
        "\n",
        "  # 마스크드 멀티 헤드 어텐션의 결과는\n",
        "  # Dropout과 LayerNormalization이라는 훈련을 돕는 테크닉을 수행\n",
        "  attention2 = tf.keras.layers.Dropout(rate=dropout)(attention2)\n",
        "  attention2 = tf.keras.layers.LayerNormalization(\n",
        "      epsilon=1e-6)(attention2 + attention1)\n",
        "\n",
        "  # 세 번째 서브 레이어 : 2개의 완전연결층\n",
        "  outputs = tf.keras.layers.Dense(units=units, activation='relu')(attention2)\n",
        "  outputs = tf.keras.layers.Dense(units=d_model)(outputs)\n",
        "\n",
        "  # 완전연결층의 결과는 Dropout과 LayerNormalization 수행\n",
        "  outputs = tf.keras.layers.Dropout(rate=dropout)(outputs)\n",
        "  outputs = tf.keras.layers.LayerNormalization(\n",
        "      epsilon=1e-6)(outputs + attention2)\n",
        "\n",
        "  return tf.keras.Model(\n",
        "      inputs=[inputs, enc_outputs, look_ahead_mask, padding_mask],\n",
        "      outputs=outputs,\n",
        "      name=name)\n"
      ]
    },
    {
      "cell_type": "code",
      "execution_count": 25,
      "metadata": {
        "id": "1I_FSvPX7Ksg"
      },
      "outputs": [],
      "source": [
        "def decoder(vocab_size,\n",
        "            num_layers,\n",
        "            units,\n",
        "            d_model,\n",
        "            num_heads,\n",
        "            dropout,\n",
        "            name='decoder'):\n",
        "  inputs = tf.keras.Input(shape=(None,), name='inputs')\n",
        "  enc_outputs = tf.keras.Input(shape=(None, d_model), name='encoder_outputs')\n",
        "  look_ahead_mask = tf.keras.Input(\n",
        "      shape=(1, None, None), name='look_ahead_mask')\n",
        "\n",
        "  # 패딩 마스크\n",
        "  padding_mask = tf.keras.Input(shape=(1, 1, None), name='padding_mask')\n",
        "  \n",
        "  # 임베딩 레이어\n",
        "  embeddings = tf.keras.layers.Embedding(vocab_size, d_model)(inputs)\n",
        "  embeddings *= tf.math.sqrt(tf.cast(d_model, tf.float32))\n",
        "\n",
        "  # 포지셔널 인코딩\n",
        "  embeddings = PositionalEncoding(vocab_size, d_model)(embeddings)\n",
        "\n",
        "  # Dropout이라는 훈련을 돕는 테크닉을 수행\n",
        "  outputs = tf.keras.layers.Dropout(rate=dropout)(embeddings)\n",
        "\n",
        "  for i in range(num_layers):\n",
        "    outputs = decoder_layer(\n",
        "        units=units,\n",
        "        d_model=d_model,\n",
        "        num_heads=num_heads,\n",
        "        dropout=dropout,\n",
        "        name='decoder_layer_{}'.format(i),\n",
        "    )(inputs=[outputs, enc_outputs, look_ahead_mask, padding_mask])\n",
        "\n",
        "  return tf.keras.Model(\n",
        "      inputs=[inputs, enc_outputs, look_ahead_mask, padding_mask],\n",
        "      outputs=outputs,\n",
        "      name=name)\n"
      ]
    },
    {
      "cell_type": "markdown",
      "source": [
        "---\n",
        "### STEP 4-2. TRANSFORMER 모델 구성하기"
      ],
      "metadata": {
        "id": "erVLD8sEYM2k"
      }
    },
    {
      "cell_type": "code",
      "execution_count": 26,
      "metadata": {
        "id": "F0pEEJqBEHKv"
      },
      "outputs": [],
      "source": [
        "# TRANSFORMER\n",
        "def transformer(vocab_size,\n",
        "                num_layers,\n",
        "                units,\n",
        "                d_model,\n",
        "                num_heads,\n",
        "                dropout,\n",
        "                name=\"transformer\"):\n",
        "  inputs = tf.keras.Input(shape=(None,), name=\"inputs\")\n",
        "  dec_inputs = tf.keras.Input(shape=(None,), name=\"dec_inputs\")\n",
        "\n",
        "  # 인코더에서 패딩을 위한 마스크\n",
        "  enc_padding_mask = tf.keras.layers.Lambda(\n",
        "      create_padding_mask, output_shape=(1, 1, None),\n",
        "      name='enc_padding_mask')(inputs)\n",
        "\n",
        "  # 디코더에서 미래의 토큰을 마스크 하기 위해서 사용합니다.\n",
        "  # 내부적으로 패딩 마스크도 포함되어져 있습니다.\n",
        "  look_ahead_mask = tf.keras.layers.Lambda(\n",
        "      create_look_ahead_mask,\n",
        "      output_shape=(1, None, None),\n",
        "      name='look_ahead_mask')(dec_inputs)\n",
        "\n",
        "  # 두 번째 어텐션 블록에서 인코더의 벡터들을 마스킹\n",
        "  # 디코더에서 패딩을 위한 마스크\n",
        "  dec_padding_mask = tf.keras.layers.Lambda(\n",
        "      create_padding_mask, output_shape=(1, 1, None),\n",
        "      name='dec_padding_mask')(inputs)\n",
        "\n",
        "  # 인코더\n",
        "  enc_outputs = encoder(\n",
        "      vocab_size=vocab_size,\n",
        "      num_layers=num_layers,\n",
        "      units=units,\n",
        "      d_model=d_model,\n",
        "      num_heads=num_heads,\n",
        "      dropout=dropout,\n",
        "  )(inputs=[inputs, enc_padding_mask])\n",
        "\n",
        "  # 디코더\n",
        "  dec_outputs = decoder(\n",
        "      vocab_size=vocab_size,\n",
        "      num_layers=num_layers,\n",
        "      units=units,\n",
        "      d_model=d_model,\n",
        "      num_heads=num_heads,\n",
        "      dropout=dropout,\n",
        "  )(inputs=[dec_inputs, enc_outputs, look_ahead_mask, dec_padding_mask])\n",
        "\n",
        "  # 완전연결층\n",
        "  outputs = tf.keras.layers.Dense(units=vocab_size, name=\"outputs\")(dec_outputs)\n",
        "\n",
        "  return tf.keras.Model(inputs=[inputs, dec_inputs], outputs=outputs, name=name)\n"
      ]
    },
    {
      "cell_type": "code",
      "execution_count": 27,
      "metadata": {
        "colab": {
          "base_uri": "https://localhost:8080/"
        },
        "id": "cdvXjUlLEcLQ",
        "outputId": "0ae10070-4b94-42ab-e732-77207bfc1095"
      },
      "outputs": [
        {
          "output_type": "stream",
          "name": "stdout",
          "text": [
            "Model: \"transformer\"\n",
            "__________________________________________________________________________________________________\n",
            " Layer (type)                   Output Shape         Param #     Connected to                     \n",
            "==================================================================================================\n",
            " inputs (InputLayer)            [(None, None)]       0           []                               \n",
            "                                                                                                  \n",
            " dec_inputs (InputLayer)        [(None, None)]       0           []                               \n",
            "                                                                                                  \n",
            " enc_padding_mask (Lambda)      (None, 1, 1, None)   0           ['inputs[0][0]']                 \n",
            "                                                                                                  \n",
            " encoder (Functional)           (None, None, 256)    3147008     ['inputs[0][0]',                 \n",
            "                                                                  'enc_padding_mask[0][0]']       \n",
            "                                                                                                  \n",
            " look_ahead_mask (Lambda)       (None, 1, None, Non  0           ['dec_inputs[0][0]']             \n",
            "                                e)                                                                \n",
            "                                                                                                  \n",
            " dec_padding_mask (Lambda)      (None, 1, 1, None)   0           ['inputs[0][0]']                 \n",
            "                                                                                                  \n",
            " decoder (Functional)           (None, None, 256)    3674368     ['dec_inputs[0][0]',             \n",
            "                                                                  'encoder[0][0]',                \n",
            "                                                                  'look_ahead_mask[0][0]',        \n",
            "                                                                  'dec_padding_mask[0][0]']       \n",
            "                                                                                                  \n",
            " outputs (Dense)                (None, None, 8175)   2100975     ['decoder[0][0]']                \n",
            "                                                                                                  \n",
            "==================================================================================================\n",
            "Total params: 8,922,351\n",
            "Trainable params: 8,922,351\n",
            "Non-trainable params: 0\n",
            "__________________________________________________________________________________________________\n"
          ]
        }
      ],
      "source": [
        "# HYPER PARAMETER Tuning\n",
        "\n",
        "tf.keras.backend.clear_session()\n",
        "\n",
        "# 하이퍼파라미터\n",
        "NUM_LAYERS = 2 # 인코더와 디코더의 층의 개수\n",
        "D_MODEL = 256 # 인코더와 디코더 내부의 입, 출력의 고정 차원\n",
        "NUM_HEADS = 8 # 멀티 헤드 어텐션에서의 헤드 수 \n",
        "UNITS = 512 # 피드 포워드 신경망의 은닉층의 크기\n",
        "DROPOUT = 0.1 # 드롭아웃의 비율\n",
        "\n",
        "model = transformer(\n",
        "    vocab_size=VOCAB_SIZE,\n",
        "    num_layers=NUM_LAYERS,\n",
        "    units=UNITS,\n",
        "    d_model=D_MODEL,\n",
        "    num_heads=NUM_HEADS,\n",
        "    dropout=DROPOUT)\n",
        "\n",
        "model.summary()"
      ]
    },
    {
      "cell_type": "code",
      "source": [
        "# TEACHER FORCING\n",
        "\n",
        "BATCH_SIZE = 64\n",
        "BUFFER_SIZE = 20000\n",
        "\n",
        "# 디코더는 이전의 target을 다음의 input으로 사용합니다.\n",
        "# 이에 따라 outputs에서는 START_TOKEN을 제거하겠습니다.\n",
        "dataset = tf.data.Dataset.from_tensor_slices((\n",
        "    {\n",
        "        'inputs': questions,\n",
        "        'dec_inputs': answers[:, :-1]\n",
        "    },\n",
        "    {\n",
        "        'outputs': answers[:, 1:]\n",
        "    },\n",
        "))\n",
        "\n",
        "dataset = dataset.cache()\n",
        "dataset = dataset.shuffle(BUFFER_SIZE)\n",
        "dataset = dataset.batch(BATCH_SIZE)\n",
        "dataset = dataset.prefetch(tf.data.experimental.AUTOTUNE)"
      ],
      "metadata": {
        "id": "0dzFZlbRcXqu"
      },
      "execution_count": 28,
      "outputs": []
    },
    {
      "cell_type": "code",
      "execution_count": 29,
      "metadata": {
        "id": "tKPYlD8iEZ-f"
      },
      "outputs": [],
      "source": [
        "def loss_function(y_true, y_pred):\n",
        "  y_true = tf.reshape(y_true, shape=(-1, MAX_LENGTH - 1))\n",
        "  \n",
        "  loss = tf.keras.losses.SparseCategoricalCrossentropy(\n",
        "      from_logits=True, reduction='none')(y_true, y_pred)\n",
        "\n",
        "  mask = tf.cast(tf.not_equal(y_true, 0), tf.float32)\n",
        "  loss = tf.multiply(loss, mask)\n",
        "\n",
        "  return tf.reduce_mean(loss)\n"
      ]
    },
    {
      "cell_type": "code",
      "execution_count": 30,
      "metadata": {
        "id": "EIKY7ESPEgmt"
      },
      "outputs": [],
      "source": [
        "class CustomSchedule(tf.keras.optimizers.schedules.LearningRateSchedule):\n",
        "\n",
        "  def __init__(self, d_model, warmup_steps=4000):\n",
        "    super(CustomSchedule, self).__init__()\n",
        "\n",
        "    self.d_model = d_model\n",
        "    self.d_model = tf.cast(self.d_model, tf.float32)\n",
        "\n",
        "    self.warmup_steps = warmup_steps\n",
        "\n",
        "  def __call__(self, step):\n",
        "    arg1 = tf.math.rsqrt(step)\n",
        "    arg2 = step * (self.warmup_steps**-1.5)\n",
        "\n",
        "    return tf.math.rsqrt(self.d_model) * tf.math.minimum(arg1, arg2)\n"
      ]
    },
    {
      "cell_type": "code",
      "execution_count": 31,
      "metadata": {
        "id": "eYYOIxXCElcF"
      },
      "outputs": [],
      "source": [
        "learning_rate = CustomSchedule(D_MODEL)\n",
        "\n",
        "optimizer = tf.keras.optimizers.Adam(\n",
        "    learning_rate, beta_1=0.9, beta_2=0.98, epsilon=1e-9)\n",
        "\n",
        "def accuracy(y_true, y_pred):\n",
        "  y_true = tf.reshape(y_true, shape=(-1, MAX_LENGTH - 1))\n",
        "  return tf.keras.metrics.sparse_categorical_accuracy(y_true, y_pred)\n",
        "\n",
        "model.compile(optimizer=optimizer, loss=loss_function, metrics=[accuracy])\n"
      ]
    },
    {
      "cell_type": "code",
      "execution_count": 41,
      "metadata": {
        "colab": {
          "base_uri": "https://localhost:8080/"
        },
        "id": "UNVwSTDzEoKw",
        "outputId": "b329668a-97c3-438c-f0e6-13da0607bc2f"
      },
      "outputs": [
        {
          "output_type": "stream",
          "name": "stdout",
          "text": [
            "Epoch 1/50\n",
            "185/185 [==============================] - 10s 54ms/step - loss: 0.0151 - accuracy: 0.1713\n",
            "Epoch 2/50\n",
            "185/185 [==============================] - 10s 54ms/step - loss: 0.0143 - accuracy: 0.1715\n",
            "Epoch 3/50\n",
            "185/185 [==============================] - 10s 54ms/step - loss: 0.0133 - accuracy: 0.1718\n",
            "Epoch 4/50\n",
            "185/185 [==============================] - 10s 54ms/step - loss: 0.0120 - accuracy: 0.1721\n",
            "Epoch 5/50\n",
            "185/185 [==============================] - 10s 54ms/step - loss: 0.0119 - accuracy: 0.1722\n",
            "Epoch 6/50\n",
            "185/185 [==============================] - 10s 54ms/step - loss: 0.0104 - accuracy: 0.1725\n",
            "Epoch 7/50\n",
            "185/185 [==============================] - 10s 54ms/step - loss: 0.0101 - accuracy: 0.1726\n",
            "Epoch 8/50\n",
            "185/185 [==============================] - 10s 54ms/step - loss: 0.0098 - accuracy: 0.1727\n",
            "Epoch 9/50\n",
            "185/185 [==============================] - 10s 55ms/step - loss: 0.0091 - accuracy: 0.1729\n",
            "Epoch 10/50\n",
            "185/185 [==============================] - 10s 55ms/step - loss: 0.0086 - accuracy: 0.1730\n",
            "Epoch 11/50\n",
            "185/185 [==============================] - 10s 55ms/step - loss: 0.0084 - accuracy: 0.1731\n",
            "Epoch 12/50\n",
            "185/185 [==============================] - 10s 55ms/step - loss: 0.0078 - accuracy: 0.1732\n",
            "Epoch 13/50\n",
            "185/185 [==============================] - 10s 55ms/step - loss: 0.0076 - accuracy: 0.1733\n",
            "Epoch 14/50\n",
            "185/185 [==============================] - 10s 55ms/step - loss: 0.0074 - accuracy: 0.1733\n",
            "Epoch 15/50\n",
            "185/185 [==============================] - 10s 55ms/step - loss: 0.0066 - accuracy: 0.1736\n",
            "Epoch 16/50\n",
            "185/185 [==============================] - 10s 55ms/step - loss: 0.0065 - accuracy: 0.1735\n",
            "Epoch 17/50\n",
            "185/185 [==============================] - 10s 55ms/step - loss: 0.0063 - accuracy: 0.1736\n",
            "Epoch 18/50\n",
            "185/185 [==============================] - 10s 55ms/step - loss: 0.0062 - accuracy: 0.1736\n",
            "Epoch 19/50\n",
            "185/185 [==============================] - 10s 55ms/step - loss: 0.0056 - accuracy: 0.1737\n",
            "Epoch 20/50\n",
            "185/185 [==============================] - 10s 55ms/step - loss: 0.0058 - accuracy: 0.1737\n",
            "Epoch 21/50\n",
            "185/185 [==============================] - 10s 55ms/step - loss: 0.0054 - accuracy: 0.1738\n",
            "Epoch 22/50\n",
            "185/185 [==============================] - 10s 55ms/step - loss: 0.0051 - accuracy: 0.1739\n",
            "Epoch 23/50\n",
            "185/185 [==============================] - 10s 55ms/step - loss: 0.0050 - accuracy: 0.1739\n",
            "Epoch 24/50\n",
            "185/185 [==============================] - 10s 55ms/step - loss: 0.0051 - accuracy: 0.1738\n",
            "Epoch 25/50\n",
            "185/185 [==============================] - 10s 55ms/step - loss: 0.0050 - accuracy: 0.1739\n",
            "Epoch 26/50\n",
            "185/185 [==============================] - 10s 55ms/step - loss: 0.0048 - accuracy: 0.1740\n",
            "Epoch 27/50\n",
            "185/185 [==============================] - 10s 55ms/step - loss: 0.0044 - accuracy: 0.1740\n",
            "Epoch 28/50\n",
            "185/185 [==============================] - 10s 55ms/step - loss: 0.0045 - accuracy: 0.1739\n",
            "Epoch 29/50\n",
            "185/185 [==============================] - 10s 55ms/step - loss: 0.0045 - accuracy: 0.1740\n",
            "Epoch 30/50\n",
            "185/185 [==============================] - 10s 55ms/step - loss: 0.0039 - accuracy: 0.1741\n",
            "Epoch 31/50\n",
            "185/185 [==============================] - 10s 55ms/step - loss: 0.0042 - accuracy: 0.1740\n",
            "Epoch 32/50\n",
            "185/185 [==============================] - 10s 55ms/step - loss: 0.0043 - accuracy: 0.1740\n",
            "Epoch 33/50\n",
            "185/185 [==============================] - 10s 56ms/step - loss: 0.0037 - accuracy: 0.1741\n",
            "Epoch 34/50\n",
            "185/185 [==============================] - 10s 55ms/step - loss: 0.0038 - accuracy: 0.1741\n",
            "Epoch 35/50\n",
            "185/185 [==============================] - 10s 55ms/step - loss: 0.0036 - accuracy: 0.1741\n",
            "Epoch 36/50\n",
            "185/185 [==============================] - 10s 55ms/step - loss: 0.0038 - accuracy: 0.1741\n",
            "Epoch 37/50\n",
            "185/185 [==============================] - 10s 55ms/step - loss: 0.0035 - accuracy: 0.1742\n",
            "Epoch 38/50\n",
            "185/185 [==============================] - 10s 55ms/step - loss: 0.0034 - accuracy: 0.1741\n",
            "Epoch 39/50\n",
            "185/185 [==============================] - 10s 56ms/step - loss: 0.0036 - accuracy: 0.1742\n",
            "Epoch 40/50\n",
            "185/185 [==============================] - 10s 56ms/step - loss: 0.0032 - accuracy: 0.1742\n",
            "Epoch 41/50\n",
            "185/185 [==============================] - 10s 56ms/step - loss: 0.0031 - accuracy: 0.1743\n",
            "Epoch 42/50\n",
            "185/185 [==============================] - 10s 55ms/step - loss: 0.0032 - accuracy: 0.1742\n",
            "Epoch 43/50\n",
            "185/185 [==============================] - 10s 55ms/step - loss: 0.0030 - accuracy: 0.1743\n",
            "Epoch 44/50\n",
            "185/185 [==============================] - 10s 55ms/step - loss: 0.0032 - accuracy: 0.1742\n",
            "Epoch 45/50\n",
            "185/185 [==============================] - 10s 55ms/step - loss: 0.0030 - accuracy: 0.1743\n",
            "Epoch 46/50\n",
            "185/185 [==============================] - 10s 55ms/step - loss: 0.0030 - accuracy: 0.1742\n",
            "Epoch 47/50\n",
            "185/185 [==============================] - 10s 55ms/step - loss: 0.0027 - accuracy: 0.1744\n",
            "Epoch 48/50\n",
            "185/185 [==============================] - 10s 55ms/step - loss: 0.0030 - accuracy: 0.1742\n",
            "Epoch 49/50\n",
            "185/185 [==============================] - 10s 55ms/step - loss: 0.0028 - accuracy: 0.1743\n",
            "Epoch 50/50\n",
            "185/185 [==============================] - 10s 55ms/step - loss: 0.0027 - accuracy: 0.1744\n"
          ]
        }
      ],
      "source": [
        "EPOCHS = 50\n",
        "history = model.fit(dataset, epochs=EPOCHS, verbose=1)"
      ]
    },
    {
      "cell_type": "code",
      "source": [
        "plt.plot(history.history['loss'], 'r')\n",
        "plt.title('Model validation loss')\n",
        "plt.ylabel('Loss')\n",
        "plt.xlabel('Epoch')\n",
        "plt.show()"
      ],
      "metadata": {
        "colab": {
          "base_uri": "https://localhost:8080/",
          "height": 295
        },
        "id": "bI7_IwdtWPD1",
        "outputId": "2d52fd04-d633-4810-b59b-3c99a04a94e9"
      },
      "execution_count": 42,
      "outputs": [
        {
          "output_type": "display_data",
          "data": {
            "text/plain": [
              "<Figure size 432x288 with 1 Axes>"
            ],
            "image/png": "[encoded data removed]"
          },
          "metadata": {
            "needs_background": "light"
          }
        }
      ]
    },
    {
      "cell_type": "markdown",
      "source": [
        "---\n",
        "## STEP 5. 모델 평가하기"
      ],
      "metadata": {
        "id": "r1ySX7W7NdVp"
      }
    },
    {
      "cell_type": "code",
      "execution_count": 43,
      "metadata": {
        "id": "eQ2lL31sEsYP"
      },
      "outputs": [],
      "source": [
        "def decoder_inference(sentence):\n",
        "  sentence = preprocess_sentence(sentence)\n",
        "\n",
        "  # 입력된 문장을 정수 인코딩 후, 시작 토큰과 종료 토큰을 앞뒤로 추가.\n",
        "  # ex) Where have you been? → [[8331   86   30    5 1059    7 8332]]\n",
        "  sentence = tf.expand_dims(\n",
        "      START_TOKEN + tokenizer.encode(sentence) + END_TOKEN, axis=0)\n",
        "\n",
        "  # 디코더의 현재까지의 예측한 출력 시퀀스가 지속적으로 저장되는 변수.\n",
        "  # 처음에는 예측한 내용이 없음으로 시작 토큰만 별도 저장. ex) 8331\n",
        "  output_sequence = tf.expand_dims(START_TOKEN, 0)\n",
        "\n",
        "  # 디코더의 인퍼런스 단계\n",
        "  for i in range(MAX_LENGTH):\n",
        "    # 디코더는 최대 MAX_LENGTH의 길이만큼 다음 단어 예측을 반복합니다.\n",
        "    predictions = model(inputs=[sentence, output_sequence], training=False)\n",
        "    predictions = predictions[:, -1:, :]\n",
        "\n",
        "    # 현재 예측한 단어의 정수\n",
        "    predicted_id = tf.cast(tf.argmax(predictions, axis=-1), tf.int32)\n",
        "\n",
        "    # 만약 현재 예측한 단어가 종료 토큰이라면 for문을 종료\n",
        "    if tf.equal(predicted_id, END_TOKEN[0]):\n",
        "      break\n",
        "\n",
        "    # 예측한 단어들은 지속적으로 output_sequence에 추가됩니다.\n",
        "    # 이 output_sequence는 다시 디코더의 입력이 됩니다.\n",
        "    output_sequence = tf.concat([output_sequence, predicted_id], axis=-1)\n",
        "\n",
        "  return tf.squeeze(output_sequence, axis=0)\n"
      ]
    },
    {
      "cell_type": "code",
      "execution_count": 44,
      "metadata": {
        "id": "G9boJzLiM9EF"
      },
      "outputs": [],
      "source": [
        "def sentence_generation(sentence):\n",
        "  # 입력 문장에 대해서 디코더를 동작 시켜 예측된 정수 시퀀스를 리턴받습니다.\n",
        "  prediction = decoder_inference(sentence)\n",
        "\n",
        "  # 정수 시퀀스를 다시 텍스트 시퀀스로 변환합니다.\n",
        "  predicted_sentence = tokenizer.decode(\n",
        "      [i for i in prediction if i < tokenizer.vocab_size])\n",
        "\n",
        "  print('입력 : {}'.format(sentence))\n",
        "  print('출력 : {}'.format(predicted_sentence))\n",
        "\n",
        "  return predicted_sentence\n"
      ]
    },
    {
      "cell_type": "code",
      "execution_count": 45,
      "metadata": {
        "colab": {
          "base_uri": "https://localhost:8080/",
          "height": 69
        },
        "id": "icC2r-WVNA-O",
        "outputId": "5ec90b2f-c0f2-4ae8-c936-a0f12ea110a7"
      },
      "outputs": [
        {
          "output_type": "stream",
          "name": "stdout",
          "text": [
            "입력 : 너 어디 갔었어?\n",
            "출력 : 가게부를 써보세요 .\n"
          ]
        },
        {
          "output_type": "execute_result",
          "data": {
            "text/plain": [
              "'가게부를 써보세요 .'"
            ],
            "application/vnd.google.colaboratory.intrinsic+json": {
              "type": "string"
            }
          },
          "metadata": {},
          "execution_count": 45
        }
      ],
      "source": [
        "sentence_generation('너 어디 갔었어?')"
      ]
    },
    {
      "cell_type": "code",
      "execution_count": 46,
      "metadata": {
        "colab": {
          "base_uri": "https://localhost:8080/",
          "height": 69
        },
        "id": "skrFUf5cNDmf",
        "outputId": "24bd6a47-d682-4342-8dc1-c9898da2d07d"
      },
      "outputs": [
        {
          "output_type": "stream",
          "name": "stdout",
          "text": [
            "입력 : 오늘 날씨가 좋을것 같아?\n",
            "출력 : 좋은 사람이 찾아오려나봐요 .\n"
          ]
        },
        {
          "output_type": "execute_result",
          "data": {
            "text/plain": [
              "'좋은 사람이 찾아오려나봐요 .'"
            ],
            "application/vnd.google.colaboratory.intrinsic+json": {
              "type": "string"
            }
          },
          "metadata": {},
          "execution_count": 46
        }
      ],
      "source": [
        "sentence_generation(\"오늘 날씨가 좋을것 같아?\")"
      ]
    },
    {
      "cell_type": "code",
      "execution_count": 47,
      "metadata": {
        "id": "46GWB45DNFRA",
        "colab": {
          "base_uri": "https://localhost:8080/",
          "height": 69
        },
        "outputId": "c2d299fb-3574-4617-f517-7a21670f93af"
      },
      "outputs": [
        {
          "output_type": "stream",
          "name": "stdout",
          "text": [
            "입력 : 어디로 놀러 가면 좋을까?\n",
            "출력 : 안 가본 가까운 곳이 좋겠죠 .\n"
          ]
        },
        {
          "output_type": "execute_result",
          "data": {
            "text/plain": [
              "'안 가본 가까운 곳이 좋겠죠 .'"
            ],
            "application/vnd.google.colaboratory.intrinsic+json": {
              "type": "string"
            }
          },
          "metadata": {},
          "execution_count": 47
        }
      ],
      "source": [
        "sentence_generation(\"어디로 놀러 가면 좋을까?\")\n"
      ]
    },
    {
      "cell_type": "code",
      "source": [
        "sentence_generation(\"하고 싶은 말이 뭐야?\")"
      ],
      "metadata": {
        "colab": {
          "base_uri": "https://localhost:8080/",
          "height": 69
        },
        "id": "QBm82mdJcpFj",
        "outputId": "b7a5018e-483b-42af-f6f3-10c50bb8f83b"
      },
      "execution_count": 48,
      "outputs": [
        {
          "output_type": "stream",
          "name": "stdout",
          "text": [
            "입력 : 하고 싶은 말이 뭐야?\n",
            "출력 : 하면서 좋거나 재밌거나 잘하는게 있었는지 깊게 고민해보세요 .\n"
          ]
        },
        {
          "output_type": "execute_result",
          "data": {
            "text/plain": [
              "'하면서 좋거나 재밌거나 잘하는게 있었는지 깊게 고민해보세요 .'"
            ],
            "application/vnd.google.colaboratory.intrinsic+json": {
              "type": "string"
            }
          },
          "metadata": {},
          "execution_count": 48
        }
      ]
    },
    {
      "cell_type": "code",
      "source": [
        "sentence_generation(\"언제 만나러 갈까?\")"
      ],
      "metadata": {
        "colab": {
          "base_uri": "https://localhost:8080/",
          "height": 69
        },
        "id": "lmruw0J4cpVy",
        "outputId": "8cd00be5-b608-4bae-913d-ec49a66b9fe0"
      },
      "execution_count": 49,
      "outputs": [
        {
          "output_type": "stream",
          "name": "stdout",
          "text": [
            "입력 : 언제 만나러 갈까?\n",
            "출력 : 잘하고 오세요 .\n"
          ]
        },
        {
          "output_type": "execute_result",
          "data": {
            "text/plain": [
              "'잘하고 오세요 .'"
            ],
            "application/vnd.google.colaboratory.intrinsic+json": {
              "type": "string"
            }
          },
          "metadata": {},
          "execution_count": 49
        }
      ]
    },
    {
      "cell_type": "markdown",
      "source": [
        "---\n",
        "## [ 루브릭 ]\n",
        "\n",
        "#### 1. 한국어 전처리를 통해 학습 데이터셋 구축\n",
        "* 전처리, 토크나이징, 병렬데이터 구축 과정 진행 하였음\n",
        "\n",
        "#### 2. 트랜스포머 모델 구현 -> 한국어 챗봇 모델 학습 정상적 진행\n",
        "* 구현한 모델이 한국어 병렬 데이터 학습 시 안정적으로 수렴하였음\n",
        "\n",
        "#### 3. 한국어 입력문장에 대해 한국어로 답변하는 함수 구현\n",
        "* 한국어 입력문장에 비교적 그럴듯한 한국어로 답변 리턴하였음????? => 요건 의문\n",
        "\n",
        "##### > Try 1. 하이퍼파라미터를 초기 설정으로 두고 EPOCH만 늘려가면서 결과를 확인해 봄\n",
        "* NUM_LAYERS = 8 # 인코더와 디코더의 층의 개수\n",
        "* D_MODEL = 256 # 인코더와 디코더 내부의 입, 출력의 고정 차원\n",
        "* NUM_HEADS = 8 # 멀티 헤드 어텐션에서의 헤드 수 \n",
        "* UNITS = 512 # 피드 포워드 신경망의 은닉층의 크기\n",
        "* DROPOUT = 0.1 # 드롭아웃의 비율\n",
        "\n",
        ">>EPOCH     30 이후 질문&답변 - loss: 0.4142 - accuracy: 0.0946\n",
        "* 어디 갔었어.....................? 더 많이 연락하고 관심 가져주세요.    \n",
        "* 오늘 날씨가 졸을것 같아?          더 많이 연락하고 관심 가져주세요.   \n",
        "* 어디로 놀러가면 좋을까.?          이제 일어날 시간이예요.\n",
        "* 하고 싶은 말이 뭐야........?      먼저 다가가 보세요.\n",
        "* 언제 만나러 갈까............?     조심하세요.\n",
        "\n",
        ">> EPOCH 추가50 이후 질문&답변 - loss: 0.2212 - accuracy: 0.1327\n",
        "* 어디 갔었어.....................? 저도 보고 싶어요.\n",
        "* 오늘 날씨가 졸을것 같아?          저도 보고싶어요.\n",
        "* 어디로 놀러가면 좋을까.?          지금도 충분해요.\n",
        "* 하고 싶은 말이 뭐야........?      자연스러운 현상이예요.\n",
        "* 언제 만나러 갈까............?     회사와 자신에 대해서 더 공부해서 자신감을 가져보세요.\n",
        "\n",
        ">> EPOCH 추가50 이후 질문&답변 - loss: 0.1968 - accuracy: 0.1376\n",
        "* 어디 갔었어.....................? 많이 당황했겠어요?.\n",
        "* 오늘 날씨가 졸을것 같아?          더 좋은 기회가 올거예요.\n",
        "* 어디로 놀러가면 좋을까.?          맞아요. 예뻐요.\n",
        "* 하고 싶은 말이 뭐야........?      서로 속도를 맞춰보세요.\n",
        "* 언제 만나러 갈까............?     축하드려요.\n",
        "\n",
        "##### > Try 2. 하이퍼파라미터 중 NUM_HEADS를 8->16으로 변경하고 EPOCH 50만 시도\n",
        "* NUM_LAYERS = 8 # 인코더와 디코더의 층의 개수\n",
        "* D_MODEL = 256 # 인코더와 디코더 내부의 입, 출력의 고정 차원\n",
        "* NUM_HEADS = 16 # 멀티 헤드 어텐션에서의 헤드 수 \n",
        "* UNITS = 512 # 피드 포워드 신경망의 은닉층의 크기\n",
        "* DROPOUT = 0.1 # 드롭아웃의 비율\n",
        "\n",
        ">> EPOCH     50 이후 질문&답변 - loss: 0.2453 - accuracy: 0.1279\n",
        "* 어디 갔었어.....................? 다른 생각을 해 보세요.    \n",
        "* 오늘 날씨가 졸을것 같아?          제가 들어드릴께요.   \n",
        "* 어디로 놀러가면 좋을까.?          직접 물어보는게 좋을것 같아요.\n",
        "* 하고 싶은 말이 뭐야........?      정말 사랑하는 사람을 만나면 다를거예요.\n",
        "* 언제 만나러 갈까............?     축하드려요.\n",
        "\n",
        "##### > Try 3. NUM_LAYERS=2, NUM_HEADS를 8로 변경하고 EPOCH 30만 시도\n",
        "* NUM_LAYERS = 2 # 인코더와 디코더의 층의 개수\n",
        "* D_MODEL = 256 # 인코더와 디코더 내부의 입, 출력의 고정 차원\n",
        "* NUM_HEADS = 8 # 멀티 헤드 어텐션에서의 헤드 수 \n",
        "* UNITS = 512 # 피드 포워드 신경망의 은닉층의 크기\n",
        "* DROPOUT = 0.1 # 드롭아웃의 비율\n",
        "\n",
        ">> EPOCH     30 이후 질문&답변 - loss: 0.0170 - accuracy: 0.1709\n",
        "* 어디 갔었어.....................? 이별은 시간활용에 따라 다르겠죠.    \n",
        "* 오늘 날씨가 졸을것 같아?          좋은 거일수도 있어요.   \n",
        "* 어디로 놀러가면 좋을까.?          공원이나 익숙한 곳을 가 보세요.\n",
        "* 하고 싶은 말이 뭐야........?      하면서 좋거나 재밌거나 잘하는게 있었는지 깊게 고민해보세요.\n",
        "* 언제 만나러 갈까............?     마음을 손이 따라와주지 않죠.\n",
        "\n",
        ">> EPOCH  추가50 이후 질문&답변 - loss: 0.0027 - accuracy: 0.1744\n",
        "* 어디 갔었어.....................? 가게부를 써보세요.    \n",
        "* 오늘 날씨가 졸을것 같아?          좋은 사람이 찾아오려나봐요.   \n",
        "* 어디로 놀러가면 좋을까.?          안 가본 가까운 곳이 좋겠죠.\n",
        "* 하고 싶은 말이 뭐야........?      하면서 좋거나 재밌거나 잘하는게 있었는지 깊게 고민해보세요.\n",
        "* 언제 만나러 갈까............?     잘하고 오세요.\n",
        "\n",
        "---\n",
        "## [ 회고 ]\n",
        "\n",
        "* 노드에서 학습한 내용을 활용해 한국어 데이터에 대한 챗봇 모델을 구성하고 학습을 시켜봄.\n",
        "\n",
        "* 모델 구현을 통해 트랜스포머 모델에 대한 이해를 높일 수 있었음.\n",
        "\n",
        "* 하이퍼 파라미터를 변경하며 모델에 대한 평가를 시행해 봤는데, <br>\n",
        "초기 설정을 유지한 채로 Epoch값의 증가에 따라 정확도는 0.17까지 상승했는데<br> \n",
        "모델이 만들어 내는 답변의 정확도는 크게 높아진다고 보기 어려웠고<br>\n",
        "\n",
        "* 하이퍼 파라미터 중 NUM_LAYERS나 NUM_HEADS를 증가시킨 것의 영향도 크지 않음<br>\n",
        "\n",
        "* 다만, 오히려 NUM_LAYERS를 8->2로 낮추었을 때는 짧은 EPOCH에도 앞선 설정보다 <br> \n",
        "빨리 정확도가 향상되면서 답변의 내용중 일부 질문에 대해서는 조금은 합리적인<br> \n",
        "것을 만들어 내었다. 단, 추가적인 훈련은 유의미한 향상을 이끌어내지 못함<br>\n",
        "\n",
        "* NUM_LAYERS를 깊게 쌓는다고 해서 모델의 답변을 만들어내는 정확성이<br> \n",
        "향상되는 것은 아닌듯함.\n",
        " \n",
        "\n",
        "\n",
        "\n",
        "\n"
      ],
      "metadata": {
        "id": "EGnCFBRuBimE"
      }
    },
    {
      "cell_type": "code",
      "source": [
        "\n"
      ],
      "metadata": {
        "id": "ya1YUew2DwUT"
      },
      "execution_count": 49,
      "outputs": []
    }
  ],
  "metadata": {
    "colab": {
      "collapsed_sections": [],
      "name": "[EX_11]Transformer_Chatbot.ipynb",
      "provenance": [],
      "machine_shape": "hm",
      "mount_file_id": "1N_T89HfRLg0OJmY-wWFvuDGVWdpRd_40",
      "authorship_tag": "ABX9TyPVx3Fw3LrM38g4mn8HfnPD",
      "include_colab_link": true
    },
    "kernelspec": {
      "display_name": "Python 3",
      "name": "python3"
    },
    "language_info": {
      "name": "python"
    },
    "accelerator": "GPU"
  },
  "nbformat": 4,
  "nbformat_minor": 0
}