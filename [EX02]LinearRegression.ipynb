{
 "cells": [
  {
   "cell_type": "markdown",
   "id": "56ea14e5",
   "metadata": {},
   "source": [
    "# [EX02]LinearRegression\n",
    "\n",
    "## Project 1. 당뇨병 수치 맞춰보기"
   ]
  },
  {
   "cell_type": "markdown",
   "id": "4da22632",
   "metadata": {},
   "source": [
    "### Step 1. 환경설정\n",
    "1. 필요한 모듈 불러오고\n",
    "2. 데이터 불러올 준비하고\n",
    "3. 데이터 불러와서 간단 정보 확인하고"
   ]
  },
  {
   "cell_type": "code",
   "execution_count": 173,
   "id": "34f786ea",
   "metadata": {},
   "outputs": [
    {
     "name": "stdout",
     "output_type": "stream",
     "text": [
      "1.0\n"
     ]
    }
   ],
   "source": [
    "# 필요한 모듈 불러오기\n",
    "import pandas as pd\n",
    "import numpy as np\n",
    "import seaborn as sns\n",
    "import sklearn\n",
    "print(sklearn.__version__)\n",
    "# 모델 및 평가지표 불러오기\n",
    "from sklearn.datasets import load_diabetes\n",
    "from sklearn.model_selection import train_test_split\n",
    "from sklearn.metrics import mean_squared_error\n",
    "from sklearn.linear_model import LinearRegression\n",
    "\n",
    "import matplotlib.pyplot as plt\n",
    "%matplotlib Inline\n",
    "%config InlineBackend.figure_format ='retina'\n",
    " "
   ]
  },
  {
   "cell_type": "markdown",
   "id": "8a8988d3",
   "metadata": {},
   "source": [
    "### Step 2. 데이터 불러와서 내용 확인"
   ]
  },
  {
   "cell_type": "code",
   "execution_count": 174,
   "id": "541afcf8",
   "metadata": {},
   "outputs": [
    {
     "data": {
      "text/plain": [
       "sklearn.utils.Bunch"
      ]
     },
     "execution_count": 174,
     "metadata": {},
     "output_type": "execute_result"
    }
   ],
   "source": [
    "# 데이터 불러오기 : sklearn에서 제공하는 데이터셋 이용\n",
    "diabetes = load_diabetes()\n",
    "\n",
    "# 데이터유형 확인 => bunch : 딕셔너리와 유사한 데이터타입\n",
    "type(diabetes)\n"
   ]
  },
  {
   "cell_type": "code",
   "execution_count": 175,
   "id": "4f087ad2",
   "metadata": {},
   "outputs": [
    {
     "name": "stdout",
     "output_type": "stream",
     "text": [
      "['age', 'sex', 'bmi', 'bp', 's1', 's2', 's3', 's4', 's5', 's6']\n"
     ]
    }
   ],
   "source": [
    "# key 값으로 구성이 어떻게 되어 있는지 확인\n",
    "print(diabetes.feature_names)"
   ]
  },
  {
   "cell_type": "code",
   "execution_count": 176,
   "id": "8494bdfb",
   "metadata": {},
   "outputs": [
    {
     "name": "stdout",
     "output_type": "stream",
     "text": [
      "[[ 0.03807591  0.05068012  0.06169621 ... -0.00259226  0.01990842\n",
      "  -0.01764613]\n",
      " [-0.00188202 -0.04464164 -0.05147406 ... -0.03949338 -0.06832974\n",
      "  -0.09220405]\n",
      " [ 0.08529891  0.05068012  0.04445121 ... -0.00259226  0.00286377\n",
      "  -0.02593034]\n",
      " ...\n",
      " [ 0.04170844  0.05068012 -0.01590626 ... -0.01107952 -0.04687948\n",
      "   0.01549073]\n",
      " [-0.04547248 -0.04464164  0.03906215 ...  0.02655962  0.04452837\n",
      "  -0.02593034]\n",
      " [-0.04547248 -0.04464164 -0.0730303  ... -0.03949338 -0.00421986\n",
      "   0.00306441]]\n"
     ]
    }
   ],
   "source": [
    "print(diabetes.data)"
   ]
  },
  {
   "cell_type": "code",
   "execution_count": 177,
   "id": "1e6b6ac8",
   "metadata": {},
   "outputs": [
    {
     "name": "stdout",
     "output_type": "stream",
     "text": [
      ".. _diabetes_dataset:\n",
      "\n",
      "Diabetes dataset\n",
      "----------------\n",
      "\n",
      "Ten baseline variables, age, sex, body mass index, average blood\n",
      "pressure, and six blood serum measurements were obtained for each of n =\n",
      "442 diabetes patients, as well as the response of interest, a\n",
      "quantitative measure of disease progression one year after baseline.\n",
      "\n",
      "**Data Set Characteristics:**\n",
      "\n",
      "  :Number of Instances: 442\n",
      "\n",
      "  :Number of Attributes: First 10 columns are numeric predictive values\n",
      "\n",
      "  :Target: Column 11 is a quantitative measure of disease progression one year after baseline\n",
      "\n",
      "  :Attribute Information:\n",
      "      - age     age in years\n",
      "      - sex\n",
      "      - bmi     body mass index\n",
      "      - bp      average blood pressure\n",
      "      - s1      tc, total serum cholesterol\n",
      "      - s2      ldl, low-density lipoproteins\n",
      "      - s3      hdl, high-density lipoproteins\n",
      "      - s4      tch, total cholesterol / HDL\n",
      "      - s5      ltg, possibly log of serum triglycerides level\n",
      "      - s6      glu, blood sugar level\n",
      "\n",
      "Note: Each of these 10 feature variables have been mean centered and scaled by the standard deviation times `n_samples` (i.e. the sum of squares of each column totals 1).\n",
      "\n",
      "Source URL:\n",
      "https://www4.stat.ncsu.edu/~boos/var.select/diabetes.html\n",
      "\n",
      "For more information see:\n",
      "Bradley Efron, Trevor Hastie, Iain Johnstone and Robert Tibshirani (2004) \"Least Angle Regression,\" Annals of Statistics (with discussion), 407-499.\n",
      "(https://web.stanford.edu/~hastie/Papers/LARS/LeastAngle_2002.pdf)\n"
     ]
    }
   ],
   "source": [
    "print(diabetes.DESCR)"
   ]
  },
  {
   "cell_type": "code",
   "execution_count": 178,
   "id": "f08e3d2e",
   "metadata": {},
   "outputs": [
    {
     "name": "stdout",
     "output_type": "stream",
     "text": [
      "['age', 'sex', 'bmi', 'bp', 's1', 's2', 's3', 's4', 's5', 's6']\n"
     ]
    }
   ],
   "source": [
    "print(diabetes.feature_names)\n",
    "# bmi : 체질량지수 = 몸무게 /() 키의 제곱)"
   ]
  },
  {
   "cell_type": "code",
   "execution_count": 179,
   "id": "48461c22",
   "metadata": {},
   "outputs": [],
   "source": [
    "df_X = pd.DataFrame(diabetes.data)"
   ]
  },
  {
   "cell_type": "code",
   "execution_count": 180,
   "id": "3fabad3e",
   "metadata": {},
   "outputs": [],
   "source": [
    "df_y = pd.DataFrame(diabetes.target)"
   ]
  },
  {
   "cell_type": "code",
   "execution_count": 181,
   "id": "1cbde348",
   "metadata": {},
   "outputs": [
    {
     "data": {
      "text/html": [
       "<div>\n",
       "<style scoped>\n",
       "    .dataframe tbody tr th:only-of-type {\n",
       "        vertical-align: middle;\n",
       "    }\n",
       "\n",
       "    .dataframe tbody tr th {\n",
       "        vertical-align: top;\n",
       "    }\n",
       "\n",
       "    .dataframe thead th {\n",
       "        text-align: right;\n",
       "    }\n",
       "</style>\n",
       "<table border=\"1\" class=\"dataframe\">\n",
       "  <thead>\n",
       "    <tr style=\"text-align: right;\">\n",
       "      <th></th>\n",
       "      <th>0</th>\n",
       "      <th>1</th>\n",
       "      <th>2</th>\n",
       "      <th>3</th>\n",
       "      <th>4</th>\n",
       "      <th>5</th>\n",
       "      <th>6</th>\n",
       "      <th>7</th>\n",
       "      <th>8</th>\n",
       "      <th>9</th>\n",
       "    </tr>\n",
       "  </thead>\n",
       "  <tbody>\n",
       "    <tr>\n",
       "      <th>0</th>\n",
       "      <td>0.038076</td>\n",
       "      <td>0.050680</td>\n",
       "      <td>0.061696</td>\n",
       "      <td>0.021872</td>\n",
       "      <td>-0.044223</td>\n",
       "      <td>-0.034821</td>\n",
       "      <td>-0.043401</td>\n",
       "      <td>-0.002592</td>\n",
       "      <td>0.019908</td>\n",
       "      <td>-0.017646</td>\n",
       "    </tr>\n",
       "    <tr>\n",
       "      <th>1</th>\n",
       "      <td>-0.001882</td>\n",
       "      <td>-0.044642</td>\n",
       "      <td>-0.051474</td>\n",
       "      <td>-0.026328</td>\n",
       "      <td>-0.008449</td>\n",
       "      <td>-0.019163</td>\n",
       "      <td>0.074412</td>\n",
       "      <td>-0.039493</td>\n",
       "      <td>-0.068330</td>\n",
       "      <td>-0.092204</td>\n",
       "    </tr>\n",
       "    <tr>\n",
       "      <th>2</th>\n",
       "      <td>0.085299</td>\n",
       "      <td>0.050680</td>\n",
       "      <td>0.044451</td>\n",
       "      <td>-0.005671</td>\n",
       "      <td>-0.045599</td>\n",
       "      <td>-0.034194</td>\n",
       "      <td>-0.032356</td>\n",
       "      <td>-0.002592</td>\n",
       "      <td>0.002864</td>\n",
       "      <td>-0.025930</td>\n",
       "    </tr>\n",
       "    <tr>\n",
       "      <th>3</th>\n",
       "      <td>-0.089063</td>\n",
       "      <td>-0.044642</td>\n",
       "      <td>-0.011595</td>\n",
       "      <td>-0.036656</td>\n",
       "      <td>0.012191</td>\n",
       "      <td>0.024991</td>\n",
       "      <td>-0.036038</td>\n",
       "      <td>0.034309</td>\n",
       "      <td>0.022692</td>\n",
       "      <td>-0.009362</td>\n",
       "    </tr>\n",
       "    <tr>\n",
       "      <th>4</th>\n",
       "      <td>0.005383</td>\n",
       "      <td>-0.044642</td>\n",
       "      <td>-0.036385</td>\n",
       "      <td>0.021872</td>\n",
       "      <td>0.003935</td>\n",
       "      <td>0.015596</td>\n",
       "      <td>0.008142</td>\n",
       "      <td>-0.002592</td>\n",
       "      <td>-0.031991</td>\n",
       "      <td>-0.046641</td>\n",
       "    </tr>\n",
       "    <tr>\n",
       "      <th>...</th>\n",
       "      <td>...</td>\n",
       "      <td>...</td>\n",
       "      <td>...</td>\n",
       "      <td>...</td>\n",
       "      <td>...</td>\n",
       "      <td>...</td>\n",
       "      <td>...</td>\n",
       "      <td>...</td>\n",
       "      <td>...</td>\n",
       "      <td>...</td>\n",
       "    </tr>\n",
       "    <tr>\n",
       "      <th>437</th>\n",
       "      <td>0.041708</td>\n",
       "      <td>0.050680</td>\n",
       "      <td>0.019662</td>\n",
       "      <td>0.059744</td>\n",
       "      <td>-0.005697</td>\n",
       "      <td>-0.002566</td>\n",
       "      <td>-0.028674</td>\n",
       "      <td>-0.002592</td>\n",
       "      <td>0.031193</td>\n",
       "      <td>0.007207</td>\n",
       "    </tr>\n",
       "    <tr>\n",
       "      <th>438</th>\n",
       "      <td>-0.005515</td>\n",
       "      <td>0.050680</td>\n",
       "      <td>-0.015906</td>\n",
       "      <td>-0.067642</td>\n",
       "      <td>0.049341</td>\n",
       "      <td>0.079165</td>\n",
       "      <td>-0.028674</td>\n",
       "      <td>0.034309</td>\n",
       "      <td>-0.018118</td>\n",
       "      <td>0.044485</td>\n",
       "    </tr>\n",
       "    <tr>\n",
       "      <th>439</th>\n",
       "      <td>0.041708</td>\n",
       "      <td>0.050680</td>\n",
       "      <td>-0.015906</td>\n",
       "      <td>0.017282</td>\n",
       "      <td>-0.037344</td>\n",
       "      <td>-0.013840</td>\n",
       "      <td>-0.024993</td>\n",
       "      <td>-0.011080</td>\n",
       "      <td>-0.046879</td>\n",
       "      <td>0.015491</td>\n",
       "    </tr>\n",
       "    <tr>\n",
       "      <th>440</th>\n",
       "      <td>-0.045472</td>\n",
       "      <td>-0.044642</td>\n",
       "      <td>0.039062</td>\n",
       "      <td>0.001215</td>\n",
       "      <td>0.016318</td>\n",
       "      <td>0.015283</td>\n",
       "      <td>-0.028674</td>\n",
       "      <td>0.026560</td>\n",
       "      <td>0.044528</td>\n",
       "      <td>-0.025930</td>\n",
       "    </tr>\n",
       "    <tr>\n",
       "      <th>441</th>\n",
       "      <td>-0.045472</td>\n",
       "      <td>-0.044642</td>\n",
       "      <td>-0.073030</td>\n",
       "      <td>-0.081414</td>\n",
       "      <td>0.083740</td>\n",
       "      <td>0.027809</td>\n",
       "      <td>0.173816</td>\n",
       "      <td>-0.039493</td>\n",
       "      <td>-0.004220</td>\n",
       "      <td>0.003064</td>\n",
       "    </tr>\n",
       "  </tbody>\n",
       "</table>\n",
       "<p>442 rows × 10 columns</p>\n",
       "</div>"
      ],
      "text/plain": [
       "            0         1         2         3         4         5         6  \\\n",
       "0    0.038076  0.050680  0.061696  0.021872 -0.044223 -0.034821 -0.043401   \n",
       "1   -0.001882 -0.044642 -0.051474 -0.026328 -0.008449 -0.019163  0.074412   \n",
       "2    0.085299  0.050680  0.044451 -0.005671 -0.045599 -0.034194 -0.032356   \n",
       "3   -0.089063 -0.044642 -0.011595 -0.036656  0.012191  0.024991 -0.036038   \n",
       "4    0.005383 -0.044642 -0.036385  0.021872  0.003935  0.015596  0.008142   \n",
       "..        ...       ...       ...       ...       ...       ...       ...   \n",
       "437  0.041708  0.050680  0.019662  0.059744 -0.005697 -0.002566 -0.028674   \n",
       "438 -0.005515  0.050680 -0.015906 -0.067642  0.049341  0.079165 -0.028674   \n",
       "439  0.041708  0.050680 -0.015906  0.017282 -0.037344 -0.013840 -0.024993   \n",
       "440 -0.045472 -0.044642  0.039062  0.001215  0.016318  0.015283 -0.028674   \n",
       "441 -0.045472 -0.044642 -0.073030 -0.081414  0.083740  0.027809  0.173816   \n",
       "\n",
       "            7         8         9  \n",
       "0   -0.002592  0.019908 -0.017646  \n",
       "1   -0.039493 -0.068330 -0.092204  \n",
       "2   -0.002592  0.002864 -0.025930  \n",
       "3    0.034309  0.022692 -0.009362  \n",
       "4   -0.002592 -0.031991 -0.046641  \n",
       "..        ...       ...       ...  \n",
       "437 -0.002592  0.031193  0.007207  \n",
       "438  0.034309 -0.018118  0.044485  \n",
       "439 -0.011080 -0.046879  0.015491  \n",
       "440  0.026560  0.044528 -0.025930  \n",
       "441 -0.039493 -0.004220  0.003064  \n",
       "\n",
       "[442 rows x 10 columns]"
      ]
     },
     "execution_count": 181,
     "metadata": {},
     "output_type": "execute_result"
    }
   ],
   "source": [
    "df_X"
   ]
  },
  {
   "cell_type": "markdown",
   "id": "11eb64fd",
   "metadata": {},
   "source": [
    "### Q. 컬럼명칭에는 성별과 이름으로 되어 있는데 데이터에는 숫자로 되어 있는 이유? \n",
    "### A. 범주형 데이터를 Nomalization 처리를 통해 수치형으로 변환했기 때문.  * 일반적인 경우에 원본 데이터가 미리 처리되어 있지 않기 때문에 필요에 따라 처리를 해 줘야 함. "
   ]
  },
  {
   "cell_type": "code",
   "execution_count": 182,
   "id": "3d1b41db",
   "metadata": {},
   "outputs": [
    {
     "data": {
      "text/html": [
       "<div>\n",
       "<style scoped>\n",
       "    .dataframe tbody tr th:only-of-type {\n",
       "        vertical-align: middle;\n",
       "    }\n",
       "\n",
       "    .dataframe tbody tr th {\n",
       "        vertical-align: top;\n",
       "    }\n",
       "\n",
       "    .dataframe thead th {\n",
       "        text-align: right;\n",
       "    }\n",
       "</style>\n",
       "<table border=\"1\" class=\"dataframe\">\n",
       "  <thead>\n",
       "    <tr style=\"text-align: right;\">\n",
       "      <th></th>\n",
       "      <th>0</th>\n",
       "    </tr>\n",
       "  </thead>\n",
       "  <tbody>\n",
       "    <tr>\n",
       "      <th>0</th>\n",
       "      <td>151.0</td>\n",
       "    </tr>\n",
       "    <tr>\n",
       "      <th>1</th>\n",
       "      <td>75.0</td>\n",
       "    </tr>\n",
       "    <tr>\n",
       "      <th>2</th>\n",
       "      <td>141.0</td>\n",
       "    </tr>\n",
       "    <tr>\n",
       "      <th>3</th>\n",
       "      <td>206.0</td>\n",
       "    </tr>\n",
       "    <tr>\n",
       "      <th>4</th>\n",
       "      <td>135.0</td>\n",
       "    </tr>\n",
       "    <tr>\n",
       "      <th>...</th>\n",
       "      <td>...</td>\n",
       "    </tr>\n",
       "    <tr>\n",
       "      <th>437</th>\n",
       "      <td>178.0</td>\n",
       "    </tr>\n",
       "    <tr>\n",
       "      <th>438</th>\n",
       "      <td>104.0</td>\n",
       "    </tr>\n",
       "    <tr>\n",
       "      <th>439</th>\n",
       "      <td>132.0</td>\n",
       "    </tr>\n",
       "    <tr>\n",
       "      <th>440</th>\n",
       "      <td>220.0</td>\n",
       "    </tr>\n",
       "    <tr>\n",
       "      <th>441</th>\n",
       "      <td>57.0</td>\n",
       "    </tr>\n",
       "  </tbody>\n",
       "</table>\n",
       "<p>442 rows × 1 columns</p>\n",
       "</div>"
      ],
      "text/plain": [
       "         0\n",
       "0    151.0\n",
       "1     75.0\n",
       "2    141.0\n",
       "3    206.0\n",
       "4    135.0\n",
       "..     ...\n",
       "437  178.0\n",
       "438  104.0\n",
       "439  132.0\n",
       "440  220.0\n",
       "441   57.0\n",
       "\n",
       "[442 rows x 1 columns]"
      ]
     },
     "execution_count": 182,
     "metadata": {},
     "output_type": "execute_result"
    }
   ],
   "source": [
    "df_y"
   ]
  },
  {
   "cell_type": "markdown",
   "id": "4677de53",
   "metadata": {},
   "source": [
    "### Step 3. 데이터 준비\n",
    "\n",
    "1. 데이터를 어레이로 저장\n",
    "2. 데이터를 학습용, 테스트용으로 분리"
   ]
  },
  {
   "cell_type": "code",
   "execution_count": 183,
   "id": "cbdf2416",
   "metadata": {},
   "outputs": [],
   "source": [
    "# 어레이로 저장\n",
    "X = df_X.values\n",
    "y = df_y.values"
   ]
  },
  {
   "cell_type": "code",
   "execution_count": 184,
   "id": "a0237ee6",
   "metadata": {},
   "outputs": [
    {
     "name": "stdout",
     "output_type": "stream",
     "text": [
      "353 89\n"
     ]
    }
   ],
   "source": [
    "# 데이터 분리하고 확인\n",
    "X_train, X_test = train_test_split(X, test_size=0.2, random_state=32)\n",
    "print(len(X_train), len(X_test))"
   ]
  },
  {
   "cell_type": "code",
   "execution_count": 185,
   "id": "3f8114d7",
   "metadata": {},
   "outputs": [],
   "source": [
    "y_train, y_test = train_test_split(y, test_size=0.2, random_state=32)"
   ]
  },
  {
   "cell_type": "code",
   "execution_count": 186,
   "id": "32d3726a",
   "metadata": {},
   "outputs": [
    {
     "data": {
      "text/plain": [
       "array([[ 0.06350368,  0.05068012,  0.08864151, ...,  0.07120998,\n",
       "         0.02930041,  0.07348023],\n",
       "       [ 0.02354575,  0.05068012, -0.02021751, ..., -0.03949338,\n",
       "        -0.09643322, -0.01764613],\n",
       "       [ 0.03444337,  0.05068012, -0.02991782, ..., -0.00259226,\n",
       "         0.02405258, -0.03835666],\n",
       "       ...,\n",
       "       [-0.00551455,  0.05068012,  0.00133873, ..., -0.03949338,\n",
       "        -0.04118039, -0.08806194],\n",
       "       [ 0.01991321, -0.04464164, -0.02345095, ..., -0.0763945 ,\n",
       "        -0.0425721 ,  0.07348023],\n",
       "       [ 0.02717829,  0.05068012,  0.09403057, ..., -0.00259226,\n",
       "         0.0366458 ,  0.10661708]])"
      ]
     },
     "execution_count": 186,
     "metadata": {},
     "output_type": "execute_result"
    }
   ],
   "source": [
    "X_train"
   ]
  },
  {
   "cell_type": "markdown",
   "id": "cf02de91",
   "metadata": {},
   "source": [
    "### Step 4. 학습 및 예측"
   ]
  },
  {
   "cell_type": "code",
   "execution_count": 187,
   "id": "84dc83d5",
   "metadata": {},
   "outputs": [],
   "source": [
    "# w와 b 설정 : feature수는 10개\n",
    "\n",
    "w = np.random.rand(10)\n",
    "b = np.random.rand()"
   ]
  },
  {
   "cell_type": "code",
   "execution_count": 188,
   "id": "381709ff",
   "metadata": {},
   "outputs": [],
   "source": [
    "# 모델 선택 \n",
    "#def model(X, w, b):\n",
    "#    predics = 0\n",
    "#    for i in range(10):\n",
    "#        predics += X[:,i] *w[i]\n",
    "#    predics += b\n",
    "#    return predics\n",
    "\n",
    "model = LinearRegression()"
   ]
  },
  {
   "cell_type": "code",
   "execution_count": 189,
   "id": "bf2d2857",
   "metadata": {},
   "outputs": [],
   "source": [
    "# 훈련\n",
    "model.fit(X_train, y_train)\n",
    "\n",
    "# 모델 예측\n",
    "y_predic = model.predict(X_test)"
   ]
  },
  {
   "cell_type": "code",
   "execution_count": 190,
   "id": "5dc6d233",
   "metadata": {},
   "outputs": [
    {
     "data": {
      "text/plain": [
       "array([[172.6026195 ],\n",
       "       [176.28148119],\n",
       "       [104.69585481],\n",
       "       [123.72910575],\n",
       "       [125.12878964],\n",
       "       [175.52777643],\n",
       "       [221.40111622],\n",
       "       [160.84217484],\n",
       "       [216.01723864],\n",
       "       [188.23640164],\n",
       "       [ 95.28169994],\n",
       "       [238.58023188],\n",
       "       [223.41367966],\n",
       "       [ 69.82514443],\n",
       "       [105.76126405],\n",
       "       [ 55.78164153],\n",
       "       [116.03897361],\n",
       "       [146.99490029],\n",
       "       [178.51895098],\n",
       "       [147.16712575],\n",
       "       [110.60322975],\n",
       "       [156.88163267],\n",
       "       [ 82.29902838],\n",
       "       [185.57040119],\n",
       "       [145.62898108],\n",
       "       [165.09134886],\n",
       "       [291.17713684],\n",
       "       [242.86947318],\n",
       "       [211.9319605 ],\n",
       "       [287.46059301],\n",
       "       [196.59189228],\n",
       "       [127.43915807],\n",
       "       [209.83861506],\n",
       "       [183.15819322],\n",
       "       [150.20566019],\n",
       "       [114.49393354],\n",
       "       [195.96237776],\n",
       "       [213.02842684],\n",
       "       [ 98.99933821],\n",
       "       [ 91.55444562],\n",
       "       [225.41194118],\n",
       "       [103.49376254],\n",
       "       [133.7647088 ],\n",
       "       [160.23455309],\n",
       "       [137.48223777],\n",
       "       [141.62190256],\n",
       "       [157.64046084],\n",
       "       [ 90.51687093],\n",
       "       [173.31970041],\n",
       "       [232.56300928],\n",
       "       [165.0907746 ],\n",
       "       [147.67290485],\n",
       "       [169.4460534 ],\n",
       "       [211.64082524],\n",
       "       [152.86951042],\n",
       "       [108.87126579],\n",
       "       [122.67574881],\n",
       "       [171.54413876],\n",
       "       [170.1748932 ],\n",
       "       [207.48393919],\n",
       "       [219.33977709],\n",
       "       [164.91846473],\n",
       "       [179.5982609 ],\n",
       "       [109.11283364],\n",
       "       [168.16393454],\n",
       "       [178.17555804],\n",
       "       [196.60623749],\n",
       "       [148.75087607],\n",
       "       [ 62.29785679],\n",
       "       [ 79.64136997],\n",
       "       [255.36661513],\n",
       "       [172.84151627],\n",
       "       [178.39172584],\n",
       "       [158.62372531],\n",
       "       [ 99.94873049],\n",
       "       [108.31535012],\n",
       "       [ 82.19783247],\n",
       "       [155.9056223 ],\n",
       "       [ 95.23126658],\n",
       "       [215.3870891 ],\n",
       "       [119.18242996],\n",
       "       [171.58798929],\n",
       "       [216.81585153],\n",
       "       [217.55816539],\n",
       "       [137.37285692],\n",
       "       [ 49.62501978],\n",
       "       [ 70.52800996],\n",
       "       [128.8604636 ],\n",
       "       [185.57271988]])"
      ]
     },
     "execution_count": 190,
     "metadata": {},
     "output_type": "execute_result"
    }
   ],
   "source": [
    "y_predic"
   ]
  },
  {
   "cell_type": "code",
   "execution_count": 191,
   "id": "37e7d091",
   "metadata": {},
   "outputs": [],
   "source": [
    "# 손실함수 정의\n",
    "def loss(X, w, b, y):\n",
    "    predics = model(X, w, b)\n",
    "    L = mean_squared_error(y_test, predics)**0.5\n",
    "    return L"
   ]
  },
  {
   "cell_type": "code",
   "execution_count": 192,
   "id": "ded83296",
   "metadata": {},
   "outputs": [],
   "source": [
    "# Gradient 함수 정의\n",
    "def gradient(X, w, b, y):\n",
    "    # N은 가중치의 개수\n",
    "    N = len(w)\n",
    "    \n",
    "    # y_predic 준비\n",
    "    y_predic = model(X, w, b)\n",
    "    \n",
    "    # 공식에 맞게 gradient 계산\n",
    "    dw = 1/N * 2 * X.T.dot(y_predic - y)\n",
    "        \n",
    "    # b의 gradient 계산\n",
    "    db = 2 * (y_predic - y).mean()\n",
    "    return dw, db"
   ]
  },
  {
   "cell_type": "code",
   "execution_count": 193,
   "id": "5c4002ee",
   "metadata": {},
   "outputs": [],
   "source": [
    "# HYPER PARAMETER : LEARNINT_RATE 설정\n",
    "LEARNING_RATE = 0.0001"
   ]
  },
  {
   "cell_type": "code",
   "execution_count": 194,
   "id": "4fcc152b",
   "metadata": {},
   "outputs": [
    {
     "ename": "TypeError",
     "evalue": "'LinearRegression' object is not callable",
     "output_type": "error",
     "traceback": [
      "\u001b[0;31m---------------------------------------------------------------------------\u001b[0m",
      "\u001b[0;31mTypeError\u001b[0m                                 Traceback (most recent call last)",
      "\u001b[0;32m/tmp/ipykernel_35/3370667543.py\u001b[0m in \u001b[0;36m<module>\u001b[0;34m\u001b[0m\n\u001b[1;32m      3\u001b[0m \u001b[0;34m\u001b[0m\u001b[0m\n\u001b[1;32m      4\u001b[0m \u001b[0;32mfor\u001b[0m \u001b[0mi\u001b[0m \u001b[0;32min\u001b[0m \u001b[0mrange\u001b[0m\u001b[0;34m(\u001b[0m\u001b[0;36m1\u001b[0m\u001b[0;34m,\u001b[0m \u001b[0;36m1001\u001b[0m\u001b[0;34m)\u001b[0m\u001b[0;34m:\u001b[0m\u001b[0;34m\u001b[0m\u001b[0;34m\u001b[0m\u001b[0m\n\u001b[0;32m----> 5\u001b[0;31m     \u001b[0mdw\u001b[0m\u001b[0;34m,\u001b[0m \u001b[0mdb\u001b[0m \u001b[0;34m=\u001b[0m \u001b[0mgradient\u001b[0m\u001b[0;34m(\u001b[0m\u001b[0mX_train\u001b[0m\u001b[0;34m,\u001b[0m \u001b[0mw\u001b[0m\u001b[0;34m,\u001b[0m \u001b[0mb\u001b[0m\u001b[0;34m,\u001b[0m \u001b[0my_train\u001b[0m\u001b[0;34m)\u001b[0m\u001b[0;34m\u001b[0m\u001b[0;34m\u001b[0m\u001b[0m\n\u001b[0m\u001b[1;32m      6\u001b[0m     \u001b[0mw\u001b[0m \u001b[0;34m-=\u001b[0m \u001b[0mLEARNING_RATE\u001b[0m \u001b[0;34m*\u001b[0m \u001b[0mdw\u001b[0m\u001b[0;34m\u001b[0m\u001b[0;34m\u001b[0m\u001b[0m\n\u001b[1;32m      7\u001b[0m     \u001b[0mb\u001b[0m \u001b[0;34m-=\u001b[0m \u001b[0mLEARNING_RATE\u001b[0m \u001b[0;34m*\u001b[0m \u001b[0mdb\u001b[0m\u001b[0;34m\u001b[0m\u001b[0;34m\u001b[0m\u001b[0m\n",
      "\u001b[0;32m/tmp/ipykernel_35/1389362415.py\u001b[0m in \u001b[0;36mgradient\u001b[0;34m(X, w, b, y)\u001b[0m\n\u001b[1;32m      5\u001b[0m \u001b[0;34m\u001b[0m\u001b[0m\n\u001b[1;32m      6\u001b[0m     \u001b[0;31m# y_predic 준비\u001b[0m\u001b[0;34m\u001b[0m\u001b[0;34m\u001b[0m\u001b[0m\n\u001b[0;32m----> 7\u001b[0;31m     \u001b[0my_predic\u001b[0m \u001b[0;34m=\u001b[0m \u001b[0mmodel\u001b[0m\u001b[0;34m(\u001b[0m\u001b[0mX\u001b[0m\u001b[0;34m,\u001b[0m \u001b[0mw\u001b[0m\u001b[0;34m,\u001b[0m \u001b[0mb\u001b[0m\u001b[0;34m)\u001b[0m\u001b[0;34m\u001b[0m\u001b[0;34m\u001b[0m\u001b[0m\n\u001b[0m\u001b[1;32m      8\u001b[0m \u001b[0;34m\u001b[0m\u001b[0m\n\u001b[1;32m      9\u001b[0m     \u001b[0;31m# 공식에 맞게 gradient 계산\u001b[0m\u001b[0;34m\u001b[0m\u001b[0;34m\u001b[0m\u001b[0m\n",
      "\u001b[0;31mTypeError\u001b[0m: 'LinearRegression' object is not callable"
     ]
    }
   ],
   "source": [
    "# 손실함수 값을 저장할 변수 선언\n",
    "losses = []\n",
    "\n",
    "for i in range(1, 1001):\n",
    "    dw, db = gradient(X_train, w, b, y_train)\n",
    "    w -= LEARNING_RATE * dw\n",
    "    b -= LEARNING_RATE * db\n",
    "    L = loss(X_train, w, b, y_train)\n",
    "    losses.append(L)\n",
    "    if i % 10 == 0:\n",
    "        print('Iteration %d : Loss %0.4f' % (i, L))"
   ]
  },
  {
   "cell_type": "markdown",
   "id": "ec256309",
   "metadata": {},
   "source": [
    "### ! 여기서 실제 진행은 멈췄음. typeError: 'LinearRegression' object is not callable' 를 해결하지 못함\n",
    "### > 구글링을 해 보니 클래스와 오브젝트를 혼돈하여 썼기 때문이라는데... 코드는 기존의 다른 코드랑 비교해서 틀린 곳이 없는데... 이유를 모르겠음.\n",
    "\n",
    "### 이후의 코드는 작성했으나 이 오류로 인해 실행 확인을 하지 못함."
   ]
  },
  {
   "cell_type": "markdown",
   "id": "1da1bca7",
   "metadata": {},
   "source": [
    "### Step 5. 성능확인"
   ]
  },
  {
   "cell_type": "code",
   "execution_count": null,
   "id": "662d6788",
   "metadata": {},
   "outputs": [],
   "source": [
    "# 손실함수 값을 시각적으로 확인해 봄\n",
    "plt.plot(losses)\n",
    "plt.show()"
   ]
  },
  {
   "cell_type": "code",
   "execution_count": null,
   "id": "f3593d7c",
   "metadata": {},
   "outputs": [],
   "source": [
    "# 현 시점의 w, b를 확인해 봄\n",
    "w, b"
   ]
  },
  {
   "cell_type": "code",
   "execution_count": null,
   "id": "280c509a",
   "metadata": {},
   "outputs": [],
   "source": [
    "# X_test, y_test에 대해서 확인해 봄\n",
    "predic = model(X_test, w, b)\n",
    "rmse = loss(X_test, w, b, y_test)**0.5\n",
    "rmse"
   ]
  },
  {
   "cell_type": "code",
   "execution_count": null,
   "id": "2c01d914",
   "metadata": {},
   "outputs": [],
   "source": [
    "# 결과 시각화\n",
    "plt.scatter(X_test[:,0], y_test, label=\"true\")\n",
    "plt.scatter(X_test[:,0], predic, label=\"prediction\")\n",
    "plt.legend()\n",
    "plt.show()"
   ]
  },
  {
   "cell_type": "markdown",
   "id": "cf34c422",
   "metadata": {},
   "source": [
    "## Project 2. 날씨 좋은 월요일 오후 세 시, 자전거 타는 사람 맞추기"
   ]
  },
  {
   "cell_type": "code",
   "execution_count": 195,
   "id": "012bf4df",
   "metadata": {},
   "outputs": [
    {
     "name": "stdout",
     "output_type": "stream",
     "text": [
      "(10886, 12)\n"
     ]
    },
    {
     "data": {
      "text/html": [
       "<div>\n",
       "<style scoped>\n",
       "    .dataframe tbody tr th:only-of-type {\n",
       "        vertical-align: middle;\n",
       "    }\n",
       "\n",
       "    .dataframe tbody tr th {\n",
       "        vertical-align: top;\n",
       "    }\n",
       "\n",
       "    .dataframe thead th {\n",
       "        text-align: right;\n",
       "    }\n",
       "</style>\n",
       "<table border=\"1\" class=\"dataframe\">\n",
       "  <thead>\n",
       "    <tr style=\"text-align: right;\">\n",
       "      <th></th>\n",
       "      <th>datetime</th>\n",
       "      <th>season</th>\n",
       "      <th>holiday</th>\n",
       "      <th>workingday</th>\n",
       "      <th>weather</th>\n",
       "      <th>temp</th>\n",
       "      <th>atemp</th>\n",
       "      <th>humidity</th>\n",
       "      <th>windspeed</th>\n",
       "      <th>casual</th>\n",
       "      <th>registered</th>\n",
       "      <th>count</th>\n",
       "    </tr>\n",
       "  </thead>\n",
       "  <tbody>\n",
       "    <tr>\n",
       "      <th>0</th>\n",
       "      <td>2011-01-01 00:00:00</td>\n",
       "      <td>1</td>\n",
       "      <td>0</td>\n",
       "      <td>0</td>\n",
       "      <td>1</td>\n",
       "      <td>9.84</td>\n",
       "      <td>14.395</td>\n",
       "      <td>81</td>\n",
       "      <td>0.0</td>\n",
       "      <td>3</td>\n",
       "      <td>13</td>\n",
       "      <td>16</td>\n",
       "    </tr>\n",
       "    <tr>\n",
       "      <th>1</th>\n",
       "      <td>2011-01-01 01:00:00</td>\n",
       "      <td>1</td>\n",
       "      <td>0</td>\n",
       "      <td>0</td>\n",
       "      <td>1</td>\n",
       "      <td>9.02</td>\n",
       "      <td>13.635</td>\n",
       "      <td>80</td>\n",
       "      <td>0.0</td>\n",
       "      <td>8</td>\n",
       "      <td>32</td>\n",
       "      <td>40</td>\n",
       "    </tr>\n",
       "    <tr>\n",
       "      <th>2</th>\n",
       "      <td>2011-01-01 02:00:00</td>\n",
       "      <td>1</td>\n",
       "      <td>0</td>\n",
       "      <td>0</td>\n",
       "      <td>1</td>\n",
       "      <td>9.02</td>\n",
       "      <td>13.635</td>\n",
       "      <td>80</td>\n",
       "      <td>0.0</td>\n",
       "      <td>5</td>\n",
       "      <td>27</td>\n",
       "      <td>32</td>\n",
       "    </tr>\n",
       "    <tr>\n",
       "      <th>3</th>\n",
       "      <td>2011-01-01 03:00:00</td>\n",
       "      <td>1</td>\n",
       "      <td>0</td>\n",
       "      <td>0</td>\n",
       "      <td>1</td>\n",
       "      <td>9.84</td>\n",
       "      <td>14.395</td>\n",
       "      <td>75</td>\n",
       "      <td>0.0</td>\n",
       "      <td>3</td>\n",
       "      <td>10</td>\n",
       "      <td>13</td>\n",
       "    </tr>\n",
       "    <tr>\n",
       "      <th>4</th>\n",
       "      <td>2011-01-01 04:00:00</td>\n",
       "      <td>1</td>\n",
       "      <td>0</td>\n",
       "      <td>0</td>\n",
       "      <td>1</td>\n",
       "      <td>9.84</td>\n",
       "      <td>14.395</td>\n",
       "      <td>75</td>\n",
       "      <td>0.0</td>\n",
       "      <td>0</td>\n",
       "      <td>1</td>\n",
       "      <td>1</td>\n",
       "    </tr>\n",
       "  </tbody>\n",
       "</table>\n",
       "</div>"
      ],
      "text/plain": [
       "              datetime  season  holiday  workingday  weather  temp   atemp  \\\n",
       "0  2011-01-01 00:00:00       1        0           0        1  9.84  14.395   \n",
       "1  2011-01-01 01:00:00       1        0           0        1  9.02  13.635   \n",
       "2  2011-01-01 02:00:00       1        0           0        1  9.02  13.635   \n",
       "3  2011-01-01 03:00:00       1        0           0        1  9.84  14.395   \n",
       "4  2011-01-01 04:00:00       1        0           0        1  9.84  14.395   \n",
       "\n",
       "   humidity  windspeed  casual  registered  count  \n",
       "0        81        0.0       3          13     16  \n",
       "1        80        0.0       8          32     40  \n",
       "2        80        0.0       5          27     32  \n",
       "3        75        0.0       3          10     13  \n",
       "4        75        0.0       0           1      1  "
      ]
     },
     "execution_count": 195,
     "metadata": {},
     "output_type": "execute_result"
    }
   ],
   "source": [
    "# 데이터경로 설정\n",
    "# mkdir -p ~/aiffel/bike-sharing-demand/data\n",
    "# ln -s ~/data/* ~/aiffel/bike-sharing-demand/data\n",
    "import os\n",
    "original_train = pd.read_csv(\"~/aiffel/bike-sharing-demand/data/data/bike-sharing-demand/train.csv\")\n",
    "\n",
    "# 데이터 가져와서 기본정보 확인하기\n",
    "train = original_train\n",
    "print(train.shape)\n",
    "train.head()"
   ]
  },
  {
   "cell_type": "code",
   "execution_count": 196,
   "id": "e5923ef8",
   "metadata": {},
   "outputs": [
    {
     "name": "stdout",
     "output_type": "stream",
     "text": [
      "<class 'pandas.core.frame.DataFrame'>\n",
      "RangeIndex: 10886 entries, 0 to 10885\n",
      "Data columns (total 12 columns):\n",
      " #   Column      Non-Null Count  Dtype  \n",
      "---  ------      --------------  -----  \n",
      " 0   datetime    10886 non-null  object \n",
      " 1   season      10886 non-null  int64  \n",
      " 2   holiday     10886 non-null  int64  \n",
      " 3   workingday  10886 non-null  int64  \n",
      " 4   weather     10886 non-null  int64  \n",
      " 5   temp        10886 non-null  float64\n",
      " 6   atemp       10886 non-null  float64\n",
      " 7   humidity    10886 non-null  int64  \n",
      " 8   windspeed   10886 non-null  float64\n",
      " 9   casual      10886 non-null  int64  \n",
      " 10  registered  10886 non-null  int64  \n",
      " 11  count       10886 non-null  int64  \n",
      "dtypes: float64(3), int64(8), object(1)\n",
      "memory usage: 1020.7+ KB\n"
     ]
    }
   ],
   "source": [
    "train.info()"
   ]
  },
  {
   "cell_type": "code",
   "execution_count": 206,
   "id": "5998272a",
   "metadata": {},
   "outputs": [
    {
     "name": "stdout",
     "output_type": "stream",
     "text": [
      "             season       holiday    workingday       weather         temp  \\\n",
      "count  10886.000000  10886.000000  10886.000000  10886.000000  10886.00000   \n",
      "mean       2.506614      0.028569      0.680875      1.418427     20.23086   \n",
      "std        1.116174      0.166599      0.466159      0.633839      7.79159   \n",
      "min        1.000000      0.000000      0.000000      1.000000      0.82000   \n",
      "25%        2.000000      0.000000      0.000000      1.000000     13.94000   \n",
      "50%        3.000000      0.000000      1.000000      1.000000     20.50000   \n",
      "75%        4.000000      0.000000      1.000000      2.000000     26.24000   \n",
      "max        4.000000      1.000000      1.000000      4.000000     41.00000   \n",
      "\n",
      "              atemp      humidity     windspeed        casual    registered  \\\n",
      "count  10886.000000  10886.000000  10886.000000  10886.000000  10886.000000   \n",
      "mean      23.655084     61.886460     12.799395     36.021955    155.552177   \n",
      "std        8.474601     19.245033      8.164537     49.960477    151.039033   \n",
      "min        0.760000      0.000000      0.000000      0.000000      0.000000   \n",
      "25%       16.665000     47.000000      7.001500      4.000000     36.000000   \n",
      "50%       24.240000     62.000000     12.998000     17.000000    118.000000   \n",
      "75%       31.060000     77.000000     16.997900     49.000000    222.000000   \n",
      "max       45.455000    100.000000     56.996900    367.000000    886.000000   \n",
      "\n",
      "              count          year         month           day          hour  \n",
      "count  10886.000000  10886.000000  10886.000000  10886.000000  10886.000000  \n",
      "mean     191.574132   2011.501929      6.521495      9.992559     11.541613  \n",
      "std      181.144454      0.500019      3.444373      5.476608      6.915838  \n",
      "min        1.000000   2011.000000      1.000000      1.000000      0.000000  \n",
      "25%       42.000000   2011.000000      4.000000      5.000000      6.000000  \n",
      "50%      145.000000   2012.000000      7.000000     10.000000     12.000000  \n",
      "75%      284.000000   2012.000000     10.000000     15.000000     18.000000  \n",
      "max      977.000000   2012.000000     12.000000     19.000000     23.000000  \n"
     ]
    }
   ],
   "source": [
    "print(train.describe())\n",
    "# 시즌 1~4\n",
    "# 휴일 1, 2\n",
    "# 평일\n",
    "# 날씨\n",
    "# temp 기온\n",
    "# atemp\n",
    "# 습도\n",
    "# 바람\n",
    "# 현장대여\n",
    "# 예약대여\n",
    "# 합계대여\n",
    "# 년도\n",
    "# 월\n",
    "# 일\n",
    "# 시간"
   ]
  },
  {
   "cell_type": "code",
   "execution_count": 198,
   "id": "9c2b95b1",
   "metadata": {},
   "outputs": [],
   "source": [
    "# datetime 컬럼을 자료형으로 변환하고 연, 월, 일, 시 초까지 새로운 컬럼 생성"
   ]
  },
  {
   "cell_type": "code",
   "execution_count": 199,
   "id": "9b723a65",
   "metadata": {},
   "outputs": [],
   "source": [
    "from datetime import datetime"
   ]
  },
  {
   "cell_type": "code",
   "execution_count": 200,
   "id": "cf09bf5b",
   "metadata": {},
   "outputs": [],
   "source": [
    "train['datetime'] = pd.to_datetime(train['datetime'])"
   ]
  },
  {
   "cell_type": "code",
   "execution_count": 201,
   "id": "77f90954",
   "metadata": {},
   "outputs": [
    {
     "name": "stdout",
     "output_type": "stream",
     "text": [
      "0        2011\n",
      "1        2011\n",
      "2        2011\n",
      "3        2011\n",
      "4        2011\n",
      "         ... \n",
      "10881    2012\n",
      "10882    2012\n",
      "10883    2012\n",
      "10884    2012\n",
      "10885    2012\n",
      "Name: year, Length: 10886, dtype: int64\n"
     ]
    }
   ],
   "source": [
    "# 년도 추출하기\n",
    "train['year']=train['datetime'].dt.year\n",
    "print(train['year'])\n",
    "\n",
    "# 날짜 추출하기\n",
    "train['month']=train['datetime'].dt.month\n",
    " \n",
    "# 시간 추출하기\n",
    "train['day']=train['datetime'].dt.day\n",
    "  \n",
    "# 분 추출하기\n",
    "train['hour']=train['datetime'].dt.hour\n",
    "\n",
    "# 초 추출하기\n",
    "train['minute']=train['datetime'].dt.minute\n",
    "      \n",
    "# 초 추출하기\n",
    "train['second']=train['datetime'].dt.second"
   ]
  },
  {
   "cell_type": "code",
   "execution_count": 210,
   "id": "c1b26ec2",
   "metadata": {},
   "outputs": [
    {
     "data": {
      "text/plain": [
       "<AxesSubplot:xlabel='hour', ylabel='count'>"
      ]
     },
     "execution_count": 210,
     "metadata": {},
     "output_type": "execute_result"
    },
    {
     "data": {
      "image/png": "[encoded data removed]",
      "text/plain": [
       "<Figure size 1440x720 with 6 Axes>"
      ]
     },
     "metadata": {
      "image/png": {
       "height": 574,
       "width": 1184
      },
      "needs_background": "light"
     },
     "output_type": "display_data"
    }
   ],
   "source": [
    "# 그래프를 통해 데이터 이해\n",
    "fig, ((ax1, ax2),(ax3, ax4),(ax5, ax6)) = plt.subplots(nrows=3, ncols=2)\n",
    "fig.set_size_inches(20, 10)\n",
    "\n",
    "sns.countplot(data=train, x=\"year\", ax=ax1)\n",
    "sns.countplot(data=train, x=\"month\", ax=ax2)\n",
    "sns.countplot(data=train, x=\"day\", ax=ax3)\n",
    "sns.countplot(data=train, x=\"hour\", ax=ax4)\n"
   ]
  },
  {
   "cell_type": "code",
   "execution_count": 204,
   "id": "04ccca5b",
   "metadata": {},
   "outputs": [],
   "source": [
    "train = train.drop(['minute', 'second'], axis=1)"
   ]
  },
  {
   "cell_type": "code",
   "execution_count": 205,
   "id": "65769ca2",
   "metadata": {},
   "outputs": [
    {
     "name": "stdout",
     "output_type": "stream",
     "text": [
      "              season   holiday  workingday   weather      temp     atemp  \\\n",
      "season      1.000000  0.029368   -0.008126  0.008879  0.258689  0.264744   \n",
      "holiday     0.029368  1.000000   -0.250491 -0.007074  0.000295 -0.005215   \n",
      "workingday -0.008126 -0.250491    1.000000  0.033772  0.029966  0.024660   \n",
      "weather     0.008879 -0.007074    0.033772  1.000000 -0.055035 -0.055376   \n",
      "temp        0.258689  0.000295    0.029966 -0.055035  1.000000  0.984948   \n",
      "atemp       0.264744 -0.005215    0.024660 -0.055376  0.984948  1.000000   \n",
      "humidity    0.190610  0.001929   -0.010880  0.406244 -0.064949 -0.043536   \n",
      "windspeed  -0.147121  0.008409    0.013373  0.007261 -0.017852 -0.057473   \n",
      "casual      0.096758  0.043799   -0.319111 -0.135918  0.467097  0.462067   \n",
      "registered  0.164011 -0.020956    0.119460 -0.109340  0.318571  0.314635   \n",
      "count       0.163439 -0.005393    0.011594 -0.128655  0.394454  0.389784   \n",
      "year       -0.004797  0.012021   -0.002482 -0.012548  0.061226  0.058540   \n",
      "month       0.971524  0.001731   -0.003394  0.012144  0.257589  0.264173   \n",
      "day         0.001729 -0.015877    0.009829 -0.007890  0.015551  0.011866   \n",
      "hour       -0.006546 -0.000354    0.002780 -0.022740  0.145430  0.140343   \n",
      "\n",
      "            humidity  windspeed    casual  registered     count      year  \\\n",
      "season      0.190610  -0.147121  0.096758    0.164011  0.163439 -0.004797   \n",
      "holiday     0.001929   0.008409  0.043799   -0.020956 -0.005393  0.012021   \n",
      "workingday -0.010880   0.013373 -0.319111    0.119460  0.011594 -0.002482   \n",
      "weather     0.406244   0.007261 -0.135918   -0.109340 -0.128655 -0.012548   \n",
      "temp       -0.064949  -0.017852  0.467097    0.318571  0.394454  0.061226   \n",
      "atemp      -0.043536  -0.057473  0.462067    0.314635  0.389784  0.058540   \n",
      "humidity    1.000000  -0.318607 -0.348187   -0.265458 -0.317371 -0.078606   \n",
      "windspeed  -0.318607   1.000000  0.092276    0.091052  0.101369 -0.015221   \n",
      "casual     -0.348187   0.092276  1.000000    0.497250  0.690414  0.145241   \n",
      "registered -0.265458   0.091052  0.497250    1.000000  0.970948  0.264265   \n",
      "count      -0.317371   0.101369  0.690414    0.970948  1.000000  0.260403   \n",
      "year       -0.078606  -0.015221  0.145241    0.264265  0.260403  1.000000   \n",
      "month       0.204537  -0.150192  0.092722    0.169451  0.166862 -0.004932   \n",
      "day        -0.011335   0.036157  0.014109    0.019111  0.019826  0.001800   \n",
      "hour       -0.278011   0.146631  0.302045    0.380540  0.400601 -0.004234   \n",
      "\n",
      "               month       day      hour  \n",
      "season      0.971524  0.001729 -0.006546  \n",
      "holiday     0.001731 -0.015877 -0.000354  \n",
      "workingday -0.003394  0.009829  0.002780  \n",
      "weather     0.012144 -0.007890 -0.022740  \n",
      "temp        0.257589  0.015551  0.145430  \n",
      "atemp       0.264173  0.011866  0.140343  \n",
      "humidity    0.204537 -0.011335 -0.278011  \n",
      "windspeed  -0.150192  0.036157  0.146631  \n",
      "casual      0.092722  0.014109  0.302045  \n",
      "registered  0.169451  0.019111  0.380540  \n",
      "count       0.166862  0.019826  0.400601  \n",
      "year       -0.004932  0.001800 -0.004234  \n",
      "month       1.000000  0.001974 -0.006818  \n",
      "day         0.001974  1.000000  0.001132  \n",
      "hour       -0.006818  0.001132  1.000000  \n"
     ]
    }
   ],
   "source": [
    "print(train.corr())"
   ]
  },
  {
   "cell_type": "markdown",
   "id": "26c94c42",
   "metadata": {},
   "source": [
    "## [ 루브릭 ]\n",
    "---\n",
    "### 1. 프로젝트1의 회귀모델 예측 정확도 : 기준 mse 손실함수값 3,000이하\n",
    "\n",
    "### 2. 프로젝트2의 회귀모델 예측 정확도 : 기준 rmse 값 150 이하 달성\n",
    "\n",
    "### 3. 시각화 요구사항이 정확하게 이루어졌는가? :\n",
    "\n",
    "#### * 데이터 개수 시각화 진행 여부\n",
    "#### * 예측 결과 시각화 진행 여부\n",
    "#### * 예측과 실제 데이터가 크게 분리되지 않고 비슷한가?"
   ]
  },
  {
   "cell_type": "markdown",
   "id": "c1d13168",
   "metadata": {},
   "source": [
    "## [ 회고 ]\n",
    "\n",
    "#### 이제 제출 34분 남짓 남았으니 일단 회고를 작성합니다.. ㅠㅠ<br><br> 두번째 Ex 제출인데.. 이번엔 아예 실행까지 시켜보지도 못했네요.<br><br> 분명히 남들보다, 최소한, 많은 시간을 투입하고 있는데 <br><br> 들어오는 내용들을 소화시키지 못하고 있다고 생각이 됩니다. <br><br> 전반적인 개념에 대해서는 지난 주말에 복습을 통해 <br><br> 어느 정도 이해가 되었다고 생각했지만 <br><br> 코드를 짜는 과정에서 각 노드의 세부적인 내용들을 이해하면서 <br><br>  코드를 짜려고 하니 아직 충분치 않은 것 같네요. <br><br><br>좌절하게 되는 밤이지만 아직 좌절은 이르거겠죠... \"시작은 미약하나 끝은 창대할지니~\"\n"
   ]
  },
  {
   "cell_type": "code",
   "execution_count": null,
   "id": "1b762610",
   "metadata": {},
   "outputs": [],
   "source": []
  }
 ],
 "metadata": {
  "kernelspec": {
   "display_name": "Python 3 (ipykernel)",
   "language": "python",
   "name": "python3"
  },
  "language_info": {
   "codemirror_mode": {
    "name": "ipython",
    "version": 3
   },
   "file_extension": ".py",
   "mimetype": "text/x-python",
   "name": "python",
   "nbconvert_exporter": "python",
   "pygments_lexer": "ipython3",
   "version": "3.9.7"
  }
 },
 "nbformat": 4,
 "nbformat_minor": 5
}
