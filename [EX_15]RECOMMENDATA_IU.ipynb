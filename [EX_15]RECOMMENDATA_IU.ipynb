{
 "cells": [
  {
   "cell_type": "markdown",
   "metadata": {
    "canvas": {
     "comments": [],
     "componentType": "CodeCell",
     "copiedOriginId": null,
     "headerColor": "none",
     "id": "6adf4924-1b19-4059-acb6-4d88f8cf4e42",
     "isComponent": false,
     "name": "",
     "parents": []
    },
    "id": "-ZNgHO9Yj18P",
    "tags": []
   },
   "source": [
    "# [EX_15]RECOMMENDATA_IU\n",
    "\n",
    "### 개요\n",
    "## * MF 모델 학습 방법을 토대로 내가 좋아할 만한 영화 추천하는 시스템을 제작해 봄.\n",
    "\n",
    "### 목차\n",
    "\n",
    "* STEP 0. 환경설정\n",
    "* STEP 1. 데이터 준비 및 전처리\n",
    "* STEP 2. 데이터 분석\n",
    "* STEP 3. 선호영화 ratings에 추가\n",
    "* STEP 4. CSR Matrix 만들기\n",
    "* STEP 5. 모델 구성 및 훈련\n",
    "* STEP 6. 나의 선호도 파악\n",
    "* STEP 7. 나의 선호도와 비슷한 영화 추천\n",
    "* STEP 8. 내가 좋아할 만한 영화 추천\n",
    "\n",
    "* 루브릭\n",
    "* 회고\n"
   ]
  },
  {
   "cell_type": "markdown",
   "metadata": {
    "canvas": {
     "comments": [],
     "componentType": "CodeCell",
     "copiedOriginId": null,
     "headerColor": "none",
     "id": "3138cb6d-70c3-4217-8a8c-f55191464a5b",
     "isComponent": false,
     "name": "",
     "parents": []
    },
    "id": "ipo9pxOrj1zd"
   },
   "source": [
    "## STEP 0. 환경설정"
   ]
  },
  {
   "cell_type": "code",
   "execution_count": 1,
   "metadata": {
    "canvas": {
     "comments": [],
     "componentType": "CodeCell",
     "copiedOriginId": null,
     "headerColor": "none",
     "id": "4e1024d5-de5d-439e-b6a3-f904bee4c66e",
     "isComponent": false,
     "name": "",
     "parents": []
    },
    "colab": {
     "base_uri": "https://localhost:8080/"
    },
    "id": "LUlwmFAIyqiI",
    "outputId": "ab431dfd-b73b-4b18-e125-b73daf00ae6c"
   },
   "outputs": [
    {
     "name": "stdout",
     "output_type": "stream",
     "text": [
      "Requirement already satisfied: implicit in /opt/conda/lib/python3.9/site-packages (0.4.8)\n",
      "Requirement already satisfied: scipy>=0.16 in /opt/conda/lib/python3.9/site-packages (from implicit) (1.7.1)\n",
      "Requirement already satisfied: numpy in /opt/conda/lib/python3.9/site-packages (from implicit) (1.21.4)\n",
      "Requirement already satisfied: tqdm>=4.27 in /opt/conda/lib/python3.9/site-packages (from implicit) (4.62.3)\n",
      "\u001b[33mWARNING: Running pip as the 'root' user can result in broken permissions and conflicting behaviour with the system package manager. It is recommended to use a virtual environment instead: https://pip.pypa.io/warnings/venv\u001b[0m\n"
     ]
    }
   ],
   "source": [
    "!pip install implicit \n",
    "import numpy as np\n",
    "import pandas as pd\n",
    "import os\n",
    "\n",
    "import scipy\n",
    "import implicit\n",
    "from scipy.sparse import csr_matrix\n",
    "from implicit.als import AlternatingLeastSquares"
   ]
  },
  {
   "cell_type": "markdown",
   "metadata": {
    "canvas": {
     "comments": [],
     "componentType": "CodeCell",
     "copiedOriginId": null,
     "headerColor": "none",
     "id": "0eae5975-ec0b-46e5-9ea4-16c3c437a3de",
     "isComponent": false,
     "name": "",
     "parents": []
    },
    "id": "yp7EkFiEk53s"
   },
   "source": [
    "## STEP 1. 데이터 불러오기 및 전처리"
   ]
  },
  {
   "cell_type": "code",
   "execution_count": 2,
   "metadata": {
    "canvas": {
     "comments": [],
     "componentType": "CodeCell",
     "copiedOriginId": null,
     "headerColor": "none",
     "id": "08623961-bd25-4066-88ed-e4dbc9a8d23c",
     "isComponent": false,
     "name": "",
     "parents": []
    },
    "colab": {
     "base_uri": "https://localhost:8080/",
     "height": 206
    },
    "id": "LFND32AzGKz0",
    "outputId": "e563fe11-4759-4605-ef0f-f26ba4c9109c"
   },
   "outputs": [
    {
     "data": {
      "text/html": [
       "<div>\n",
       "<style scoped>\n",
       "    .dataframe tbody tr th:only-of-type {\n",
       "        vertical-align: middle;\n",
       "    }\n",
       "\n",
       "    .dataframe tbody tr th {\n",
       "        vertical-align: top;\n",
       "    }\n",
       "\n",
       "    .dataframe thead th {\n",
       "        text-align: right;\n",
       "    }\n",
       "</style>\n",
       "<table border=\"1\" class=\"dataframe\">\n",
       "  <thead>\n",
       "    <tr style=\"text-align: right;\">\n",
       "      <th></th>\n",
       "      <th>user_id</th>\n",
       "      <th>movie_id</th>\n",
       "      <th>ratings</th>\n",
       "      <th>timestamp</th>\n",
       "    </tr>\n",
       "  </thead>\n",
       "  <tbody>\n",
       "    <tr>\n",
       "      <th>0</th>\n",
       "      <td>1</td>\n",
       "      <td>1193</td>\n",
       "      <td>5</td>\n",
       "      <td>978300760</td>\n",
       "    </tr>\n",
       "    <tr>\n",
       "      <th>1</th>\n",
       "      <td>1</td>\n",
       "      <td>661</td>\n",
       "      <td>3</td>\n",
       "      <td>978302109</td>\n",
       "    </tr>\n",
       "    <tr>\n",
       "      <th>2</th>\n",
       "      <td>1</td>\n",
       "      <td>914</td>\n",
       "      <td>3</td>\n",
       "      <td>978301968</td>\n",
       "    </tr>\n",
       "    <tr>\n",
       "      <th>3</th>\n",
       "      <td>1</td>\n",
       "      <td>3408</td>\n",
       "      <td>4</td>\n",
       "      <td>978300275</td>\n",
       "    </tr>\n",
       "    <tr>\n",
       "      <th>4</th>\n",
       "      <td>1</td>\n",
       "      <td>2355</td>\n",
       "      <td>5</td>\n",
       "      <td>978824291</td>\n",
       "    </tr>\n",
       "  </tbody>\n",
       "</table>\n",
       "</div>"
      ],
      "text/plain": [
       "   user_id  movie_id  ratings  timestamp\n",
       "0        1      1193        5  978300760\n",
       "1        1       661        3  978302109\n",
       "2        1       914        3  978301968\n",
       "3        1      3408        4  978300275\n",
       "4        1      2355        5  978824291"
      ]
     },
     "execution_count": 2,
     "metadata": {},
     "output_type": "execute_result"
    }
   ],
   "source": [
    "# 데이터 불러오기\n",
    "\n",
    "# rating_file_path='/content/drive/MyDrive/aiffel/recommendata_iu/data/ml-1m/ratings.dat'\n",
    "rating_file_path=os.getenv('HOME') + '/aiffel/recommendata_iu/data/ml-1m/ratings.dat'\n",
    "ratings_cols = ['user_id', 'movie_id', 'ratings', 'timestamp']\n",
    "ratings = pd.read_csv(rating_file_path, sep='::', names=ratings_cols, engine='python', encoding = \"ISO-8859-1\")\n",
    "orginal_data_size = len(ratings)\n",
    "ratings.head()"
   ]
  },
  {
   "cell_type": "code",
   "execution_count": 3,
   "metadata": {
    "canvas": {
     "comments": [],
     "componentType": "CodeCell",
     "copiedOriginId": null,
     "headerColor": "none",
     "id": "d91fd778-b3bf-429f-83c3-464b20b47db7",
     "isComponent": false,
     "name": "",
     "parents": []
    },
    "colab": {
     "base_uri": "https://localhost:8080/"
    },
    "id": "8OvxpQFvNwSJ",
    "outputId": "b105a300-7d91-4c15-9b5c-d86738e58b5c"
   },
   "outputs": [
    {
     "name": "stdout",
     "output_type": "stream",
     "text": [
      "orginal_data_size: 1000209, filtered_data_size: 836478\n",
      "Ratio of Remaining Data is 83.63%\n"
     ]
    }
   ],
   "source": [
    "# 3점 이상만 남깁니다.\n",
    "ratings = ratings[ratings['ratings']>=3]\n",
    "filtered_data_size = len(ratings)\n",
    "\n",
    "print(f'orginal_data_size: {orginal_data_size}, filtered_data_size: {filtered_data_size}')\n",
    "print(f'Ratio of Remaining Data is {filtered_data_size / orginal_data_size:.2%}')"
   ]
  },
  {
   "cell_type": "code",
   "execution_count": 4,
   "metadata": {
    "canvas": {
     "comments": [],
     "componentType": "CodeCell",
     "copiedOriginId": null,
     "headerColor": "none",
     "id": "0db4cc1e-59bf-4cb9-be81-2b0131d7e71d",
     "isComponent": false,
     "name": "",
     "parents": []
    },
    "colab": {
     "base_uri": "https://localhost:8080/",
     "height": 424
    },
    "id": "ju2KOua3N0j5",
    "outputId": "ac3c28db-5652-4e7e-f83c-b003379bd3c7"
   },
   "outputs": [
    {
     "data": {
      "text/html": [
       "<div>\n",
       "<style scoped>\n",
       "    .dataframe tbody tr th:only-of-type {\n",
       "        vertical-align: middle;\n",
       "    }\n",
       "\n",
       "    .dataframe tbody tr th {\n",
       "        vertical-align: top;\n",
       "    }\n",
       "\n",
       "    .dataframe thead th {\n",
       "        text-align: right;\n",
       "    }\n",
       "</style>\n",
       "<table border=\"1\" class=\"dataframe\">\n",
       "  <thead>\n",
       "    <tr style=\"text-align: right;\">\n",
       "      <th></th>\n",
       "      <th>user_id</th>\n",
       "      <th>movie_id</th>\n",
       "      <th>counts</th>\n",
       "      <th>timestamp</th>\n",
       "    </tr>\n",
       "  </thead>\n",
       "  <tbody>\n",
       "    <tr>\n",
       "      <th>0</th>\n",
       "      <td>1</td>\n",
       "      <td>1193</td>\n",
       "      <td>5</td>\n",
       "      <td>978300760</td>\n",
       "    </tr>\n",
       "    <tr>\n",
       "      <th>1</th>\n",
       "      <td>1</td>\n",
       "      <td>661</td>\n",
       "      <td>3</td>\n",
       "      <td>978302109</td>\n",
       "    </tr>\n",
       "    <tr>\n",
       "      <th>2</th>\n",
       "      <td>1</td>\n",
       "      <td>914</td>\n",
       "      <td>3</td>\n",
       "      <td>978301968</td>\n",
       "    </tr>\n",
       "    <tr>\n",
       "      <th>3</th>\n",
       "      <td>1</td>\n",
       "      <td>3408</td>\n",
       "      <td>4</td>\n",
       "      <td>978300275</td>\n",
       "    </tr>\n",
       "    <tr>\n",
       "      <th>4</th>\n",
       "      <td>1</td>\n",
       "      <td>2355</td>\n",
       "      <td>5</td>\n",
       "      <td>978824291</td>\n",
       "    </tr>\n",
       "    <tr>\n",
       "      <th>...</th>\n",
       "      <td>...</td>\n",
       "      <td>...</td>\n",
       "      <td>...</td>\n",
       "      <td>...</td>\n",
       "    </tr>\n",
       "    <tr>\n",
       "      <th>1000203</th>\n",
       "      <td>6040</td>\n",
       "      <td>1090</td>\n",
       "      <td>3</td>\n",
       "      <td>956715518</td>\n",
       "    </tr>\n",
       "    <tr>\n",
       "      <th>1000205</th>\n",
       "      <td>6040</td>\n",
       "      <td>1094</td>\n",
       "      <td>5</td>\n",
       "      <td>956704887</td>\n",
       "    </tr>\n",
       "    <tr>\n",
       "      <th>1000206</th>\n",
       "      <td>6040</td>\n",
       "      <td>562</td>\n",
       "      <td>5</td>\n",
       "      <td>956704746</td>\n",
       "    </tr>\n",
       "    <tr>\n",
       "      <th>1000207</th>\n",
       "      <td>6040</td>\n",
       "      <td>1096</td>\n",
       "      <td>4</td>\n",
       "      <td>956715648</td>\n",
       "    </tr>\n",
       "    <tr>\n",
       "      <th>1000208</th>\n",
       "      <td>6040</td>\n",
       "      <td>1097</td>\n",
       "      <td>4</td>\n",
       "      <td>956715569</td>\n",
       "    </tr>\n",
       "  </tbody>\n",
       "</table>\n",
       "<p>836478 rows × 4 columns</p>\n",
       "</div>"
      ],
      "text/plain": [
       "         user_id  movie_id  counts  timestamp\n",
       "0              1      1193       5  978300760\n",
       "1              1       661       3  978302109\n",
       "2              1       914       3  978301968\n",
       "3              1      3408       4  978300275\n",
       "4              1      2355       5  978824291\n",
       "...          ...       ...     ...        ...\n",
       "1000203     6040      1090       3  956715518\n",
       "1000205     6040      1094       5  956704887\n",
       "1000206     6040       562       5  956704746\n",
       "1000207     6040      1096       4  956715648\n",
       "1000208     6040      1097       4  956715569\n",
       "\n",
       "[836478 rows x 4 columns]"
      ]
     },
     "execution_count": 4,
     "metadata": {},
     "output_type": "execute_result"
    }
   ],
   "source": [
    "# ratings 컬럼의 이름을 counts로 바꿉니다.\n",
    "ratings.rename(columns={'ratings':'counts'}, inplace=True)\n",
    "\n",
    "ratings"
   ]
  },
  {
   "cell_type": "code",
   "execution_count": 5,
   "metadata": {
    "canvas": {
     "comments": [],
     "componentType": "CodeCell",
     "copiedOriginId": null,
     "headerColor": "none",
     "id": "40b0d35d-4d2f-4e4d-b12a-bb6d66f14f48",
     "isComponent": false,
     "name": "",
     "parents": []
    },
    "colab": {
     "base_uri": "https://localhost:8080/",
     "height": 206
    },
    "id": "urqo7OxFN7Hc",
    "outputId": "249ce2e3-e765-4ea3-b1c6-eeb37b9dce8c"
   },
   "outputs": [
    {
     "data": {
      "text/html": [
       "<div>\n",
       "<style scoped>\n",
       "    .dataframe tbody tr th:only-of-type {\n",
       "        vertical-align: middle;\n",
       "    }\n",
       "\n",
       "    .dataframe tbody tr th {\n",
       "        vertical-align: top;\n",
       "    }\n",
       "\n",
       "    .dataframe thead th {\n",
       "        text-align: right;\n",
       "    }\n",
       "</style>\n",
       "<table border=\"1\" class=\"dataframe\">\n",
       "  <thead>\n",
       "    <tr style=\"text-align: right;\">\n",
       "      <th></th>\n",
       "      <th>movie_id</th>\n",
       "      <th>title</th>\n",
       "      <th>genre</th>\n",
       "    </tr>\n",
       "  </thead>\n",
       "  <tbody>\n",
       "    <tr>\n",
       "      <th>0</th>\n",
       "      <td>1</td>\n",
       "      <td>Toy Story (1995)</td>\n",
       "      <td>Animation|Children's|Comedy</td>\n",
       "    </tr>\n",
       "    <tr>\n",
       "      <th>1</th>\n",
       "      <td>2</td>\n",
       "      <td>Jumanji (1995)</td>\n",
       "      <td>Adventure|Children's|Fantasy</td>\n",
       "    </tr>\n",
       "    <tr>\n",
       "      <th>2</th>\n",
       "      <td>3</td>\n",
       "      <td>Grumpier Old Men (1995)</td>\n",
       "      <td>Comedy|Romance</td>\n",
       "    </tr>\n",
       "    <tr>\n",
       "      <th>3</th>\n",
       "      <td>4</td>\n",
       "      <td>Waiting to Exhale (1995)</td>\n",
       "      <td>Comedy|Drama</td>\n",
       "    </tr>\n",
       "    <tr>\n",
       "      <th>4</th>\n",
       "      <td>5</td>\n",
       "      <td>Father of the Bride Part II (1995)</td>\n",
       "      <td>Comedy</td>\n",
       "    </tr>\n",
       "  </tbody>\n",
       "</table>\n",
       "</div>"
      ],
      "text/plain": [
       "   movie_id                               title                         genre\n",
       "0         1                    Toy Story (1995)   Animation|Children's|Comedy\n",
       "1         2                      Jumanji (1995)  Adventure|Children's|Fantasy\n",
       "2         3             Grumpier Old Men (1995)                Comedy|Romance\n",
       "3         4            Waiting to Exhale (1995)                  Comedy|Drama\n",
       "4         5  Father of the Bride Part II (1995)                        Comedy"
      ]
     },
     "execution_count": 5,
     "metadata": {},
     "output_type": "execute_result"
    }
   ],
   "source": [
    "# 영화 제목을 보기 위해 메타 데이터를 읽어옵니다.\n",
    "# movie_file_path='/content/drive/MyDrive/aiffel/recommendata_iu/data/ml-1m/movies.dat'\n",
    "\n",
    "movie_file_path=os.getenv('HOME') + '/aiffel/recommendata_iu/data/ml-1m/movies.dat'\n",
    "cols = ['movie_id', 'title', 'genre'] \n",
    "movies = pd.read_csv(movie_file_path, sep='::', names=cols, engine='python', encoding='ISO-8859-1')\n",
    "movies.head()"
   ]
  },
  {
   "cell_type": "markdown",
   "metadata": {
    "canvas": {
     "comments": [],
     "componentType": "CodeCell",
     "copiedOriginId": null,
     "headerColor": "none",
     "id": "620ba2e4-9b80-4738-984b-4a3a12c541af",
     "isComponent": false,
     "name": "",
     "parents": []
    },
    "id": "VaCrAAIRbm7W"
   },
   "source": [
    "## STEP 2. 데이터 분석\n",
    "\n",
    "* ratings에 있는 유니크한 영화 개수\n",
    "* ratings에 있는 유니크한 사용자 수\n",
    "* 가장 인기 있는 영화 30개(인기순)"
   ]
  },
  {
   "cell_type": "code",
   "execution_count": 6,
   "metadata": {
    "canvas": {
     "comments": [],
     "componentType": "CodeCell",
     "copiedOriginId": null,
     "headerColor": "none",
     "id": "b8fe05b3-de4e-4f40-8dce-ae2e6c652788",
     "isComponent": false,
     "name": "",
     "parents": []
    },
    "colab": {
     "base_uri": "https://localhost:8080/"
    },
    "id": "0wIXkmJubnBP",
    "outputId": "e53d3ec1-d6b7-4d45-f325-2e4213e4ab34"
   },
   "outputs": [
    {
     "data": {
      "text/plain": [
       "3628"
      ]
     },
     "execution_count": 6,
     "metadata": {},
     "output_type": "execute_result"
    }
   ],
   "source": [
    "# ratings에 있는 유니크한 영화 개수\n",
    "ratings['movie_id'].nunique()"
   ]
  },
  {
   "cell_type": "code",
   "execution_count": 7,
   "metadata": {
    "canvas": {
     "comments": [],
     "componentType": "CodeCell",
     "copiedOriginId": null,
     "headerColor": "none",
     "id": "74d5608f-33a6-4a6d-8f41-13df3f95fcec",
     "isComponent": false,
     "name": "",
     "parents": []
    },
    "colab": {
     "base_uri": "https://localhost:8080/"
    },
    "id": "kMBxB6febnEh",
    "outputId": "e3fd96b3-572f-4b4b-cdc8-4c2e46f6c7bc"
   },
   "outputs": [
    {
     "data": {
      "text/plain": [
       "6039"
      ]
     },
     "execution_count": 7,
     "metadata": {},
     "output_type": "execute_result"
    }
   ],
   "source": [
    "# ratings에 있는 유니크한 사용자 수\n",
    "ratings['user_id'].nunique()"
   ]
  },
  {
   "cell_type": "code",
   "execution_count": 8,
   "metadata": {
    "canvas": {
     "comments": [],
     "componentType": "CodeCell",
     "copiedOriginId": null,
     "headerColor": "none",
     "id": "b1c7ccce-ca6d-46cb-9147-ff75ef3d10c6",
     "isComponent": false,
     "name": "",
     "parents": []
    },
    "colab": {
     "base_uri": "https://localhost:8080/"
    },
    "id": "Qx00Ge-FbnHn",
    "outputId": "b24a905b-9017-41e8-b2a4-5bc3545f46ff"
   },
   "outputs": [
    {
     "name": "stdout",
     "output_type": "stream",
     "text": [
      "American Beauty (1999) 3211\n",
      "Star Wars: Episode IV - A New Hope (1977) 2910\n",
      "Star Wars: Episode V - The Empire Strikes Back (1980) 2885\n",
      "Star Wars: Episode VI - Return of the Jedi (1983) 2716\n",
      "Saving Private Ryan (1998) 2561\n",
      "Terminator 2: Judgment Day (1991) 2509\n",
      "Silence of the Lambs, The (1991) 2498\n",
      "Raiders of the Lost Ark (1981) 2473\n",
      "Back to the Future (1985) 2460\n",
      "Matrix, The (1999) 2434\n",
      "Jurassic Park (1993) 2413\n",
      "Sixth Sense, The (1999) 2385\n",
      "Fargo (1996) 2371\n",
      "Braveheart (1995) 2314\n",
      "Men in Black (1997) 2297\n",
      "Schindler's List (1993) 2257\n",
      "Princess Bride, The (1987) 2252\n",
      "Shakespeare in Love (1998) 2213\n",
      "L.A. Confidential (1997) 2210\n",
      "Shawshank Redemption, The (1994) 2194\n",
      "Godfather, The (1972) 2167\n",
      "Groundhog Day (1993) 2121\n",
      "E.T. the Extra-Terrestrial (1982) 2102\n",
      "Being John Malkovich (1999) 2066\n",
      "Ghostbusters (1984) 2051\n",
      "Pulp Fiction (1994) 2030\n",
      "Forrest Gump (1994) 2022\n",
      "Terminator, The (1984) 2019\n",
      "Toy Story (1995) 2000\n",
      "Fugitive, The (1993) 1941\n"
     ]
    }
   ],
   "source": [
    "# 가장 인기 있는 영화 30개(인기순)\n",
    "movie_count = ratings.groupby('movie_id')['user_id'].count()\n",
    "movie_top30 = movie_count.sort_values(ascending=False).head(30)\n",
    "\n",
    "# 30개의 영화 누적 count수\n",
    "for i, k in zip(movie_top30.index, movie_top30.values):\n",
    "    print(movies[movies['movie_id']==i]['title'].values[0],k)"
   ]
  },
  {
   "cell_type": "markdown",
   "metadata": {
    "canvas": {
     "comments": [],
     "componentType": "CodeCell",
     "copiedOriginId": null,
     "headerColor": "none",
     "id": "87ee5365-f888-45c6-9ed6-c8b03694813f",
     "isComponent": false,
     "name": "",
     "parents": []
    },
    "id": "niLnghHNbnKD"
   },
   "source": [
    "## STEP 3. 선호 영화 ratings에 추가"
   ]
  },
  {
   "cell_type": "code",
   "execution_count": 9,
   "metadata": {
    "canvas": {
     "comments": [],
     "componentType": "CodeCell",
     "copiedOriginId": null,
     "headerColor": "none",
     "id": "2b120152-acad-4b86-b824-823038e456ee",
     "isComponent": false,
     "name": "",
     "parents": []
    },
    "colab": {
     "base_uri": "https://localhost:8080/",
     "height": 363
    },
    "id": "yHeM1x11bnNF",
    "outputId": "3c937fbb-3328-4689-fd65-7d81ea899706"
   },
   "outputs": [
    {
     "data": {
      "text/html": [
       "<div>\n",
       "<style scoped>\n",
       "    .dataframe tbody tr th:only-of-type {\n",
       "        vertical-align: middle;\n",
       "    }\n",
       "\n",
       "    .dataframe tbody tr th {\n",
       "        vertical-align: top;\n",
       "    }\n",
       "\n",
       "    .dataframe thead th {\n",
       "        text-align: right;\n",
       "    }\n",
       "</style>\n",
       "<table border=\"1\" class=\"dataframe\">\n",
       "  <thead>\n",
       "    <tr style=\"text-align: right;\">\n",
       "      <th></th>\n",
       "      <th>user_id</th>\n",
       "      <th>movie_id</th>\n",
       "      <th>counts</th>\n",
       "      <th>timestamp</th>\n",
       "    </tr>\n",
       "  </thead>\n",
       "  <tbody>\n",
       "    <tr>\n",
       "      <th>1000203</th>\n",
       "      <td>6040</td>\n",
       "      <td>1090</td>\n",
       "      <td>3</td>\n",
       "      <td>956715518.0</td>\n",
       "    </tr>\n",
       "    <tr>\n",
       "      <th>1000205</th>\n",
       "      <td>6040</td>\n",
       "      <td>1094</td>\n",
       "      <td>5</td>\n",
       "      <td>956704887.0</td>\n",
       "    </tr>\n",
       "    <tr>\n",
       "      <th>1000206</th>\n",
       "      <td>6040</td>\n",
       "      <td>562</td>\n",
       "      <td>5</td>\n",
       "      <td>956704746.0</td>\n",
       "    </tr>\n",
       "    <tr>\n",
       "      <th>1000207</th>\n",
       "      <td>6040</td>\n",
       "      <td>1096</td>\n",
       "      <td>4</td>\n",
       "      <td>956715648.0</td>\n",
       "    </tr>\n",
       "    <tr>\n",
       "      <th>1000208</th>\n",
       "      <td>6040</td>\n",
       "      <td>1097</td>\n",
       "      <td>4</td>\n",
       "      <td>956715569.0</td>\n",
       "    </tr>\n",
       "    <tr>\n",
       "      <th>0</th>\n",
       "      <td>6041</td>\n",
       "      <td>2396</td>\n",
       "      <td>5</td>\n",
       "      <td>NaN</td>\n",
       "    </tr>\n",
       "    <tr>\n",
       "      <th>1</th>\n",
       "      <td>6041</td>\n",
       "      <td>2028</td>\n",
       "      <td>5</td>\n",
       "      <td>NaN</td>\n",
       "    </tr>\n",
       "    <tr>\n",
       "      <th>2</th>\n",
       "      <td>6041</td>\n",
       "      <td>356</td>\n",
       "      <td>5</td>\n",
       "      <td>NaN</td>\n",
       "    </tr>\n",
       "    <tr>\n",
       "      <th>3</th>\n",
       "      <td>6041</td>\n",
       "      <td>480</td>\n",
       "      <td>5</td>\n",
       "      <td>NaN</td>\n",
       "    </tr>\n",
       "    <tr>\n",
       "      <th>4</th>\n",
       "      <td>6041</td>\n",
       "      <td>296</td>\n",
       "      <td>5</td>\n",
       "      <td>NaN</td>\n",
       "    </tr>\n",
       "  </tbody>\n",
       "</table>\n",
       "</div>"
      ],
      "text/plain": [
       "         user_id  movie_id  counts    timestamp\n",
       "1000203     6040      1090       3  956715518.0\n",
       "1000205     6040      1094       5  956704887.0\n",
       "1000206     6040       562       5  956704746.0\n",
       "1000207     6040      1096       4  956715648.0\n",
       "1000208     6040      1097       4  956715569.0\n",
       "0           6041      2396       5          NaN\n",
       "1           6041      2028       5          NaN\n",
       "2           6041       356       5          NaN\n",
       "3           6041       480       5          NaN\n",
       "4           6041       296       5          NaN"
      ]
     },
     "execution_count": 9,
     "metadata": {},
     "output_type": "execute_result"
    }
   ],
   "source": [
    "# 내가 좋아하는 영화. \n",
    "my_favorite_movies = ['Shakespeare in Love (1998)', 'Saving Private Ryan (1998)' ,'Forrest Gump (1994)', 'Jurassic Park (1993)', 'Pulp Fiction (1994)']\n",
    "my_favorite = [movies[movies['title'] == name]['movie_id'].values[0] for name in my_favorite_movies]\n",
    "\n",
    "# 내(sammy)가 위 영화를 5번씩 봤다고 가정\n",
    "sammy = max(ratings['user_id']) + 1\n",
    "my_playlist = pd.DataFrame({'user_id': [sammy]*5, 'movie_id': my_favorite, 'counts':[5]*5})\n",
    "\n",
    "if not ratings.isin({'user_id':[sammy]})['user_id'].any():  # user_id에 'sammy'이라는 데이터 없으면\n",
    "    ratings = ratings.append(my_playlist)                           # 위에 임의로 만든 my_favorite 데이터를 추가함. \n",
    "ratings.tail(10)       # 잘 추가되었는지 확인해 봅시다."
   ]
  },
  {
   "cell_type": "markdown",
   "metadata": {
    "canvas": {
     "comments": [],
     "componentType": "CodeCell",
     "copiedOriginId": null,
     "headerColor": "none",
     "id": "6c361145-e5fa-43a6-bc6f-f0d2c1027a11",
     "isComponent": false,
     "name": "",
     "parents": []
    },
    "id": "3AHB7lVVTPui"
   },
   "source": [
    "## STEP 4. CSR 만들기\n"
   ]
  },
  {
   "cell_type": "code",
   "execution_count": 10,
   "metadata": {
    "canvas": {
     "comments": [],
     "componentType": "CodeCell",
     "copiedOriginId": null,
     "headerColor": "none",
     "id": "424c86f3-3a20-4166-a66d-03bc8743c7df",
     "isComponent": false,
     "name": "",
     "parents": []
    },
    "colab": {
     "base_uri": "https://localhost:8080/"
    },
    "id": "bzmVX9ORVOrg",
    "outputId": "13b518c1-7592-44f5-8fc0-4672bb9548a9"
   },
   "outputs": [
    {
     "data": {
      "text/plain": [
       "<6042x3953 sparse matrix of type '<class 'numpy.int64'>'\n",
       "\twith 836483 stored elements in Compressed Sparse Row format>"
      ]
     },
     "execution_count": 10,
     "metadata": {},
     "output_type": "execute_result"
    }
   ],
   "source": [
    "# 실습 위에 설명보고 이해해서 CSR 만들어보기\n",
    "from scipy.sparse import csr_matrix\n",
    "\n",
    "num_user = ratings['user_id'].nunique()\n",
    "num_movie = ratings['movie_id'].nunique()\n",
    "csr_data = csr_matrix((ratings['counts'], (ratings.user_id, ratings.movie_id)))\n",
    "csr_data"
   ]
  },
  {
   "cell_type": "markdown",
   "metadata": {
    "canvas": {
     "comments": [],
     "componentType": "CodeCell",
     "copiedOriginId": null,
     "headerColor": "none",
     "id": "86336710-6412-4ed8-8074-47607a1bd945",
     "isComponent": false,
     "name": "",
     "parents": []
    },
    "id": "rkO-rPZjla8S"
   },
   "source": [
    "## STEP 5. 모델 구성 및 학습"
   ]
  },
  {
   "cell_type": "code",
   "execution_count": 11,
   "metadata": {
    "canvas": {
     "comments": [],
     "componentType": "CodeCell",
     "copiedOriginId": null,
     "headerColor": "none",
     "id": "dc0e7e43-ba74-436a-af7d-2347af64f4b0",
     "isComponent": false,
     "name": "",
     "parents": []
    },
    "id": "IZ5CzlSST0bk"
   },
   "outputs": [],
   "source": [
    "# implicit 라이브러리에서 권장하고 있는 부분입니다. 학습 내용과는 무관합니다.\n",
    "os.environ['OPENBLAS_NUM_THREADS']='1'\n",
    "os.environ['KMP_DUPLICATE_LIB_OK']='True'\n",
    "os.environ['MKL_NUM_THREADS']='1'\n",
    "\n",
    "# Implicit AlternatingLeastSquares 모델의 선언\n",
    "als_model = AlternatingLeastSquares(factors=100, regularization=0.01, use_gpu=False, iterations=15, dtype=np.float32)\n"
   ]
  },
  {
   "cell_type": "code",
   "execution_count": 12,
   "metadata": {
    "canvas": {
     "comments": [],
     "componentType": "CodeCell",
     "copiedOriginId": null,
     "headerColor": "none",
     "id": "fa83d7ad-f9dd-4884-baf9-ecdbf740d1dd",
     "isComponent": false,
     "name": "",
     "parents": []
    },
    "colab": {
     "base_uri": "https://localhost:8080/"
    },
    "id": "-u1znpahcaZS",
    "outputId": "e1631ae4-c309-49e8-b485-71890eb3aced"
   },
   "outputs": [
    {
     "data": {
      "text/plain": [
       "<3953x6042 sparse matrix of type '<class 'numpy.int64'>'\n",
       "\twith 836483 stored elements in Compressed Sparse Column format>"
      ]
     },
     "execution_count": 12,
     "metadata": {},
     "output_type": "execute_result"
    }
   ],
   "source": [
    "# als 모델은 input으로 (item X user 꼴의 matrix를 받기 때문에 Transpose해줍니다.)\n",
    "csr_data_transpose = csr_data.T\n",
    "csr_data_transpose"
   ]
  },
  {
   "cell_type": "code",
   "execution_count": 13,
   "metadata": {
    "canvas": {
     "comments": [],
     "componentType": "CodeCell",
     "copiedOriginId": null,
     "headerColor": "none",
     "id": "83a8561b-c9d5-4053-bdd8-1aea3368323b",
     "isComponent": false,
     "name": "",
     "parents": []
    },
    "colab": {
     "base_uri": "https://localhost:8080/"
    },
    "id": "3DXyRlXfxgAD",
    "outputId": "7b2a6d61-d8cf-46c7-8c4a-cfc0d83836cb"
   },
   "outputs": [
    {
     "data": {
      "text/plain": [
       "(3953, 6042)"
      ]
     },
     "execution_count": 13,
     "metadata": {},
     "output_type": "execute_result"
    }
   ],
   "source": [
    "csr_data_transpose.shape"
   ]
  },
  {
   "cell_type": "code",
   "execution_count": 14,
   "metadata": {
    "canvas": {
     "comments": [],
     "componentType": "CodeCell",
     "copiedOriginId": null,
     "headerColor": "none",
     "id": "47614ae6-1d71-417d-97cb-335f961115da",
     "isComponent": false,
     "name": "",
     "parents": []
    },
    "colab": {
     "base_uri": "https://localhost:8080/",
     "height": 49,
     "referenced_widgets": [
      "73515214d9d94eb78560a4179fb55c7d",
      "d4e2306c51264e5ba3569cac2478bf0b",
      "8737f57c87a8484cbfef573870243650",
      "48604dedad85480482e26a66a6df1cc5",
      "9ad9271fe310415bb84181e37c46d8f6",
      "ecb3320db410493cb53eb6537aa7ea37",
      "79a50dc3c06e474aaf166d8a58cce9a4",
      "a5025b5d59244dc78c07d1868302846d",
      "80c8b7decc0042c6b00917767f63a6e8",
      "a08e6d1ad2cd428db43b55a2188c5b0a",
      "3977c1dffd1d424e9ae14d2da77e3775"
     ]
    },
    "id": "QzS9mDMwT21j",
    "outputId": "8365a99b-2c9d-48ae-e3b0-f0a69fd155e7"
   },
   "outputs": [
    {
     "data": {
      "application/vnd.jupyter.widget-view+json": {
       "model_id": "b67cc91324dd45bda980c4fea5749c99",
       "version_major": 2,
       "version_minor": 0
      },
      "text/plain": [
       "  0%|          | 0/15 [00:00<?, ?it/s]"
      ]
     },
     "metadata": {},
     "output_type": "display_data"
    }
   ],
   "source": [
    "# 모델 훈련\n",
    "als_model.fit(csr_data_transpose)"
   ]
  },
  {
   "cell_type": "markdown",
   "metadata": {
    "canvas": {
     "comments": [],
     "componentType": "CodeCell",
     "copiedOriginId": null,
     "headerColor": "none",
     "id": "76d6e932-1d9e-445e-aae1-a9d421d8320d",
     "isComponent": false,
     "name": "",
     "parents": []
    },
    "id": "Yg6v2YvDhk9v"
   },
   "source": [
    "## STEP 6. 모델이 예측한 나의 선호도 파악"
   ]
  },
  {
   "cell_type": "code",
   "execution_count": 15,
   "metadata": {
    "canvas": {
     "comments": [],
     "componentType": "CodeCell",
     "copiedOriginId": null,
     "headerColor": "none",
     "id": "6d5e9479-8647-4ead-8180-f8e948242201",
     "isComponent": false,
     "name": "",
     "parents": []
    },
    "id": "tFoWF1Z4T25S"
   },
   "outputs": [],
   "source": [
    "# 영화의 이름을 movie id로 바꿔주는 함수\n",
    "def movie_name_to_id(name):\n",
    "    return movies[movies['title']==name]['movie_id'].values[0]"
   ]
  },
  {
   "cell_type": "code",
   "execution_count": 16,
   "metadata": {
    "canvas": {
     "comments": [],
     "componentType": "CodeCell",
     "copiedOriginId": null,
     "headerColor": "none",
     "id": "af37520c-4240-43d7-b2be-04ce4d51c79d",
     "isComponent": false,
     "name": "",
     "parents": []
    },
    "id": "nHolm9gUT28x"
   },
   "outputs": [],
   "source": [
    "my_vector, favorite_movie_vector = als_model.user_factors[6041], als_model.item_factors[movie_name_to_id('Forrest Gump (1994)')]"
   ]
  },
  {
   "cell_type": "code",
   "execution_count": 17,
   "metadata": {
    "canvas": {
     "comments": [],
     "componentType": "CodeCell",
     "copiedOriginId": null,
     "headerColor": "none",
     "id": "a017c7c0-447a-4677-8205-35a4eac0d4f9",
     "isComponent": false,
     "name": "",
     "parents": []
    },
    "colab": {
     "base_uri": "https://localhost:8080/"
    },
    "id": "g863ZMQhT3AV",
    "outputId": "a1558834-04d1-4c7c-9ce0-6dc5368154c0"
   },
   "outputs": [
    {
     "data": {
      "text/plain": [
       "array([ 0.1623443 , -0.07401556,  0.8240018 , -0.6871601 , -0.04592803,\n",
       "        0.3423583 ,  0.2267575 ,  0.64966327,  0.18826693, -0.17605864,\n",
       "       -0.41462815,  1.1102207 , -0.4886768 ,  0.23516387,  1.1871564 ,\n",
       "       -0.28246757, -0.8502416 , -0.05152407, -0.33376202, -0.20172164,\n",
       "       -0.50900745,  0.06268447, -0.5305398 , -0.12482007,  0.23337884,\n",
       "       -0.29522663, -0.87237966, -0.4872223 ,  0.72182083,  0.2568479 ,\n",
       "       -0.6855538 ,  0.49680376, -0.35669345,  1.1372882 , -0.40675902,\n",
       "        0.5444049 ,  0.38243684,  0.5493091 ,  0.6741336 , -0.6564884 ,\n",
       "       -1.0132062 , -0.05601373,  0.17710997,  0.40218547, -0.30773413,\n",
       "       -0.14729759,  0.18626754, -0.03466138,  0.74686956,  0.21454585,\n",
       "       -0.18021126,  0.2709526 , -0.2704668 , -0.30240917, -0.09221961,\n",
       "        0.31588495,  0.58604914, -0.51854223, -0.1308269 ,  0.19419686,\n",
       "        0.7710362 , -0.46195918, -0.34056166, -0.32727638, -0.24556333,\n",
       "       -0.97880894, -0.07605082, -0.08660269,  0.36677867,  0.1704441 ,\n",
       "        0.1461808 ,  0.36932328,  0.16698162,  0.03934586,  0.81888485,\n",
       "        0.32107067,  0.90723145,  0.5280284 ,  0.1659424 , -0.11225158,\n",
       "       -1.2024987 , -0.26437938,  0.04040562,  0.12782517, -0.3354502 ,\n",
       "       -0.24741916, -0.37396622, -0.87858045,  0.06726395,  0.72675204,\n",
       "       -0.6727264 ,  0.63112724,  0.7903252 ,  0.530507  , -0.0157769 ,\n",
       "       -0.14531806, -0.81480396, -0.50615644, -0.1344248 ,  0.5840478 ],\n",
       "      dtype=float32)"
      ]
     },
     "execution_count": 17,
     "metadata": {},
     "output_type": "execute_result"
    }
   ],
   "source": [
    "my_vector"
   ]
  },
  {
   "cell_type": "code",
   "execution_count": 18,
   "metadata": {
    "canvas": {
     "comments": [],
     "componentType": "CodeCell",
     "copiedOriginId": null,
     "headerColor": "none",
     "id": "773de3c0-263b-4618-ab61-afa57d0872b2",
     "isComponent": false,
     "name": "",
     "parents": []
    },
    "colab": {
     "base_uri": "https://localhost:8080/"
    },
    "id": "Y0wiYY6PiH7M",
    "outputId": "568ad185-fcb8-439b-eb2b-6375e88e9095"
   },
   "outputs": [
    {
     "data": {
      "text/plain": [
       "array([ 0.00117883,  0.00045915,  0.01572439, -0.0002318 ,  0.01184276,\n",
       "        0.00932063,  0.02768881,  0.03932397,  0.00316039,  0.00316417,\n",
       "       -0.02987609,  0.01443362, -0.01685936,  0.02382503,  0.03943511,\n",
       "        0.01873153, -0.02215546, -0.00220382, -0.02546836,  0.00996889,\n",
       "       -0.00580163,  0.03431116,  0.03956668, -0.00253962, -0.0032042 ,\n",
       "        0.02800803, -0.03829354, -0.00887888,  0.01999032, -0.00946937,\n",
       "       -0.01039126, -0.00522293, -0.02566945,  0.06808751,  0.01257515,\n",
       "        0.01822375,  0.01788115,  0.01862646,  0.03102417, -0.02919525,\n",
       "       -0.02346634,  0.0216224 ,  0.00693724,  0.04644457,  0.01714611,\n",
       "       -0.02775792, -0.01151172, -0.00895393,  0.02374102, -0.00126695,\n",
       "        0.03012776, -0.00279449,  0.00095082,  0.00720371,  0.01217381,\n",
       "        0.00106349, -0.0004722 ,  0.00834859, -0.02600373,  0.0354967 ,\n",
       "        0.01107146, -0.00199127,  0.01352325, -0.01730545, -0.01507779,\n",
       "       -0.01938126,  0.01094178,  0.02289118,  0.02396724,  0.01610298,\n",
       "        0.00685632, -0.00893527,  0.02858435,  0.01693416,  0.00829249,\n",
       "        0.05972798, -0.00928915,  0.02390239, -0.02172349, -0.01938854,\n",
       "       -0.02340195,  0.00305627,  0.02006856,  0.01683127, -0.00710675,\n",
       "       -0.01814881, -0.01073117, -0.01185736, -0.00768408,  0.02503764,\n",
       "        0.00614556,  0.00765025,  0.03036846,  0.01669322, -0.01687565,\n",
       "        0.0069145 , -0.01173167, -0.00147029, -0.01323558,  0.01125103],\n",
       "      dtype=float32)"
      ]
     },
     "execution_count": 18,
     "metadata": {},
     "output_type": "execute_result"
    }
   ],
   "source": [
    "# 내가 선호하는 영화의 vector\n",
    "favorite_movie_vector"
   ]
  },
  {
   "cell_type": "code",
   "execution_count": 19,
   "metadata": {
    "canvas": {
     "comments": [],
     "componentType": "CodeCell",
     "copiedOriginId": null,
     "headerColor": "none",
     "id": "c3396155-f80d-4feb-9648-6864fdb2a915",
     "isComponent": false,
     "name": "",
     "parents": []
    },
    "id": "JBshGqIoibVk"
   },
   "outputs": [],
   "source": [
    "# 영화 이름을 넣으면 추천정도를 알려주는 함수\n",
    "def score_movie(movie_name):\n",
    "    my_vector, movie_vector = als_model.user_factors[6041], als_model.item_factors[movie_name_to_id(movie_name)]\n",
    "    return np.dot(my_vector, movie_vector)"
   ]
  },
  {
   "cell_type": "code",
   "execution_count": 20,
   "metadata": {
    "canvas": {
     "comments": [],
     "componentType": "CodeCell",
     "copiedOriginId": null,
     "headerColor": "none",
     "id": "0015a913-20b1-4f9e-b5dd-ae256d1953bb",
     "isComponent": false,
     "name": "",
     "parents": []
    },
    "colab": {
     "base_uri": "https://localhost:8080/"
    },
    "id": "x4x-Uxc-ija1",
    "outputId": "e033c2ad-986c-4101-c352-dd801ecebd5f"
   },
   "outputs": [
    {
     "name": "stdout",
     "output_type": "stream",
     "text": [
      "American Beauty (1999)  : 0.5725535\n",
      "Star Wars: Episode IV - A New Hope (1977)  : 0.20161559\n",
      "Star Wars: Episode V - The Empire Strikes Back (1980)  : 0.19414464\n",
      "Star Wars: Episode VI - Return of the Jedi (1983)  : 0.31211582\n",
      "Saving Private Ryan (1998)  : 0.64457166\n",
      "Terminator 2: Judgment Day (1991)  : 0.3510162\n",
      "Silence of the Lambs, The (1991)  : 0.41825268\n",
      "Raiders of the Lost Ark (1981)  : 0.09789445\n",
      "Back to the Future (1985)  : 0.16998282\n",
      "Matrix, The (1999)  : 0.28748482\n",
      "Jurassic Park (1993)  : 0.4832255\n",
      "Sixth Sense, The (1999)  : 0.31981602\n",
      "Fargo (1996)  : 0.40934247\n",
      "Braveheart (1995)  : 0.51483834\n",
      "Men in Black (1997)  : 0.35479596\n",
      "Schindler's List (1993)  : 0.5304626\n",
      "Princess Bride, The (1987)  : 0.099569336\n",
      "Shakespeare in Love (1998)  : 0.4842227\n",
      "L.A. Confidential (1997)  : 0.29624772\n",
      "Shawshank Redemption, The (1994)  : 0.41647035\n",
      "Godfather, The (1972)  : 0.068565644\n",
      "Groundhog Day (1993)  : 0.39360207\n",
      "E.T. the Extra-Terrestrial (1982)  : 0.19025218\n",
      "Being John Malkovich (1999)  : 0.24599582\n",
      "Ghostbusters (1984)  : 0.13264504\n",
      "Pulp Fiction (1994)  : 0.37304297\n",
      "Forrest Gump (1994)  : 0.5829425\n",
      "Terminator, The (1984)  : 0.0051069935\n",
      "Toy Story (1995)  : 0.24372476\n",
      "Fugitive, The (1993)  : 0.22915219\n"
     ]
    }
   ],
   "source": [
    "for i in movie_top30.index:\n",
    "    tmp = movies[movies['movie_id']==i]['title'].values[0]\n",
    "    print(tmp,\" :\",  score_movie(tmp))"
   ]
  },
  {
   "cell_type": "markdown",
   "metadata": {
    "canvas": {
     "comments": [],
     "componentType": "CodeCell",
     "copiedOriginId": null,
     "headerColor": "none",
     "id": "429afbe7-0584-4783-a454-1c45dd94833e",
     "isComponent": false,
     "name": "",
     "parents": []
    },
    "id": "855gAP_BimE4"
   },
   "source": [
    "### STEP 7. 선호 영화와 비슷한 영화 추천."
   ]
  },
  {
   "cell_type": "code",
   "execution_count": 21,
   "metadata": {
    "canvas": {
     "comments": [],
     "componentType": "CodeCell",
     "copiedOriginId": null,
     "headerColor": "none",
     "id": "756c0c01-b44c-472c-be02-3f3fcc3294ee",
     "isComponent": false,
     "name": "",
     "parents": []
    },
    "colab": {
     "base_uri": "https://localhost:8080/"
    },
    "id": "NhcF82RbipA8",
    "outputId": "2ae0c03c-0a98-4aab-b23b-e2f295f86d0c"
   },
   "outputs": [
    {
     "data": {
      "text/plain": [
       "[(110, 0.99999994),\n",
       " (2028, 0.6156363),\n",
       " (589, 0.45457485),\n",
       " (480, 0.42287278),\n",
       " (527, 0.37709224),\n",
       " (1580, 0.34008333),\n",
       " (1610, 0.33923015),\n",
       " (1233, 0.3315871),\n",
       " (989, 0.33058628),\n",
       " (2858, 0.3092162),\n",
       " (1408, 0.30691686),\n",
       " (1259, 0.30197212),\n",
       " (266, 0.3011503),\n",
       " (3753, 0.30077717),\n",
       " (318, 0.29726377)]"
      ]
     },
     "execution_count": 21,
     "metadata": {},
     "output_type": "execute_result"
    }
   ],
   "source": [
    "# GodFarther와 비슷한 영화 추천\n",
    "favorite_movie = 'Braveheart (1995)'\n",
    "movie_id = movie_name_to_id(favorite_movie)\n",
    "similar_movie = als_model.similar_items(movie_id, N=15)\n",
    "similar_movie"
   ]
  },
  {
   "cell_type": "code",
   "execution_count": 22,
   "metadata": {
    "canvas": {
     "comments": [],
     "componentType": "CodeCell",
     "copiedOriginId": null,
     "headerColor": "none",
     "id": "4c3796da-de29-4da6-86b4-a64d22f6e22b",
     "isComponent": false,
     "name": "",
     "parents": []
    },
    "colab": {
     "base_uri": "https://localhost:8080/",
     "height": 184
    },
    "id": "JUSZ49NKipFb",
    "outputId": "0583a169-be34-4f24-f637-a00336d59f01"
   },
   "outputs": [
    {
     "name": "stdout",
     "output_type": "stream",
     "text": [
      "Braveheart (1995)  : 0.99999994\n",
      "Saving Private Ryan (1998)  : 0.6156363\n",
      "Terminator 2: Judgment Day (1991)  : 0.45457485\n",
      "Jurassic Park (1993)  : 0.42287278\n",
      "Schindler's List (1993)  : 0.37709224\n",
      "Men in Black (1997)  : 0.34008333\n",
      "Hunt for Red October, The (1990)  : 0.33923015\n",
      "Boat, The (Das Boot) (1981)  : 0.3315871\n",
      "Schlafes Bruder (Brother of Sleep) (1995)  : 0.33058628\n",
      "American Beauty (1999)  : 0.3092162\n",
      "Last of the Mohicans, The (1992)  : 0.30691686\n",
      "Stand by Me (1986)  : 0.30197212\n",
      "Legends of the Fall (1994)  : 0.3011503\n",
      "Patriot, The (2000)  : 0.30077717\n",
      "Shawshank Redemption, The (1994)  : 0.29726377\n"
     ]
    }
   ],
   "source": [
    "for i, k in similar_movie:\n",
    "    print(movies[movies['movie_id']==i]['title'].values[0],' :', k)"
   ]
  },
  {
   "cell_type": "code",
   "execution_count": 23,
   "metadata": {
    "canvas": {
     "comments": [],
     "componentType": "CodeCell",
     "copiedOriginId": null,
     "headerColor": "none",
     "id": "0249b2cc-acac-4d8c-9279-6c7ad06d03fc",
     "isComponent": false,
     "name": "",
     "parents": []
    },
    "id": "6NZvck3zipJI"
   },
   "outputs": [
    {
     "data": {
      "text/html": [
       "<div>\n",
       "<style scoped>\n",
       "    .dataframe tbody tr th:only-of-type {\n",
       "        vertical-align: middle;\n",
       "    }\n",
       "\n",
       "    .dataframe tbody tr th {\n",
       "        vertical-align: top;\n",
       "    }\n",
       "\n",
       "    .dataframe thead th {\n",
       "        text-align: right;\n",
       "    }\n",
       "</style>\n",
       "<table border=\"1\" class=\"dataframe\">\n",
       "  <thead>\n",
       "    <tr style=\"text-align: right;\">\n",
       "      <th></th>\n",
       "      <th>title</th>\n",
       "      <th>genre</th>\n",
       "    </tr>\n",
       "  </thead>\n",
       "  <tbody>\n",
       "    <tr>\n",
       "      <th>108</th>\n",
       "      <td>Braveheart (1995)</td>\n",
       "      <td>Action|Drama|War</td>\n",
       "    </tr>\n",
       "    <tr>\n",
       "      <th>263</th>\n",
       "      <td>Legends of the Fall (1994)</td>\n",
       "      <td>Drama|Romance|War|Western</td>\n",
       "    </tr>\n",
       "    <tr>\n",
       "      <th>315</th>\n",
       "      <td>Shawshank Redemption, The (1994)</td>\n",
       "      <td>Drama</td>\n",
       "    </tr>\n",
       "    <tr>\n",
       "      <th>476</th>\n",
       "      <td>Jurassic Park (1993)</td>\n",
       "      <td>Action|Adventure|Sci-Fi</td>\n",
       "    </tr>\n",
       "    <tr>\n",
       "      <th>523</th>\n",
       "      <td>Schindler's List (1993)</td>\n",
       "      <td>Drama|War</td>\n",
       "    </tr>\n",
       "    <tr>\n",
       "      <th>585</th>\n",
       "      <td>Terminator 2: Judgment Day (1991)</td>\n",
       "      <td>Action|Sci-Fi|Thriller</td>\n",
       "    </tr>\n",
       "    <tr>\n",
       "      <th>977</th>\n",
       "      <td>Schlafes Bruder (Brother of Sleep) (1995)</td>\n",
       "      <td>Drama</td>\n",
       "    </tr>\n",
       "    <tr>\n",
       "      <th>1214</th>\n",
       "      <td>Boat, The (Das Boot) (1981)</td>\n",
       "      <td>Action|Drama|War</td>\n",
       "    </tr>\n",
       "    <tr>\n",
       "      <th>1239</th>\n",
       "      <td>Stand by Me (1986)</td>\n",
       "      <td>Adventure|Comedy|Drama</td>\n",
       "    </tr>\n",
       "    <tr>\n",
       "      <th>1385</th>\n",
       "      <td>Last of the Mohicans, The (1992)</td>\n",
       "      <td>Action|Romance|War</td>\n",
       "    </tr>\n",
       "    <tr>\n",
       "      <th>1539</th>\n",
       "      <td>Men in Black (1997)</td>\n",
       "      <td>Action|Adventure|Comedy|Sci-Fi</td>\n",
       "    </tr>\n",
       "    <tr>\n",
       "      <th>1568</th>\n",
       "      <td>Hunt for Red October, The (1990)</td>\n",
       "      <td>Action|Thriller</td>\n",
       "    </tr>\n",
       "    <tr>\n",
       "      <th>1959</th>\n",
       "      <td>Saving Private Ryan (1998)</td>\n",
       "      <td>Action|Drama|War</td>\n",
       "    </tr>\n",
       "    <tr>\n",
       "      <th>2789</th>\n",
       "      <td>American Beauty (1999)</td>\n",
       "      <td>Comedy|Drama</td>\n",
       "    </tr>\n",
       "    <tr>\n",
       "      <th>3684</th>\n",
       "      <td>Patriot, The (2000)</td>\n",
       "      <td>Action|Drama|War</td>\n",
       "    </tr>\n",
       "  </tbody>\n",
       "</table>\n",
       "</div>"
      ],
      "text/plain": [
       "                                          title  \\\n",
       "108                           Braveheart (1995)   \n",
       "263                  Legends of the Fall (1994)   \n",
       "315            Shawshank Redemption, The (1994)   \n",
       "476                        Jurassic Park (1993)   \n",
       "523                     Schindler's List (1993)   \n",
       "585           Terminator 2: Judgment Day (1991)   \n",
       "977   Schlafes Bruder (Brother of Sleep) (1995)   \n",
       "1214                Boat, The (Das Boot) (1981)   \n",
       "1239                         Stand by Me (1986)   \n",
       "1385           Last of the Mohicans, The (1992)   \n",
       "1539                        Men in Black (1997)   \n",
       "1568           Hunt for Red October, The (1990)   \n",
       "1959                 Saving Private Ryan (1998)   \n",
       "2789                     American Beauty (1999)   \n",
       "3684                        Patriot, The (2000)   \n",
       "\n",
       "                               genre  \n",
       "108                 Action|Drama|War  \n",
       "263        Drama|Romance|War|Western  \n",
       "315                            Drama  \n",
       "476          Action|Adventure|Sci-Fi  \n",
       "523                        Drama|War  \n",
       "585           Action|Sci-Fi|Thriller  \n",
       "977                            Drama  \n",
       "1214                Action|Drama|War  \n",
       "1239          Adventure|Comedy|Drama  \n",
       "1385              Action|Romance|War  \n",
       "1539  Action|Adventure|Comedy|Sci-Fi  \n",
       "1568                 Action|Thriller  \n",
       "1959                Action|Drama|War  \n",
       "2789                    Comedy|Drama  \n",
       "3684                Action|Drama|War  "
      ]
     },
     "execution_count": 23,
     "metadata": {},
     "output_type": "execute_result"
    }
   ],
   "source": [
    "movies[movies['movie_id'].isin([s[0] for s in similar_movie])][['title','genre']]"
   ]
  },
  {
   "cell_type": "markdown",
   "metadata": {
    "canvas": {
     "comments": [],
     "componentType": "CodeCell",
     "copiedOriginId": null,
     "headerColor": "none",
     "id": "5b5f7d39-a835-4737-8d90-1c9f90fe5239",
     "isComponent": false,
     "name": "",
     "parents": []
    },
    "id": "TEnwD4pKipMy"
   },
   "source": [
    "## STEP 8. 내가 좋아할 영화들 추천"
   ]
  },
  {
   "cell_type": "code",
   "execution_count": 24,
   "metadata": {
    "canvas": {
     "comments": [],
     "componentType": "CodeCell",
     "copiedOriginId": null,
     "headerColor": "none",
     "id": "6e0e1cf6-e5a9-4968-b3bd-b5cf6ff9d74e",
     "isComponent": false,
     "name": "",
     "parents": []
    },
    "id": "8j0KC3i-jEbL"
   },
   "outputs": [
    {
     "data": {
      "text/plain": [
       "[(2858, 0.5725536),\n",
       " (527, 0.5304626),\n",
       " (110, 0.51483834),\n",
       " (593, 0.41825268),\n",
       " (318, 0.41647035),\n",
       " (608, 0.40934247),\n",
       " (1265, 0.393602),\n",
       " (1580, 0.35479593),\n",
       " (589, 0.35101616),\n",
       " (2762, 0.31981602),\n",
       " (1210, 0.31211585),\n",
       " (1617, 0.29624775),\n",
       " (2571, 0.28748482),\n",
       " (1233, 0.2856917),\n",
       " (1213, 0.26914805),\n",
       " (1704, 0.26002482),\n",
       " (2997, 0.24599585),\n",
       " (2628, 0.24523069),\n",
       " (1, 0.24372476),\n",
       " (1721, 0.23824495)]"
      ]
     },
     "execution_count": 24,
     "metadata": {},
     "output_type": "execute_result"
    }
   ],
   "source": [
    "# user 6041(hong)이 좋아할만한 영화를 추천\n",
    "user = 6041\n",
    "movie_recommended = als_model.recommend(user, csr_data, N=20, filter_already_liked_items=True)\n",
    "movie_recommended"
   ]
  },
  {
   "cell_type": "code",
   "execution_count": 25,
   "metadata": {
    "canvas": {
     "comments": [],
     "componentType": "CodeCell",
     "copiedOriginId": null,
     "headerColor": "none",
     "id": "6e400960-2d8a-4b86-8396-8a323cc02bb8",
     "isComponent": false,
     "name": "",
     "parents": []
    },
    "id": "ZZLbGRqgjEeu"
   },
   "outputs": [
    {
     "name": "stdout",
     "output_type": "stream",
     "text": [
      "American Beauty (1999)  : 0.5725536\n",
      "Schindler's List (1993)  : 0.5304626\n",
      "Braveheart (1995)  : 0.51483834\n",
      "Silence of the Lambs, The (1991)  : 0.41825268\n",
      "Shawshank Redemption, The (1994)  : 0.41647035\n",
      "Fargo (1996)  : 0.40934247\n",
      "Groundhog Day (1993)  : 0.393602\n",
      "Men in Black (1997)  : 0.35479593\n",
      "Terminator 2: Judgment Day (1991)  : 0.35101616\n",
      "Sixth Sense, The (1999)  : 0.31981602\n",
      "Star Wars: Episode VI - Return of the Jedi (1983)  : 0.31211585\n",
      "L.A. Confidential (1997)  : 0.29624775\n",
      "Matrix, The (1999)  : 0.28748482\n",
      "Boat, The (Das Boot) (1981)  : 0.2856917\n",
      "GoodFellas (1990)  : 0.26914805\n",
      "Good Will Hunting (1997)  : 0.26002482\n",
      "Being John Malkovich (1999)  : 0.24599585\n",
      "Star Wars: Episode I - The Phantom Menace (1999)  : 0.24523069\n",
      "Toy Story (1995)  : 0.24372476\n",
      "Titanic (1997)  : 0.23824495\n"
     ]
    }
   ],
   "source": [
    "# 좋아할만한 영화와 수치 장르 확인\n",
    "for i, k in movie_recommended:\n",
    "    print(movies[movies['movie_id']==i]['title'].values[0],' :',k)"
   ]
  },
  {
   "cell_type": "code",
   "execution_count": 26,
   "metadata": {
    "canvas": {
     "comments": [],
     "componentType": "CodeCell",
     "copiedOriginId": null,
     "headerColor": "none",
     "id": "185e6fb7-9184-4e2c-a9a4-6c6df8b40034",
     "isComponent": false,
     "name": "",
     "parents": []
    },
    "id": "n9wPo1WyjEh_",
    "scrolled": true
   },
   "outputs": [
    {
     "data": {
      "text/html": [
       "<div>\n",
       "<style scoped>\n",
       "    .dataframe tbody tr th:only-of-type {\n",
       "        vertical-align: middle;\n",
       "    }\n",
       "\n",
       "    .dataframe tbody tr th {\n",
       "        vertical-align: top;\n",
       "    }\n",
       "\n",
       "    .dataframe thead th {\n",
       "        text-align: right;\n",
       "    }\n",
       "</style>\n",
       "<table border=\"1\" class=\"dataframe\">\n",
       "  <thead>\n",
       "    <tr style=\"text-align: right;\">\n",
       "      <th></th>\n",
       "      <th>title</th>\n",
       "      <th>genre</th>\n",
       "    </tr>\n",
       "  </thead>\n",
       "  <tbody>\n",
       "    <tr>\n",
       "      <th>0</th>\n",
       "      <td>Toy Story (1995)</td>\n",
       "      <td>Animation|Children's|Comedy</td>\n",
       "    </tr>\n",
       "    <tr>\n",
       "      <th>108</th>\n",
       "      <td>Braveheart (1995)</td>\n",
       "      <td>Action|Drama|War</td>\n",
       "    </tr>\n",
       "    <tr>\n",
       "      <th>315</th>\n",
       "      <td>Shawshank Redemption, The (1994)</td>\n",
       "      <td>Drama</td>\n",
       "    </tr>\n",
       "    <tr>\n",
       "      <th>523</th>\n",
       "      <td>Schindler's List (1993)</td>\n",
       "      <td>Drama|War</td>\n",
       "    </tr>\n",
       "    <tr>\n",
       "      <th>585</th>\n",
       "      <td>Terminator 2: Judgment Day (1991)</td>\n",
       "      <td>Action|Sci-Fi|Thriller</td>\n",
       "    </tr>\n",
       "    <tr>\n",
       "      <th>589</th>\n",
       "      <td>Silence of the Lambs, The (1991)</td>\n",
       "      <td>Drama|Thriller</td>\n",
       "    </tr>\n",
       "    <tr>\n",
       "      <th>604</th>\n",
       "      <td>Fargo (1996)</td>\n",
       "      <td>Crime|Drama|Thriller</td>\n",
       "    </tr>\n",
       "    <tr>\n",
       "      <th>1192</th>\n",
       "      <td>Star Wars: Episode VI - Return of the Jedi (1983)</td>\n",
       "      <td>Action|Adventure|Romance|Sci-Fi|War</td>\n",
       "    </tr>\n",
       "    <tr>\n",
       "      <th>1195</th>\n",
       "      <td>GoodFellas (1990)</td>\n",
       "      <td>Crime|Drama</td>\n",
       "    </tr>\n",
       "    <tr>\n",
       "      <th>1214</th>\n",
       "      <td>Boat, The (Das Boot) (1981)</td>\n",
       "      <td>Action|Drama|War</td>\n",
       "    </tr>\n",
       "    <tr>\n",
       "      <th>1245</th>\n",
       "      <td>Groundhog Day (1993)</td>\n",
       "      <td>Comedy|Romance</td>\n",
       "    </tr>\n",
       "    <tr>\n",
       "      <th>1539</th>\n",
       "      <td>Men in Black (1997)</td>\n",
       "      <td>Action|Adventure|Comedy|Sci-Fi</td>\n",
       "    </tr>\n",
       "    <tr>\n",
       "      <th>1575</th>\n",
       "      <td>L.A. Confidential (1997)</td>\n",
       "      <td>Crime|Film-Noir|Mystery|Thriller</td>\n",
       "    </tr>\n",
       "    <tr>\n",
       "      <th>1656</th>\n",
       "      <td>Good Will Hunting (1997)</td>\n",
       "      <td>Drama</td>\n",
       "    </tr>\n",
       "    <tr>\n",
       "      <th>1672</th>\n",
       "      <td>Titanic (1997)</td>\n",
       "      <td>Drama|Romance</td>\n",
       "    </tr>\n",
       "    <tr>\n",
       "      <th>2502</th>\n",
       "      <td>Matrix, The (1999)</td>\n",
       "      <td>Action|Sci-Fi|Thriller</td>\n",
       "    </tr>\n",
       "    <tr>\n",
       "      <th>2559</th>\n",
       "      <td>Star Wars: Episode I - The Phantom Menace (1999)</td>\n",
       "      <td>Action|Adventure|Fantasy|Sci-Fi</td>\n",
       "    </tr>\n",
       "    <tr>\n",
       "      <th>2693</th>\n",
       "      <td>Sixth Sense, The (1999)</td>\n",
       "      <td>Thriller</td>\n",
       "    </tr>\n",
       "    <tr>\n",
       "      <th>2789</th>\n",
       "      <td>American Beauty (1999)</td>\n",
       "      <td>Comedy|Drama</td>\n",
       "    </tr>\n",
       "    <tr>\n",
       "      <th>2928</th>\n",
       "      <td>Being John Malkovich (1999)</td>\n",
       "      <td>Comedy</td>\n",
       "    </tr>\n",
       "  </tbody>\n",
       "</table>\n",
       "</div>"
      ],
      "text/plain": [
       "                                                  title  \\\n",
       "0                                      Toy Story (1995)   \n",
       "108                                   Braveheart (1995)   \n",
       "315                    Shawshank Redemption, The (1994)   \n",
       "523                             Schindler's List (1993)   \n",
       "585                   Terminator 2: Judgment Day (1991)   \n",
       "589                    Silence of the Lambs, The (1991)   \n",
       "604                                        Fargo (1996)   \n",
       "1192  Star Wars: Episode VI - Return of the Jedi (1983)   \n",
       "1195                                  GoodFellas (1990)   \n",
       "1214                        Boat, The (Das Boot) (1981)   \n",
       "1245                               Groundhog Day (1993)   \n",
       "1539                                Men in Black (1997)   \n",
       "1575                           L.A. Confidential (1997)   \n",
       "1656                           Good Will Hunting (1997)   \n",
       "1672                                     Titanic (1997)   \n",
       "2502                                 Matrix, The (1999)   \n",
       "2559   Star Wars: Episode I - The Phantom Menace (1999)   \n",
       "2693                            Sixth Sense, The (1999)   \n",
       "2789                             American Beauty (1999)   \n",
       "2928                        Being John Malkovich (1999)   \n",
       "\n",
       "                                    genre  \n",
       "0             Animation|Children's|Comedy  \n",
       "108                      Action|Drama|War  \n",
       "315                                 Drama  \n",
       "523                             Drama|War  \n",
       "585                Action|Sci-Fi|Thriller  \n",
       "589                        Drama|Thriller  \n",
       "604                  Crime|Drama|Thriller  \n",
       "1192  Action|Adventure|Romance|Sci-Fi|War  \n",
       "1195                          Crime|Drama  \n",
       "1214                     Action|Drama|War  \n",
       "1245                       Comedy|Romance  \n",
       "1539       Action|Adventure|Comedy|Sci-Fi  \n",
       "1575     Crime|Film-Noir|Mystery|Thriller  \n",
       "1656                                Drama  \n",
       "1672                        Drama|Romance  \n",
       "2502               Action|Sci-Fi|Thriller  \n",
       "2559      Action|Adventure|Fantasy|Sci-Fi  \n",
       "2693                             Thriller  \n",
       "2789                         Comedy|Drama  \n",
       "2928                               Comedy  "
      ]
     },
     "execution_count": 26,
     "metadata": {},
     "output_type": "execute_result"
    }
   ],
   "source": [
    "movies[movies['movie_id'].isin([m[0] for m in movie_recommended])][['title','genre']]"
   ]
  },
  {
   "cell_type": "markdown",
   "metadata": {
    "canvas": {
     "comments": [],
     "componentType": "CodeCell",
     "copiedOriginId": null,
     "headerColor": "none",
     "id": "da48b3fe-1737-4a74-af86-08618a3b75ac",
     "isComponent": false,
     "name": "",
     "parents": []
    },
    "id": "HhlUzKWMjElE"
   },
   "source": [
    "## [ 루브릭 ]\n",
    "1. CSR matrix가 정상적으로 만들어졌다.\n",
    "* 사용자와 아이템 개수를 바탕으로 정확한 사이즈로 만들었다.<br>\n",
    "\n",
    "2. MF 모델이 정상적으로 훈련되어 그럴듯한 추천이 이루어졌다.\n",
    "* 사용자와 아이템 벡터 내적수치가 의미있게 형성되었다.<br>\n",
    "\n",
    "3. 비슷한 영화 찾기와 유저에게 추천하기의 과정이 정상적으로 진행되었다."
   ]
  },
  {
   "cell_type": "markdown",
   "metadata": {
    "canvas": {
     "comments": [],
     "componentType": "CodeCell",
     "copiedOriginId": null,
     "headerColor": "none",
     "id": "c3c38d9f-c203-4be7-a1b0-9c2b6d0b6a8b",
     "isComponent": false,
     "name": "",
     "parents": []
    },
    "id": "LQ3yE3wImOwT"
   },
   "source": [
    "## [ 회고 ]\n",
    "\n",
    "* !코랩에서 과제를 진행하였는데 도저히 원인을 할 수 없는 오류가 발생해 많은 시간을 허비하였는데, 오늘에서야 조멤버인 호원님이 코랩과 LMS에 설치된 implicit의 버전문제라는 것을 알려줘서 LMS로 코드를 옮겨 겨우 시간내 마무리를 할 수 있었음.\n",
    "<br><br>\n",
    "* 추천시스템에서 암묵적 평가의 활용에 대해 이해하게 되었음\n",
    "<br>\n",
    "* MF에 대해 이해하고 활용하는 방법에 대해 알게 되었는데 제대로 활용하기 위해서는 좀 더 다양한 적용을 통해 경험을 축적할 필요가 있음\n",
    "* CSR Matrix를 활용한 추천 시스템에 대해 이해하게 되었음."
   ]
  }
 ],
 "metadata": {
  "accelerator": "GPU",
  "canvas": {
   "colorPalette": [
    "inherit",
    "inherit",
    "inherit",
    "inherit",
    "inherit",
    "inherit",
    "inherit",
    "inherit",
    "inherit",
    "inherit"
   ],
   "parameters": []
  },
  "colab": {
   "collapsed_sections": [],
   "name": "[EX_15]RECOMMENDATA_IU.ipynb",
   "provenance": []
  },
  "gpuClass": "standard",
  "kernelspec": {
   "display_name": "Python 3.9 (Link)",
   "language": "python",
   "name": "python3"
  },
  "language_info": {
   "codemirror_mode": {
    "name": "ipython",
    "version": 3
   },
   "file_extension": ".py",
   "mimetype": "text/x-python",
   "name": "python",
   "nbconvert_exporter": "python",
   "pygments_lexer": "ipython3",
   "version": "3.9.7"
  },
  "widgets": {
   "application/vnd.jupyter.widget-state+json": {
    "3977c1dffd1d424e9ae14d2da77e3775": {
     "model_module": "@jupyter-widgets/controls",
     "model_module_version": "1.5.0",
     "model_name": "DescriptionStyleModel",
     "state": {
      "_model_module": "@jupyter-widgets/controls",
      "_model_module_version": "1.5.0",
      "_model_name": "DescriptionStyleModel",
      "_view_count": null,
      "_view_module": "@jupyter-widgets/base",
      "_view_module_version": "1.2.0",
      "_view_name": "StyleView",
      "description_width": ""
     }
    },
    "48604dedad85480482e26a66a6df1cc5": {
     "model_module": "@jupyter-widgets/controls",
     "model_module_version": "1.5.0",
     "model_name": "HTMLModel",
     "state": {
      "_dom_classes": [],
      "_model_module": "@jupyter-widgets/controls",
      "_model_module_version": "1.5.0",
      "_model_name": "HTMLModel",
      "_view_count": null,
      "_view_module": "@jupyter-widgets/controls",
      "_view_module_version": "1.5.0",
      "_view_name": "HTMLView",
      "description": "",
      "description_tooltip": null,
      "layout": "IPY_MODEL_a08e6d1ad2cd428db43b55a2188c5b0a",
      "placeholder": "​",
      "style": "IPY_MODEL_3977c1dffd1d424e9ae14d2da77e3775",
      "value": " 15/15 [00:37&lt;00:00,  2.09s/it]"
     }
    },
    "73515214d9d94eb78560a4179fb55c7d": {
     "model_module": "@jupyter-widgets/controls",
     "model_module_version": "1.5.0",
     "model_name": "HBoxModel",
     "state": {
      "_dom_classes": [],
      "_model_module": "@jupyter-widgets/controls",
      "_model_module_version": "1.5.0",
      "_model_name": "HBoxModel",
      "_view_count": null,
      "_view_module": "@jupyter-widgets/controls",
      "_view_module_version": "1.5.0",
      "_view_name": "HBoxView",
      "box_style": "",
      "children": [
       "IPY_MODEL_d4e2306c51264e5ba3569cac2478bf0b",
       "IPY_MODEL_8737f57c87a8484cbfef573870243650",
       "IPY_MODEL_48604dedad85480482e26a66a6df1cc5"
      ],
      "layout": "IPY_MODEL_9ad9271fe310415bb84181e37c46d8f6"
     }
    },
    "79a50dc3c06e474aaf166d8a58cce9a4": {
     "model_module": "@jupyter-widgets/controls",
     "model_module_version": "1.5.0",
     "model_name": "DescriptionStyleModel",
     "state": {
      "_model_module": "@jupyter-widgets/controls",
      "_model_module_version": "1.5.0",
      "_model_name": "DescriptionStyleModel",
      "_view_count": null,
      "_view_module": "@jupyter-widgets/base",
      "_view_module_version": "1.2.0",
      "_view_name": "StyleView",
      "description_width": ""
     }
    },
    "80c8b7decc0042c6b00917767f63a6e8": {
     "model_module": "@jupyter-widgets/controls",
     "model_module_version": "1.5.0",
     "model_name": "ProgressStyleModel",
     "state": {
      "_model_module": "@jupyter-widgets/controls",
      "_model_module_version": "1.5.0",
      "_model_name": "ProgressStyleModel",
      "_view_count": null,
      "_view_module": "@jupyter-widgets/base",
      "_view_module_version": "1.2.0",
      "_view_name": "StyleView",
      "bar_color": null,
      "description_width": ""
     }
    },
    "8737f57c87a8484cbfef573870243650": {
     "model_module": "@jupyter-widgets/controls",
     "model_module_version": "1.5.0",
     "model_name": "FloatProgressModel",
     "state": {
      "_dom_classes": [],
      "_model_module": "@jupyter-widgets/controls",
      "_model_module_version": "1.5.0",
      "_model_name": "FloatProgressModel",
      "_view_count": null,
      "_view_module": "@jupyter-widgets/controls",
      "_view_module_version": "1.5.0",
      "_view_name": "ProgressView",
      "bar_style": "success",
      "description": "",
      "description_tooltip": null,
      "layout": "IPY_MODEL_a5025b5d59244dc78c07d1868302846d",
      "max": 15,
      "min": 0,
      "orientation": "horizontal",
      "style": "IPY_MODEL_80c8b7decc0042c6b00917767f63a6e8",
      "value": 15
     }
    },
    "9ad9271fe310415bb84181e37c46d8f6": {
     "model_module": "@jupyter-widgets/base",
     "model_module_version": "1.2.0",
     "model_name": "LayoutModel",
     "state": {
      "_model_module": "@jupyter-widgets/base",
      "_model_module_version": "1.2.0",
      "_model_name": "LayoutModel",
      "_view_count": null,
      "_view_module": "@jupyter-widgets/base",
      "_view_module_version": "1.2.0",
      "_view_name": "LayoutView",
      "align_content": null,
      "align_items": null,
      "align_self": null,
      "border": null,
      "bottom": null,
      "display": null,
      "flex": null,
      "flex_flow": null,
      "grid_area": null,
      "grid_auto_columns": null,
      "grid_auto_flow": null,
      "grid_auto_rows": null,
      "grid_column": null,
      "grid_gap": null,
      "grid_row": null,
      "grid_template_areas": null,
      "grid_template_columns": null,
      "grid_template_rows": null,
      "height": null,
      "justify_content": null,
      "justify_items": null,
      "left": null,
      "margin": null,
      "max_height": null,
      "max_width": null,
      "min_height": null,
      "min_width": null,
      "object_fit": null,
      "object_position": null,
      "order": null,
      "overflow": null,
      "overflow_x": null,
      "overflow_y": null,
      "padding": null,
      "right": null,
      "top": null,
      "visibility": null,
      "width": null
     }
    },
    "a08e6d1ad2cd428db43b55a2188c5b0a": {
     "model_module": "@jupyter-widgets/base",
     "model_module_version": "1.2.0",
     "model_name": "LayoutModel",
     "state": {
      "_model_module": "@jupyter-widgets/base",
      "_model_module_version": "1.2.0",
      "_model_name": "LayoutModel",
      "_view_count": null,
      "_view_module": "@jupyter-widgets/base",
      "_view_module_version": "1.2.0",
      "_view_name": "LayoutView",
      "align_content": null,
      "align_items": null,
      "align_self": null,
      "border": null,
      "bottom": null,
      "display": null,
      "flex": null,
      "flex_flow": null,
      "grid_area": null,
      "grid_auto_columns": null,
      "grid_auto_flow": null,
      "grid_auto_rows": null,
      "grid_column": null,
      "grid_gap": null,
      "grid_row": null,
      "grid_template_areas": null,
      "grid_template_columns": null,
      "grid_template_rows": null,
      "height": null,
      "justify_content": null,
      "justify_items": null,
      "left": null,
      "margin": null,
      "max_height": null,
      "max_width": null,
      "min_height": null,
      "min_width": null,
      "object_fit": null,
      "object_position": null,
      "order": null,
      "overflow": null,
      "overflow_x": null,
      "overflow_y": null,
      "padding": null,
      "right": null,
      "top": null,
      "visibility": null,
      "width": null
     }
    },
    "a5025b5d59244dc78c07d1868302846d": {
     "model_module": "@jupyter-widgets/base",
     "model_module_version": "1.2.0",
     "model_name": "LayoutModel",
     "state": {
      "_model_module": "@jupyter-widgets/base",
      "_model_module_version": "1.2.0",
      "_model_name": "LayoutModel",
      "_view_count": null,
      "_view_module": "@jupyter-widgets/base",
      "_view_module_version": "1.2.0",
      "_view_name": "LayoutView",
      "align_content": null,
      "align_items": null,
      "align_self": null,
      "border": null,
      "bottom": null,
      "display": null,
      "flex": null,
      "flex_flow": null,
      "grid_area": null,
      "grid_auto_columns": null,
      "grid_auto_flow": null,
      "grid_auto_rows": null,
      "grid_column": null,
      "grid_gap": null,
      "grid_row": null,
      "grid_template_areas": null,
      "grid_template_columns": null,
      "grid_template_rows": null,
      "height": null,
      "justify_content": null,
      "justify_items": null,
      "left": null,
      "margin": null,
      "max_height": null,
      "max_width": null,
      "min_height": null,
      "min_width": null,
      "object_fit": null,
      "object_position": null,
      "order": null,
      "overflow": null,
      "overflow_x": null,
      "overflow_y": null,
      "padding": null,
      "right": null,
      "top": null,
      "visibility": null,
      "width": null
     }
    },
    "d4e2306c51264e5ba3569cac2478bf0b": {
     "model_module": "@jupyter-widgets/controls",
     "model_module_version": "1.5.0",
     "model_name": "HTMLModel",
     "state": {
      "_dom_classes": [],
      "_model_module": "@jupyter-widgets/controls",
      "_model_module_version": "1.5.0",
      "_model_name": "HTMLModel",
      "_view_count": null,
      "_view_module": "@jupyter-widgets/controls",
      "_view_module_version": "1.5.0",
      "_view_name": "HTMLView",
      "description": "",
      "description_tooltip": null,
      "layout": "IPY_MODEL_ecb3320db410493cb53eb6537aa7ea37",
      "placeholder": "​",
      "style": "IPY_MODEL_79a50dc3c06e474aaf166d8a58cce9a4",
      "value": "100%"
     }
    },
    "ecb3320db410493cb53eb6537aa7ea37": {
     "model_module": "@jupyter-widgets/base",
     "model_module_version": "1.2.0",
     "model_name": "LayoutModel",
     "state": {
      "_model_module": "@jupyter-widgets/base",
      "_model_module_version": "1.2.0",
      "_model_name": "LayoutModel",
      "_view_count": null,
      "_view_module": "@jupyter-widgets/base",
      "_view_module_version": "1.2.0",
      "_view_name": "LayoutView",
      "align_content": null,
      "align_items": null,
      "align_self": null,
      "border": null,
      "bottom": null,
      "display": null,
      "flex": null,
      "flex_flow": null,
      "grid_area": null,
      "grid_auto_columns": null,
      "grid_auto_flow": null,
      "grid_auto_rows": null,
      "grid_column": null,
      "grid_gap": null,
      "grid_row": null,
      "grid_template_areas": null,
      "grid_template_columns": null,
      "grid_template_rows": null,
      "height": null,
      "justify_content": null,
      "justify_items": null,
      "left": null,
      "margin": null,
      "max_height": null,
      "max_width": null,
      "min_height": null,
      "min_width": null,
      "object_fit": null,
      "object_position": null,
      "order": null,
      "overflow": null,
      "overflow_x": null,
      "overflow_y": null,
      "padding": null,
      "right": null,
      "top": null,
      "visibility": null,
      "width": null
     }
    }
   }
  }
 },
 "nbformat": 4,
 "nbformat_minor": 4
}
